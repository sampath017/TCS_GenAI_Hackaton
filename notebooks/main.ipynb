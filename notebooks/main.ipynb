{
   "cells": [
      {
         "cell_type": "code",
         "execution_count": 16,
         "id": "5b7bb3d8",
         "metadata": {},
         "outputs": [
            {
               "name": "stdout",
               "output_type": "stream",
               "text": [
                  "❌ Not in Colab\n"
               ]
            }
         ],
         "source": [
            "def in_colab():\n",
            "    try:\n",
            "        import google.colab\n",
            "        return True\n",
            "    except ImportError:\n",
            "        return False\n",
            "\n",
            "print(\"✅ Running in Colab\" if in_colab() else \"❌ Not in Colab\")"
         ]
      },
      {
         "cell_type": "code",
         "execution_count": 17,
         "id": "4eaee5be",
         "metadata": {},
         "outputs": [],
         "source": [
            "if in_colab():\n",
            "    !pip install -qU langchain-community"
         ]
      },
      {
         "cell_type": "code",
         "execution_count": null,
         "id": "7eb1132d",
         "metadata": {},
         "outputs": [],
         "source": [
            "import pandas as pd\n",
            "import sys\n",
            "from pathlib import Path\n",
            "\n",
            "if not in_colab():\n",
            "    sys.path.append((Path.cwd().parent/\"src\").resolve().as_posix())\n",
            "    import settings as s\n",
            "    \n",
            "import torch\n",
            "from langchain.embeddings import HuggingFaceEmbeddings\n",
            "from langchain.vectorstores import Chroma\n",
            "from langchain.text_splitter import RecursiveCharacterTextSplitter\n",
            "from langchain.chains import RetrievalQA\n",
            "from langchain.docstore.document import Document\n",
            "from langchain.document_loaders import PyPDFLoader\n",
            "from transformers import AutoModelForCausalLM, AutoTokenizer, pipeline\n",
            "from huggingface_hub import login\n",
            "from dotenv import load_dotenv\n",
            "import os"
         ]
      },
      {
         "cell_type": "code",
         "execution_count": null,
         "id": "504858d5",
         "metadata": {},
         "outputs": [],
         "source": [
            "# load .env variables\n",
            "load_dotenv()\n",
            "\n",
            "# fetch token\n",
            "hf_token = os.getenv(\"HF_TOKEN\")\n",
            "\n",
            "# login with token\n",
            "login(hf_token)"
         ]
      },
      {
         "cell_type": "markdown",
         "id": "28e06adc",
         "metadata": {},
         "source": [
            "# Data"
         ]
      },
      {
         "cell_type": "code",
         "execution_count": 3,
         "id": "3e63c46f",
         "metadata": {},
         "outputs": [],
         "source": [
            "# Reload all CSVs\n",
            "purchases_df = pd.read_csv(s.data_root_path / \"purchases.csv\")\n",
            "inventory_df = pd.read_csv(s.data_root_path / \"raw_material_inventory.csv\")\n",
            "bom_df = pd.read_csv(s.data_root_path / \"bill_of_materials.csv\")\n",
            "production_schedule_df = pd.read_csv(s.data_root_path / \"production_schedule.csv\")\n",
            "finished_goods_inventory_df = pd.read_csv(s.data_root_path / \"finished_goods_inventory.csv\")"
         ]
      },
      {
         "cell_type": "code",
         "execution_count": 4,
         "id": "1fcabd50",
         "metadata": {},
         "outputs": [
            {
               "data": {
                  "text/html": [
                     "<div>\n",
                     "<style scoped>\n",
                     "    .dataframe tbody tr th:only-of-type {\n",
                     "        vertical-align: middle;\n",
                     "    }\n",
                     "\n",
                     "    .dataframe tbody tr th {\n",
                     "        vertical-align: top;\n",
                     "    }\n",
                     "\n",
                     "    .dataframe thead th {\n",
                     "        text-align: right;\n",
                     "    }\n",
                     "</style>\n",
                     "<table border=\"1\" class=\"dataframe\">\n",
                     "  <thead>\n",
                     "    <tr style=\"text-align: right;\">\n",
                     "      <th></th>\n",
                     "      <th>po_id</th>\n",
                     "      <th>supplier</th>\n",
                     "      <th>item_name</th>\n",
                     "      <th>quantity</th>\n",
                     "      <th>order_date</th>\n",
                     "      <th>delivery_date</th>\n",
                     "    </tr>\n",
                     "  </thead>\n",
                     "  <tbody>\n",
                     "    <tr>\n",
                     "      <th>0</th>\n",
                     "      <td>1</td>\n",
                     "      <td>SteelCorp</td>\n",
                     "      <td>Glass Bottles</td>\n",
                     "      <td>427</td>\n",
                     "      <td>2020-01-01 00:00:00</td>\n",
                     "      <td>2020-01-05 00:00:00</td>\n",
                     "    </tr>\n",
                     "    <tr>\n",
                     "      <th>1</th>\n",
                     "      <td>2</td>\n",
                     "      <td>FastenIt</td>\n",
                     "      <td>Nylon Granules</td>\n",
                     "      <td>435</td>\n",
                     "      <td>2020-01-01 01:00:00</td>\n",
                     "      <td>2020-01-05 01:00:00</td>\n",
                     "    </tr>\n",
                     "    <tr>\n",
                     "      <th>2</th>\n",
                     "      <td>3</td>\n",
                     "      <td>PolyPlast</td>\n",
                     "      <td>Diodes</td>\n",
                     "      <td>215</td>\n",
                     "      <td>2020-01-01 02:00:00</td>\n",
                     "      <td>2020-01-05 02:00:00</td>\n",
                     "    </tr>\n",
                     "    <tr>\n",
                     "      <th>3</th>\n",
                     "      <td>4</td>\n",
                     "      <td>SteelCorp</td>\n",
                     "      <td>Concrete Blocks</td>\n",
                     "      <td>138</td>\n",
                     "      <td>2020-01-01 03:00:00</td>\n",
                     "      <td>2020-01-05 03:00:00</td>\n",
                     "    </tr>\n",
                     "    <tr>\n",
                     "      <th>4</th>\n",
                     "      <td>5</td>\n",
                     "      <td>FastenIt</td>\n",
                     "      <td>Screws</td>\n",
                     "      <td>195</td>\n",
                     "      <td>2020-01-01 04:00:00</td>\n",
                     "      <td>2020-01-05 04:00:00</td>\n",
                     "    </tr>\n",
                     "    <tr>\n",
                     "      <th>...</th>\n",
                     "      <td>...</td>\n",
                     "      <td>...</td>\n",
                     "      <td>...</td>\n",
                     "      <td>...</td>\n",
                     "      <td>...</td>\n",
                     "      <td>...</td>\n",
                     "    </tr>\n",
                     "    <tr>\n",
                     "      <th>49995</th>\n",
                     "      <td>49996</td>\n",
                     "      <td>SteelCorp</td>\n",
                     "      <td>Hydrochloric Acid</td>\n",
                     "      <td>156</td>\n",
                     "      <td>2025-09-14 03:00:00</td>\n",
                     "      <td>2025-09-18 03:00:00</td>\n",
                     "    </tr>\n",
                     "    <tr>\n",
                     "      <th>49996</th>\n",
                     "      <td>49997</td>\n",
                     "      <td>PolyPlast</td>\n",
                     "      <td>Jute Bags</td>\n",
                     "      <td>379</td>\n",
                     "      <td>2025-09-14 04:00:00</td>\n",
                     "      <td>2025-09-18 04:00:00</td>\n",
                     "    </tr>\n",
                     "    <tr>\n",
                     "      <th>49997</th>\n",
                     "      <td>49998</td>\n",
                     "      <td>SteelCorp</td>\n",
                     "      <td>Acrylic Sheets</td>\n",
                     "      <td>470</td>\n",
                     "      <td>2025-09-14 05:00:00</td>\n",
                     "      <td>2025-09-18 05:00:00</td>\n",
                     "    </tr>\n",
                     "    <tr>\n",
                     "      <th>49998</th>\n",
                     "      <td>49999</td>\n",
                     "      <td>PolyPlast</td>\n",
                     "      <td>Springs</td>\n",
                     "      <td>205</td>\n",
                     "      <td>2025-09-14 06:00:00</td>\n",
                     "      <td>2025-09-18 06:00:00</td>\n",
                     "    </tr>\n",
                     "    <tr>\n",
                     "      <th>49999</th>\n",
                     "      <td>50000</td>\n",
                     "      <td>SteelCorp</td>\n",
                     "      <td>Nuts</td>\n",
                     "      <td>142</td>\n",
                     "      <td>2025-09-14 07:00:00</td>\n",
                     "      <td>2025-09-18 07:00:00</td>\n",
                     "    </tr>\n",
                     "  </tbody>\n",
                     "</table>\n",
                     "<p>50000 rows × 6 columns</p>\n",
                     "</div>"
                  ],
                  "text/plain": [
                     "       po_id   supplier          item_name  quantity           order_date  \\\n",
                     "0          1  SteelCorp      Glass Bottles       427  2020-01-01 00:00:00   \n",
                     "1          2   FastenIt     Nylon Granules       435  2020-01-01 01:00:00   \n",
                     "2          3  PolyPlast             Diodes       215  2020-01-01 02:00:00   \n",
                     "3          4  SteelCorp    Concrete Blocks       138  2020-01-01 03:00:00   \n",
                     "4          5   FastenIt             Screws       195  2020-01-01 04:00:00   \n",
                     "...      ...        ...                ...       ...                  ...   \n",
                     "49995  49996  SteelCorp  Hydrochloric Acid       156  2025-09-14 03:00:00   \n",
                     "49996  49997  PolyPlast          Jute Bags       379  2025-09-14 04:00:00   \n",
                     "49997  49998  SteelCorp     Acrylic Sheets       470  2025-09-14 05:00:00   \n",
                     "49998  49999  PolyPlast            Springs       205  2025-09-14 06:00:00   \n",
                     "49999  50000  SteelCorp               Nuts       142  2025-09-14 07:00:00   \n",
                     "\n",
                     "             delivery_date  \n",
                     "0      2020-01-05 00:00:00  \n",
                     "1      2020-01-05 01:00:00  \n",
                     "2      2020-01-05 02:00:00  \n",
                     "3      2020-01-05 03:00:00  \n",
                     "4      2020-01-05 04:00:00  \n",
                     "...                    ...  \n",
                     "49995  2025-09-18 03:00:00  \n",
                     "49996  2025-09-18 04:00:00  \n",
                     "49997  2025-09-18 05:00:00  \n",
                     "49998  2025-09-18 06:00:00  \n",
                     "49999  2025-09-18 07:00:00  \n",
                     "\n",
                     "[50000 rows x 6 columns]"
                  ]
               },
               "execution_count": 4,
               "metadata": {},
               "output_type": "execute_result"
            }
         ],
         "source": [
            "purchases_df"
         ]
      },
      {
         "cell_type": "code",
         "execution_count": 5,
         "id": "2f81c973",
         "metadata": {},
         "outputs": [
            {
               "data": {
                  "text/html": [
                     "<div>\n",
                     "<style scoped>\n",
                     "    .dataframe tbody tr th:only-of-type {\n",
                     "        vertical-align: middle;\n",
                     "    }\n",
                     "\n",
                     "    .dataframe tbody tr th {\n",
                     "        vertical-align: top;\n",
                     "    }\n",
                     "\n",
                     "    .dataframe thead th {\n",
                     "        text-align: right;\n",
                     "    }\n",
                     "</style>\n",
                     "<table border=\"1\" class=\"dataframe\">\n",
                     "  <thead>\n",
                     "    <tr style=\"text-align: right;\">\n",
                     "      <th></th>\n",
                     "      <th>item_id</th>\n",
                     "      <th>item_name</th>\n",
                     "      <th>category</th>\n",
                     "      <th>stock_level</th>\n",
                     "      <th>reorder_point</th>\n",
                     "      <th>lead_time_days</th>\n",
                     "      <th>supplier</th>\n",
                     "    </tr>\n",
                     "  </thead>\n",
                     "  <tbody>\n",
                     "    <tr>\n",
                     "      <th>0</th>\n",
                     "      <td>1</td>\n",
                     "      <td>Steel Rods</td>\n",
                     "      <td>Raw Material</td>\n",
                     "      <td>368</td>\n",
                     "      <td>113</td>\n",
                     "      <td>10</td>\n",
                     "      <td>BoxMakers</td>\n",
                     "    </tr>\n",
                     "    <tr>\n",
                     "      <th>1</th>\n",
                     "      <td>2</td>\n",
                     "      <td>Aluminum Sheets</td>\n",
                     "      <td>Raw Material</td>\n",
                     "      <td>687</td>\n",
                     "      <td>126</td>\n",
                     "      <td>6</td>\n",
                     "      <td>BoxMakers</td>\n",
                     "    </tr>\n",
                     "    <tr>\n",
                     "      <th>2</th>\n",
                     "      <td>3</td>\n",
                     "      <td>Copper Wire</td>\n",
                     "      <td>Raw Material</td>\n",
                     "      <td>260</td>\n",
                     "      <td>242</td>\n",
                     "      <td>11</td>\n",
                     "      <td>SteelCorp</td>\n",
                     "    </tr>\n",
                     "    <tr>\n",
                     "      <th>3</th>\n",
                     "      <td>4</td>\n",
                     "      <td>Brass Fittings</td>\n",
                     "      <td>Raw Material</td>\n",
                     "      <td>651</td>\n",
                     "      <td>150</td>\n",
                     "      <td>10</td>\n",
                     "      <td>PolyPlast</td>\n",
                     "    </tr>\n",
                     "    <tr>\n",
                     "      <th>4</th>\n",
                     "      <td>5</td>\n",
                     "      <td>Iron Ingots</td>\n",
                     "      <td>Raw Material</td>\n",
                     "      <td>796</td>\n",
                     "      <td>120</td>\n",
                     "      <td>8</td>\n",
                     "      <td>PolyPlast</td>\n",
                     "    </tr>\n",
                     "    <tr>\n",
                     "      <th>...</th>\n",
                     "      <td>...</td>\n",
                     "      <td>...</td>\n",
                     "      <td>...</td>\n",
                     "      <td>...</td>\n",
                     "      <td>...</td>\n",
                     "      <td>...</td>\n",
                     "      <td>...</td>\n",
                     "    </tr>\n",
                     "    <tr>\n",
                     "      <th>85</th>\n",
                     "      <td>86</td>\n",
                     "      <td>Springs</td>\n",
                     "      <td>Raw Material</td>\n",
                     "      <td>710</td>\n",
                     "      <td>221</td>\n",
                     "      <td>6</td>\n",
                     "      <td>FastenIt</td>\n",
                     "    </tr>\n",
                     "    <tr>\n",
                     "      <th>86</th>\n",
                     "      <td>87</td>\n",
                     "      <td>Bearings</td>\n",
                     "      <td>Raw Material</td>\n",
                     "      <td>537</td>\n",
                     "      <td>241</td>\n",
                     "      <td>10</td>\n",
                     "      <td>PolyPlast</td>\n",
                     "    </tr>\n",
                     "    <tr>\n",
                     "      <th>87</th>\n",
                     "      <td>88</td>\n",
                     "      <td>Pins</td>\n",
                     "      <td>Raw Material</td>\n",
                     "      <td>213</td>\n",
                     "      <td>137</td>\n",
                     "      <td>13</td>\n",
                     "      <td>SteelCorp</td>\n",
                     "    </tr>\n",
                     "    <tr>\n",
                     "      <th>88</th>\n",
                     "      <td>89</td>\n",
                     "      <td>Clamps</td>\n",
                     "      <td>Raw Material</td>\n",
                     "      <td>488</td>\n",
                     "      <td>287</td>\n",
                     "      <td>9</td>\n",
                     "      <td>BoxMakers</td>\n",
                     "    </tr>\n",
                     "    <tr>\n",
                     "      <th>89</th>\n",
                     "      <td>90</td>\n",
                     "      <td>Seals</td>\n",
                     "      <td>Raw Material</td>\n",
                     "      <td>485</td>\n",
                     "      <td>157</td>\n",
                     "      <td>8</td>\n",
                     "      <td>BoxMakers</td>\n",
                     "    </tr>\n",
                     "  </tbody>\n",
                     "</table>\n",
                     "<p>90 rows × 7 columns</p>\n",
                     "</div>"
                  ],
                  "text/plain": [
                     "    item_id        item_name      category  stock_level  reorder_point  \\\n",
                     "0         1       Steel Rods  Raw Material          368            113   \n",
                     "1         2  Aluminum Sheets  Raw Material          687            126   \n",
                     "2         3      Copper Wire  Raw Material          260            242   \n",
                     "3         4   Brass Fittings  Raw Material          651            150   \n",
                     "4         5      Iron Ingots  Raw Material          796            120   \n",
                     "..      ...              ...           ...          ...            ...   \n",
                     "85       86          Springs  Raw Material          710            221   \n",
                     "86       87         Bearings  Raw Material          537            241   \n",
                     "87       88             Pins  Raw Material          213            137   \n",
                     "88       89           Clamps  Raw Material          488            287   \n",
                     "89       90            Seals  Raw Material          485            157   \n",
                     "\n",
                     "    lead_time_days   supplier  \n",
                     "0               10  BoxMakers  \n",
                     "1                6  BoxMakers  \n",
                     "2               11  SteelCorp  \n",
                     "3               10  PolyPlast  \n",
                     "4                8  PolyPlast  \n",
                     "..             ...        ...  \n",
                     "85               6   FastenIt  \n",
                     "86              10  PolyPlast  \n",
                     "87              13  SteelCorp  \n",
                     "88               9  BoxMakers  \n",
                     "89               8  BoxMakers  \n",
                     "\n",
                     "[90 rows x 7 columns]"
                  ]
               },
               "execution_count": 5,
               "metadata": {},
               "output_type": "execute_result"
            }
         ],
         "source": [
            "inventory_df"
         ]
      },
      {
         "cell_type": "code",
         "execution_count": 6,
         "id": "927e5d15",
         "metadata": {},
         "outputs": [
            {
               "data": {
                  "text/html": [
                     "<div>\n",
                     "<style scoped>\n",
                     "    .dataframe tbody tr th:only-of-type {\n",
                     "        vertical-align: middle;\n",
                     "    }\n",
                     "\n",
                     "    .dataframe tbody tr th {\n",
                     "        vertical-align: top;\n",
                     "    }\n",
                     "\n",
                     "    .dataframe thead th {\n",
                     "        text-align: right;\n",
                     "    }\n",
                     "</style>\n",
                     "<table border=\"1\" class=\"dataframe\">\n",
                     "  <thead>\n",
                     "    <tr style=\"text-align: right;\">\n",
                     "      <th></th>\n",
                     "      <th>product_name</th>\n",
                     "      <th>raw_material</th>\n",
                     "      <th>quantity_required</th>\n",
                     "    </tr>\n",
                     "  </thead>\n",
                     "  <tbody>\n",
                     "    <tr>\n",
                     "      <th>0</th>\n",
                     "      <td>Car Frame</td>\n",
                     "      <td>Screws</td>\n",
                     "      <td>9</td>\n",
                     "    </tr>\n",
                     "    <tr>\n",
                     "      <th>1</th>\n",
                     "      <td>Car Frame</td>\n",
                     "      <td>LED Chips</td>\n",
                     "      <td>9</td>\n",
                     "    </tr>\n",
                     "    <tr>\n",
                     "      <th>2</th>\n",
                     "      <td>Car Frame</td>\n",
                     "      <td>Sodium Hydroxide</td>\n",
                     "      <td>6</td>\n",
                     "    </tr>\n",
                     "    <tr>\n",
                     "      <th>3</th>\n",
                     "      <td>Plastic Bottle</td>\n",
                     "      <td>Rivets</td>\n",
                     "      <td>4</td>\n",
                     "    </tr>\n",
                     "    <tr>\n",
                     "      <th>4</th>\n",
                     "      <td>Plastic Bottle</td>\n",
                     "      <td>Polycarbonate Pellets</td>\n",
                     "      <td>6</td>\n",
                     "    </tr>\n",
                     "    <tr>\n",
                     "      <th>5</th>\n",
                     "      <td>Plastic Bottle</td>\n",
                     "      <td>Capacitors</td>\n",
                     "      <td>3</td>\n",
                     "    </tr>\n",
                     "    <tr>\n",
                     "      <th>6</th>\n",
                     "      <td>Furniture Panel</td>\n",
                     "      <td>Nylon Granules</td>\n",
                     "      <td>6</td>\n",
                     "    </tr>\n",
                     "    <tr>\n",
                     "      <th>7</th>\n",
                     "      <td>Furniture Panel</td>\n",
                     "      <td>Screws</td>\n",
                     "      <td>6</td>\n",
                     "    </tr>\n",
                     "    <tr>\n",
                     "      <th>8</th>\n",
                     "      <td>Furniture Panel</td>\n",
                     "      <td>Polycarbonate Pellets</td>\n",
                     "      <td>5</td>\n",
                     "    </tr>\n",
                     "    <tr>\n",
                     "      <th>9</th>\n",
                     "      <td>Engine Block</td>\n",
                     "      <td>Sand</td>\n",
                     "      <td>5</td>\n",
                     "    </tr>\n",
                     "    <tr>\n",
                     "      <th>10</th>\n",
                     "      <td>Engine Block</td>\n",
                     "      <td>Benzene</td>\n",
                     "      <td>6</td>\n",
                     "    </tr>\n",
                     "    <tr>\n",
                     "      <th>11</th>\n",
                     "      <td>Engine Block</td>\n",
                     "      <td>Wheat Flour</td>\n",
                     "      <td>7</td>\n",
                     "    </tr>\n",
                     "    <tr>\n",
                     "      <th>12</th>\n",
                     "      <td>Packaged Kit</td>\n",
                     "      <td>Coffee Beans</td>\n",
                     "      <td>2</td>\n",
                     "    </tr>\n",
                     "    <tr>\n",
                     "      <th>13</th>\n",
                     "      <td>Packaged Kit</td>\n",
                     "      <td>Gypsum Boards</td>\n",
                     "      <td>9</td>\n",
                     "    </tr>\n",
                     "    <tr>\n",
                     "      <th>14</th>\n",
                     "      <td>Packaged Kit</td>\n",
                     "      <td>Silicone Oil</td>\n",
                     "      <td>2</td>\n",
                     "    </tr>\n",
                     "  </tbody>\n",
                     "</table>\n",
                     "</div>"
                  ],
                  "text/plain": [
                     "       product_name           raw_material  quantity_required\n",
                     "0         Car Frame                 Screws                  9\n",
                     "1         Car Frame              LED Chips                  9\n",
                     "2         Car Frame       Sodium Hydroxide                  6\n",
                     "3    Plastic Bottle                 Rivets                  4\n",
                     "4    Plastic Bottle  Polycarbonate Pellets                  6\n",
                     "5    Plastic Bottle             Capacitors                  3\n",
                     "6   Furniture Panel         Nylon Granules                  6\n",
                     "7   Furniture Panel                 Screws                  6\n",
                     "8   Furniture Panel  Polycarbonate Pellets                  5\n",
                     "9      Engine Block                   Sand                  5\n",
                     "10     Engine Block                Benzene                  6\n",
                     "11     Engine Block            Wheat Flour                  7\n",
                     "12     Packaged Kit           Coffee Beans                  2\n",
                     "13     Packaged Kit          Gypsum Boards                  9\n",
                     "14     Packaged Kit           Silicone Oil                  2"
                  ]
               },
               "execution_count": 6,
               "metadata": {},
               "output_type": "execute_result"
            }
         ],
         "source": [
            "bom_df"
         ]
      },
      {
         "cell_type": "code",
         "execution_count": 7,
         "id": "d9b0340f",
         "metadata": {},
         "outputs": [
            {
               "data": {
                  "text/html": [
                     "<div>\n",
                     "<style scoped>\n",
                     "    .dataframe tbody tr th:only-of-type {\n",
                     "        vertical-align: middle;\n",
                     "    }\n",
                     "\n",
                     "    .dataframe tbody tr th {\n",
                     "        vertical-align: top;\n",
                     "    }\n",
                     "\n",
                     "    .dataframe thead th {\n",
                     "        text-align: right;\n",
                     "    }\n",
                     "</style>\n",
                     "<table border=\"1\" class=\"dataframe\">\n",
                     "  <thead>\n",
                     "    <tr style=\"text-align: right;\">\n",
                     "      <th></th>\n",
                     "      <th>prod_id</th>\n",
                     "      <th>product_name</th>\n",
                     "      <th>planned_start_date</th>\n",
                     "      <th>planned_end_date</th>\n",
                     "      <th>quantity</th>\n",
                     "      <th>actual_end_date</th>\n",
                     "    </tr>\n",
                     "  </thead>\n",
                     "  <tbody>\n",
                     "    <tr>\n",
                     "      <th>0</th>\n",
                     "      <td>1</td>\n",
                     "      <td>Plastic Bottle</td>\n",
                     "      <td>2025-09-01</td>\n",
                     "      <td>2025-09-05</td>\n",
                     "      <td>78</td>\n",
                     "      <td>2025-09-05</td>\n",
                     "    </tr>\n",
                     "    <tr>\n",
                     "      <th>1</th>\n",
                     "      <td>2</td>\n",
                     "      <td>Engine Block</td>\n",
                     "      <td>2025-09-03</td>\n",
                     "      <td>2025-09-07</td>\n",
                     "      <td>95</td>\n",
                     "      <td>2025-09-08</td>\n",
                     "    </tr>\n",
                     "    <tr>\n",
                     "      <th>2</th>\n",
                     "      <td>3</td>\n",
                     "      <td>Packaged Kit</td>\n",
                     "      <td>2025-09-05</td>\n",
                     "      <td>2025-09-09</td>\n",
                     "      <td>195</td>\n",
                     "      <td>2025-09-09</td>\n",
                     "    </tr>\n",
                     "    <tr>\n",
                     "      <th>3</th>\n",
                     "      <td>4</td>\n",
                     "      <td>Furniture Panel</td>\n",
                     "      <td>2025-09-07</td>\n",
                     "      <td>2025-09-11</td>\n",
                     "      <td>160</td>\n",
                     "      <td>2025-09-11</td>\n",
                     "    </tr>\n",
                     "    <tr>\n",
                     "      <th>4</th>\n",
                     "      <td>5</td>\n",
                     "      <td>Plastic Bottle</td>\n",
                     "      <td>2025-09-09</td>\n",
                     "      <td>2025-09-13</td>\n",
                     "      <td>102</td>\n",
                     "      <td>2025-09-16</td>\n",
                     "    </tr>\n",
                     "    <tr>\n",
                     "      <th>5</th>\n",
                     "      <td>6</td>\n",
                     "      <td>Engine Block</td>\n",
                     "      <td>2025-09-11</td>\n",
                     "      <td>2025-09-15</td>\n",
                     "      <td>87</td>\n",
                     "      <td>2025-09-16</td>\n",
                     "    </tr>\n",
                     "    <tr>\n",
                     "      <th>6</th>\n",
                     "      <td>7</td>\n",
                     "      <td>Car Frame</td>\n",
                     "      <td>2025-09-13</td>\n",
                     "      <td>2025-09-17</td>\n",
                     "      <td>193</td>\n",
                     "      <td>2025-09-20</td>\n",
                     "    </tr>\n",
                     "    <tr>\n",
                     "      <th>7</th>\n",
                     "      <td>8</td>\n",
                     "      <td>Engine Block</td>\n",
                     "      <td>2025-09-15</td>\n",
                     "      <td>2025-09-19</td>\n",
                     "      <td>149</td>\n",
                     "      <td>2025-09-22</td>\n",
                     "    </tr>\n",
                     "    <tr>\n",
                     "      <th>8</th>\n",
                     "      <td>9</td>\n",
                     "      <td>Packaged Kit</td>\n",
                     "      <td>2025-09-17</td>\n",
                     "      <td>2025-09-21</td>\n",
                     "      <td>143</td>\n",
                     "      <td>2025-09-21</td>\n",
                     "    </tr>\n",
                     "    <tr>\n",
                     "      <th>9</th>\n",
                     "      <td>10</td>\n",
                     "      <td>Plastic Bottle</td>\n",
                     "      <td>2025-09-19</td>\n",
                     "      <td>2025-09-23</td>\n",
                     "      <td>171</td>\n",
                     "      <td>2025-09-24</td>\n",
                     "    </tr>\n",
                     "  </tbody>\n",
                     "</table>\n",
                     "</div>"
                  ],
                  "text/plain": [
                     "   prod_id     product_name planned_start_date planned_end_date  quantity  \\\n",
                     "0        1   Plastic Bottle         2025-09-01       2025-09-05        78   \n",
                     "1        2     Engine Block         2025-09-03       2025-09-07        95   \n",
                     "2        3     Packaged Kit         2025-09-05       2025-09-09       195   \n",
                     "3        4  Furniture Panel         2025-09-07       2025-09-11       160   \n",
                     "4        5   Plastic Bottle         2025-09-09       2025-09-13       102   \n",
                     "5        6     Engine Block         2025-09-11       2025-09-15        87   \n",
                     "6        7        Car Frame         2025-09-13       2025-09-17       193   \n",
                     "7        8     Engine Block         2025-09-15       2025-09-19       149   \n",
                     "8        9     Packaged Kit         2025-09-17       2025-09-21       143   \n",
                     "9       10   Plastic Bottle         2025-09-19       2025-09-23       171   \n",
                     "\n",
                     "  actual_end_date  \n",
                     "0      2025-09-05  \n",
                     "1      2025-09-08  \n",
                     "2      2025-09-09  \n",
                     "3      2025-09-11  \n",
                     "4      2025-09-16  \n",
                     "5      2025-09-16  \n",
                     "6      2025-09-20  \n",
                     "7      2025-09-22  \n",
                     "8      2025-09-21  \n",
                     "9      2025-09-24  "
                  ]
               },
               "execution_count": 7,
               "metadata": {},
               "output_type": "execute_result"
            }
         ],
         "source": [
            "production_schedule_df"
         ]
      },
      {
         "cell_type": "code",
         "execution_count": 8,
         "id": "888d68fd",
         "metadata": {},
         "outputs": [
            {
               "data": {
                  "text/html": [
                     "<div>\n",
                     "<style scoped>\n",
                     "    .dataframe tbody tr th:only-of-type {\n",
                     "        vertical-align: middle;\n",
                     "    }\n",
                     "\n",
                     "    .dataframe tbody tr th {\n",
                     "        vertical-align: top;\n",
                     "    }\n",
                     "\n",
                     "    .dataframe thead th {\n",
                     "        text-align: right;\n",
                     "    }\n",
                     "</style>\n",
                     "<table border=\"1\" class=\"dataframe\">\n",
                     "  <thead>\n",
                     "    <tr style=\"text-align: right;\">\n",
                     "      <th></th>\n",
                     "      <th>fg_id</th>\n",
                     "      <th>product_name</th>\n",
                     "      <th>stock_level</th>\n",
                     "      <th>reorder_point</th>\n",
                     "    </tr>\n",
                     "  </thead>\n",
                     "  <tbody>\n",
                     "    <tr>\n",
                     "      <th>0</th>\n",
                     "      <td>1</td>\n",
                     "      <td>Car Frame</td>\n",
                     "      <td>170</td>\n",
                     "      <td>75</td>\n",
                     "    </tr>\n",
                     "    <tr>\n",
                     "      <th>1</th>\n",
                     "      <td>2</td>\n",
                     "      <td>Plastic Bottle</td>\n",
                     "      <td>348</td>\n",
                     "      <td>57</td>\n",
                     "    </tr>\n",
                     "    <tr>\n",
                     "      <th>2</th>\n",
                     "      <td>3</td>\n",
                     "      <td>Furniture Panel</td>\n",
                     "      <td>319</td>\n",
                     "      <td>67</td>\n",
                     "    </tr>\n",
                     "    <tr>\n",
                     "      <th>3</th>\n",
                     "      <td>4</td>\n",
                     "      <td>Engine Block</td>\n",
                     "      <td>325</td>\n",
                     "      <td>76</td>\n",
                     "    </tr>\n",
                     "    <tr>\n",
                     "      <th>4</th>\n",
                     "      <td>5</td>\n",
                     "      <td>Packaged Kit</td>\n",
                     "      <td>280</td>\n",
                     "      <td>125</td>\n",
                     "    </tr>\n",
                     "  </tbody>\n",
                     "</table>\n",
                     "</div>"
                  ],
                  "text/plain": [
                     "   fg_id     product_name  stock_level  reorder_point\n",
                     "0      1        Car Frame          170             75\n",
                     "1      2   Plastic Bottle          348             57\n",
                     "2      3  Furniture Panel          319             67\n",
                     "3      4     Engine Block          325             76\n",
                     "4      5     Packaged Kit          280            125"
                  ]
               },
               "execution_count": 8,
               "metadata": {},
               "output_type": "execute_result"
            }
         ],
         "source": [
            "finished_goods_inventory_df"
         ]
      },
      {
         "cell_type": "markdown",
         "id": "764cd9b7",
         "metadata": {},
         "source": [
            "# Model"
         ]
      },
      {
         "cell_type": "code",
         "execution_count": 20,
         "id": "c27ea6b0",
         "metadata": {},
         "outputs": [
            {
               "data": {
                  "application/vnd.jupyter.widget-view+json": {
                     "model_id": "0af39272a96e4a849b68be32ea78b3a7",
                     "version_major": 2,
                     "version_minor": 0
                  },
                  "text/plain": [
                     "modules.json:   0%|          | 0.00/385 [00:00<?, ?B/s]"
                  ]
               },
               "metadata": {},
               "output_type": "display_data"
            },
            {
               "data": {
                  "application/vnd.jupyter.widget-view+json": {
                     "model_id": "88d3d25bcced49cf822bd98d95422f5b",
                     "version_major": 2,
                     "version_minor": 0
                  },
                  "text/plain": [
                     "README.md: 0.00B [00:00, ?B/s]"
                  ]
               },
               "metadata": {},
               "output_type": "display_data"
            },
            {
               "data": {
                  "application/vnd.jupyter.widget-view+json": {
                     "model_id": "03a3cb8ff2aa4acb88d01c404a8b9a9f",
                     "version_major": 2,
                     "version_minor": 0
                  },
                  "text/plain": [
                     "sentence_bert_config.json:   0%|          | 0.00/57.0 [00:00<?, ?B/s]"
                  ]
               },
               "metadata": {},
               "output_type": "display_data"
            },
            {
               "data": {
                  "application/vnd.jupyter.widget-view+json": {
                     "model_id": "6ce87cde884340859211e6674f0ba1e7",
                     "version_major": 2,
                     "version_minor": 0
                  },
                  "text/plain": [
                     "config.json:   0%|          | 0.00/619 [00:00<?, ?B/s]"
                  ]
               },
               "metadata": {},
               "output_type": "display_data"
            },
            {
               "data": {
                  "application/vnd.jupyter.widget-view+json": {
                     "model_id": "977da5123d374f4288a3c8c47319531f",
                     "version_major": 2,
                     "version_minor": 0
                  },
                  "text/plain": [
                     "model.safetensors:   0%|          | 0.00/670M [00:00<?, ?B/s]"
                  ]
               },
               "metadata": {},
               "output_type": "display_data"
            },
            {
               "data": {
                  "application/vnd.jupyter.widget-view+json": {
                     "model_id": "6c5df8d2befb4b3e96e99ab305dd7354",
                     "version_major": 2,
                     "version_minor": 0
                  },
                  "text/plain": [
                     "tokenizer_config.json:   0%|          | 0.00/342 [00:00<?, ?B/s]"
                  ]
               },
               "metadata": {},
               "output_type": "display_data"
            },
            {
               "data": {
                  "application/vnd.jupyter.widget-view+json": {
                     "model_id": "7f2cab4344ca4f82b4ff0f3e4580d6fa",
                     "version_major": 2,
                     "version_minor": 0
                  },
                  "text/plain": [
                     "vocab.txt: 0.00B [00:00, ?B/s]"
                  ]
               },
               "metadata": {},
               "output_type": "display_data"
            },
            {
               "data": {
                  "application/vnd.jupyter.widget-view+json": {
                     "model_id": "0b4871b7e1b742778cc07e21acb7568d",
                     "version_major": 2,
                     "version_minor": 0
                  },
                  "text/plain": [
                     "tokenizer.json: 0.00B [00:00, ?B/s]"
                  ]
               },
               "metadata": {},
               "output_type": "display_data"
            },
            {
               "data": {
                  "application/vnd.jupyter.widget-view+json": {
                     "model_id": "fe73054251cd42e5b03e4c08de5db027",
                     "version_major": 2,
                     "version_minor": 0
                  },
                  "text/plain": [
                     "special_tokens_map.json:   0%|          | 0.00/125 [00:00<?, ?B/s]"
                  ]
               },
               "metadata": {},
               "output_type": "display_data"
            },
            {
               "data": {
                  "application/vnd.jupyter.widget-view+json": {
                     "model_id": "1fed560087cc4faab160db769a19eec9",
                     "version_major": 2,
                     "version_minor": 0
                  },
                  "text/plain": [
                     "config.json:   0%|          | 0.00/191 [00:00<?, ?B/s]"
                  ]
               },
               "metadata": {},
               "output_type": "display_data"
            },
            {
               "data": {
                  "text/plain": [
                     "HuggingFaceEmbeddings(client=SentenceTransformer(\n",
                     "  (0): Transformer({'max_seq_length': 512, 'do_lower_case': False, 'architecture': 'BertModel'})\n",
                     "  (1): Pooling({'word_embedding_dimension': 1024, 'pooling_mode_cls_token': False, 'pooling_mode_mean_tokens': True, 'pooling_mode_max_tokens': False, 'pooling_mode_mean_sqrt_len_tokens': False, 'pooling_mode_weightedmean_tokens': False, 'pooling_mode_lasttoken': False, 'include_prompt': True})\n",
                     "  (2): Normalize()\n",
                     "), model_name='thenlper/gte-large', cache_folder=None, model_kwargs={}, encode_kwargs={}, multi_process=False, show_progress=False)"
                  ]
               },
               "execution_count": 20,
               "metadata": {},
               "output_type": "execute_result"
            }
         ],
         "source": [
            "embedding_model = HuggingFaceEmbeddings(model_name=\"thenlper/gte-large\")\n",
            "embedding_model"
         ]
      },
      {
         "cell_type": "code",
         "execution_count": 22,
         "id": "24a56abc",
         "metadata": {},
         "outputs": [
            {
               "data": {
                  "text/plain": [
                     "[Document(metadata={'producer': 'Enhancv (https://www.enhancv.com)', 'creator': 'Enhancv', 'creationdate': '2025-09-01T18:42:24+00:00', 'moddate': '2025-09-02T00:18:28+05:30', 'ecv-data': '{\"_id\":\"68b5e3d211bab98ee9dca51d\",\"style\":{\"background\":\"b11locked\",\"colors\":[\"#000000\",\"#6F7878\"],\"columnLayoutOption\":1,\"fontBody\":\"interui\",\"fontHeading\":\"rubik\",\"fontSize\":2,\"headerExtraSpacing\":0,\"isMetaDataDisabled\":false,\"layout\":\"ivyleague\",\"layoutSize\":\"medium\",\"lineHeightOption\":0,\"marginOption\":0,\"pageMarginOption\":0,\"record\":\"ResumeStyle\"},\"header\":{\"contacts\":\"\",\"customHeight\":188,\"email\":\"sampathkovvali@gmail.com\",\"extraField\":\"\",\"extraLink\":\"\",\"height\":77,\"link\":\"github.com/sampath017\",\"location\":\"India\",\"name\":\"Sampath Kovvali\",\"phone\":\"+91 9441682374\",\"photo\":\"\",\"dateOfBirth\":\"\",\"nationality\":\"\",\"photoStyle\":\"round\",\"record\":\"Header\",\"showEmail\":true,\"showExtraField\":false,\"showExtraLink\":false,\"showLink\":true,\"showLocation\":true,\"showPhone\":true,\"showPhoto\":false,\"showTitle\":true,\"showDateOfBirth\":false,\"showNationality\":false,\"title\":\"Data Scientist\",\"uppercaseName\":true},\"sections\":[{\"__t\":\"SummarySection\",\"column\":0,\"enabled\":true,\"height\":33,\"items\":[{\"height\":64,\"id\":\"31dl6znpgq\",\"record\":\"SummaryItem\",\"alignment\":\"left\",\"text\":\"I am a Data Scientist with a firm background in Electrical and Electronics Engineering, equipped with robust programming and analytical skills. My current role at TCS involves developing AI solutions that enhance workflow efficiency and automate processes. I thrive on challenges and enjoy collaborating with teams to push innovation forward, building advanced applications that drive tangible results.\"}],\"name\":\"\",\"record\":\"SummarySection\",\"showTitle\":true},{\"__t\":\"ExperienceSection\",\"column\":0,\"enabled\":true,\"height\":33,\"items\":[{\"dateRange\":{\"fromMonth\":0,\"fromYear\":2023,\"isOngoing\":true,\"ongoingText\":\"\",\"record\":\"DateRange\",\"toMonth\":0,\"toYear\":1970},\"table\":{\"cols\":2,\"record\":\"TableItem\",\"rows\":[[\"<b>Project name</b>\",\"<b>Description</b>\"],[\"\",\"\"]]},\"height\":150,\"id\":\"cn9cxb9rqe\",\"record\":\"ExperienceItem\",\"alignment\":\"left\",\"bullets\":[\"Built a RAG application using LLaMA 3.2 11B Vision model for incident classification &amp; resolution.\",\"Implemented an LLM-based MOM generator for Teams meetings.\",\"Automated 5+ workflows with Python, Selenium, and FastAPI.\",\"Collaborated with cross-functional teams to enhance AI-driven features using state-of-the-art GenAI techniques.\"],\"companyLogo\":\"\",\"description\":\"Leading IT services and consulting company.\",\"link\":\"\",\"location\":\"India\",\"position\":\"Data Scientist\",\"showBullets\":true,\"showCompany\":true,\"showDateRange\":true,\"showDescription\":true,\"showLink\":false,\"showLocation\":true,\"showTable\":true,\"showTitle\":true,\"workplace\":\"Tata Consultancy Services (TCS)\"}],\"name\":\"\",\"record\":\"ExperienceSection\",\"showCompanyLogos\":false,\"timelineWidth\":136},{\"__t\":\"EducationSection\",\"column\":0,\"enabled\":true,\"height\":33,\"items\":[{\"dateRange\":{\"fromMonth\":6,\"fromYear\":2018,\"isOngoing\":false,\"ongoingText\":\"\",\"record\":\"DateRange\",\"toMonth\":6,\"toYear\":2022},\"height\":52,\"id\":\"6pfr88dfoj\",\"record\":\"EducationItem\",\"alignment\":\"left\",\"bullets\":[\"\"],\"companyLogo\":\"\",\"degree\":\"Bachelor of Technology\",\"gpa\":\"\",\"gpaText\":\"\",\"institution\":\"Raghu Engineering College\",\"location\":\"Visakhapatnam\",\"maxGpa\":\"\",\"showBullets\":false,\"showDateRange\":true,\"showGpa\":false,\"showInstitution\":true,\"showLocation\":true}],\"name\":\"\",\"record\":\"EducationSection\",\"showCompanyLogos\":false,\"timelineWidth\":136},{\"__t\":\"TechnologySection\",\"column\":1,\"enabled\":true,\"height\":33,\"items\":[{\"height\":28,\"id\":\"k8zjqkav64\",\"record\":\"TechnologyItem\",\"description\":\"\",\"showTitle\":true,\"tags\":[\"Python\",\"Pandas\",\"NumPy\",\"Java\",\"Node.js\"],\"title\":\"Programming Languages\"},{\"height\":28,\"id\":\"67jna045s7\",\"record\":\"TechnologyItem\",\"description\":\"\",\"showTitle\":true,\"tags\":[\"Flask\",\"FastAPI\",\"Pytorch\",\"ReactJS\"],\"title\":\"Frameworks &amp; Libraries\"},{\"height\":28,\"id\":\"vbkox86ncj\",\"record\":\"TechnologyItem\",\"description\":\"\",\"showTitle\":true,\"tags\":[\"Batch Scripting with UNIX Commands\",\"Selenium with python\",\"GenAI Techniques\"],\"title\":\"Automation &amp; Scripting\"},{\"height\":28,\"id\":\"pm8oqcoemn\",\"record\":\"TechnologyItem\",\"description\":\"\",\"showTitle\":true,\"tags\":[\"SQL\",\"PostgreSQL\"],\"title\":\"Databases\"},{\"height\":28,\"id\":\"j7vh6but0b\",\"record\":\"TechnologyItem\",\"description\":\"\",\"showTitle\":true,\"tags\":[\"Docker\",\"Linux\"],\"title\":\"Tools &amp; Technologies\"}],\"name\":\"\",\"record\":\"TechnologySection\",\"compactMode\":true,\"surroundingBorder\":false},{\"__t\":\"ActivitySection\",\"column\":0,\"enabled\":true,\"height\":33,\"items\":[{\"dateRange\":{\"fromMonth\":0,\"fromYear\":2023,\"isOngoing\":true,\"ongoingText\":\"\",\"record\":\"DateRange\",\"toMonth\":0,\"toYear\":1970},\"height\":114,\"id\":\"tlf1du31bd\",\"record\":\"ActivityItem\",\"alignment\":\"left\",\"bullets\":[\"Developed a lightweight PyTorch framework to streamline the training and logging of deep learning models.\",\"Showcased versatility in modifying model parameters for optimized performance.\"],\"description\":\"Project aimed at improving the efficiency of deep learning model management.\",\"link\":\"\",\"location\":\"Remote\",\"showBullets\":true,\"showDateRange\":true,\"showDescription\":true,\"showLink\":false,\"showLocation\":true,\"title\":\"QuickAI\"},{\"dateRange\":{\"fromMonth\":0,\"fromYear\":2023,\"isOngoing\":true,\"ongoingText\":\"\",\"record\":\"DateRange\",\"toMonth\":0,\"toYear\":1970},\"height\":114,\"id\":\"68df1pc88l\",\"record\":\"ActivityItem\",\"alignment\":\"left\",\"bullets\":[\"Created a playground for experimenting with various transformer models.\",\"Included features for text generation and modification.\"],\"description\":\"A platform for testing and training transformer models.\",\"link\":\"\",\"location\":\"Remote\",\"showBullets\":true,\"showDateRange\":true,\"showDescription\":true,\"showLink\":false,\"showLocation\":true,\"title\":\"GPT\"}],\"name\":\"\",\"record\":\"ActivitySection\"},{\"__t\":\"PassionSection\",\"column\":1,\"enabled\":true,\"height\":33,\"items\":[{\"height\":80,\"id\":\"tinz3x0266\",\"record\":\"PassionItem\",\"alignment\":\"left\",\"description\":\"Dedicated to exploring artificial intelligence and its applications in transforming industries.\",\"icon\":\"83-free-prize-award\",\"showDescription\":true,\"title\":\"Artificial Intelligence Enthusiast\"},{\"height\":80,\"id\":\"w829smc692\",\"record\":\"PassionItem\",\"alignment\":\"left\",\"description\":\"Enjoys understanding psychological principles to enhance personal well-being.\",\"icon\":\"09-free-flash\",\"showDescription\":true,\"title\":\"Psychology Interest\"},{\"height\":80,\"id\":\"hd2vxzf00i\",\"record\":\"PassionItem\",\"alignment\":\"left\",\"description\":\"Committed to maintaining fitness through regular exercising and healthy living.\",\"icon\":\"21-free-star\",\"showDescription\":true,\"title\":\"Fitness Advocate\"}],\"name\":\"\",\"record\":\"PassionSection\",\"showIcons\":true}],\"user\":\"68b5e3cb02d94b279d89d02c\"}', 'title': 'Sampath Kovvali Resume', 'source': 'C:\\\\Users\\\\sampath\\\\Dev\\\\TCS_GenAI_Hackaton\\\\data\\\\SampathKovvaliResume.pdf', 'total_pages': 1, 'page': 0, 'page_label': '1'}, page_content=':\\n:\\n:\\n:\\n:\\nSAMPA TH KOVV ALI\\nData Scientist\\n\\x0091 9441682374 sampathkovvali@gmail.com github.com/sampath017 India\\nSummary\\nI am a Data Scientist with a firm background in Electrical and Electronics Engineering, equipped with robust programming and analytical \\nskills. My current role at TCS involves developing AI solutions that enhance workflow efficiency and automate processes. I thrive on \\nchallenges and enjoy collaborating with teams to push innovation forward, building advanced applications that drive tangible results.\\nExperience\\nTata Consultancy Services \\x00TCS\\x00 India\\nData Scientist 01/2023 \\x00 Present\\nLeading IT services and consulting company.\\nBuilt a RAG application using LLaMA 3.2 11B Vision model for incident classification & resolution.\\nImplemented an LLM-based MOM generator for Teams meetings.\\nAutomated 5\\x00 workflows with Python, Selenium, and FastAPI.\\nCollaborated with cross-functional teams to enhance AI-driven features using state-of-the-art GenAI techniques.\\nEducation\\nRaghu Engineering College Visakhapatnam\\nBachelor of Technology 07/2018 \\x00 07/2022\\nSkills\\nProgramming Languages Python, Pandas, NumPy, Java, Node.js\\nFrameworks & Libraries Flask, FastAPI, Pytorch, ReactJS\\nAutomation & Scripting Batch Scripting with UNIX Commands, Selenium with python, GenAI Techniques\\nDatabases SQL, PostgreSQL\\nTools & Technologies Docker, Linux\\nProjects\\nQuickAI Remote\\n01/2023 \\x00 Present\\nProject aimed at improving the efficiency of deep learning model management.\\nDeveloped a lightweight PyTorch framework to streamline the training and logging of deep learning models.\\nShowcased versatility in modifying model parameters for optimized performance.\\nGPT Remote\\n01/2023 \\x00 Present\\nA platform for testing and training transformer models.\\nCreated a playground for experimenting with various transformer models.\\nIncluded features for text generation and modification.\\nInterests\\nArtificial Intelligence Enthusiast\\nDedicated to exploring artificial \\nintelligence and its applications in \\ntransforming industries.\\nPsychology Interest\\nEnjoys understanding psychological \\nprinciples to enhance personal well-\\nbeing.\\nFitness Advocate\\nCommitted to maintaining fitness \\nthrough regular exercising and healthy \\nliving.\\n•\\n•\\n•\\n•\\n•\\n•\\n•\\n•\\n* k s')]"
                  ]
               },
               "execution_count": 22,
               "metadata": {},
               "output_type": "execute_result"
            }
         ],
         "source": [
            "pdf_path = Path(\"/content/SampathKovvaliResume.pdf\") if in_colab() else s.data_root_path/\"SampathKovvaliResume.pdf\"\n",
            "loader = PyPDFLoader(pdf_path)\n",
            "docs = loader.load()\n",
            "docs"
         ]
      },
      {
         "cell_type": "code",
         "execution_count": 24,
         "id": "eca276b2",
         "metadata": {},
         "outputs": [
            {
               "data": {
                  "text/plain": [
                     "[Document(metadata={'producer': 'Enhancv (https://www.enhancv.com)', 'creator': 'Enhancv', 'creationdate': '2025-09-01T18:42:24+00:00', 'moddate': '2025-09-02T00:18:28+05:30', 'ecv-data': '{\"_id\":\"68b5e3d211bab98ee9dca51d\",\"style\":{\"background\":\"b11locked\",\"colors\":[\"#000000\",\"#6F7878\"],\"columnLayoutOption\":1,\"fontBody\":\"interui\",\"fontHeading\":\"rubik\",\"fontSize\":2,\"headerExtraSpacing\":0,\"isMetaDataDisabled\":false,\"layout\":\"ivyleague\",\"layoutSize\":\"medium\",\"lineHeightOption\":0,\"marginOption\":0,\"pageMarginOption\":0,\"record\":\"ResumeStyle\"},\"header\":{\"contacts\":\"\",\"customHeight\":188,\"email\":\"sampathkovvali@gmail.com\",\"extraField\":\"\",\"extraLink\":\"\",\"height\":77,\"link\":\"github.com/sampath017\",\"location\":\"India\",\"name\":\"Sampath Kovvali\",\"phone\":\"+91 9441682374\",\"photo\":\"\",\"dateOfBirth\":\"\",\"nationality\":\"\",\"photoStyle\":\"round\",\"record\":\"Header\",\"showEmail\":true,\"showExtraField\":false,\"showExtraLink\":false,\"showLink\":true,\"showLocation\":true,\"showPhone\":true,\"showPhoto\":false,\"showTitle\":true,\"showDateOfBirth\":false,\"showNationality\":false,\"title\":\"Data Scientist\",\"uppercaseName\":true},\"sections\":[{\"__t\":\"SummarySection\",\"column\":0,\"enabled\":true,\"height\":33,\"items\":[{\"height\":64,\"id\":\"31dl6znpgq\",\"record\":\"SummaryItem\",\"alignment\":\"left\",\"text\":\"I am a Data Scientist with a firm background in Electrical and Electronics Engineering, equipped with robust programming and analytical skills. My current role at TCS involves developing AI solutions that enhance workflow efficiency and automate processes. I thrive on challenges and enjoy collaborating with teams to push innovation forward, building advanced applications that drive tangible results.\"}],\"name\":\"\",\"record\":\"SummarySection\",\"showTitle\":true},{\"__t\":\"ExperienceSection\",\"column\":0,\"enabled\":true,\"height\":33,\"items\":[{\"dateRange\":{\"fromMonth\":0,\"fromYear\":2023,\"isOngoing\":true,\"ongoingText\":\"\",\"record\":\"DateRange\",\"toMonth\":0,\"toYear\":1970},\"table\":{\"cols\":2,\"record\":\"TableItem\",\"rows\":[[\"<b>Project name</b>\",\"<b>Description</b>\"],[\"\",\"\"]]},\"height\":150,\"id\":\"cn9cxb9rqe\",\"record\":\"ExperienceItem\",\"alignment\":\"left\",\"bullets\":[\"Built a RAG application using LLaMA 3.2 11B Vision model for incident classification &amp; resolution.\",\"Implemented an LLM-based MOM generator for Teams meetings.\",\"Automated 5+ workflows with Python, Selenium, and FastAPI.\",\"Collaborated with cross-functional teams to enhance AI-driven features using state-of-the-art GenAI techniques.\"],\"companyLogo\":\"\",\"description\":\"Leading IT services and consulting company.\",\"link\":\"\",\"location\":\"India\",\"position\":\"Data Scientist\",\"showBullets\":true,\"showCompany\":true,\"showDateRange\":true,\"showDescription\":true,\"showLink\":false,\"showLocation\":true,\"showTable\":true,\"showTitle\":true,\"workplace\":\"Tata Consultancy Services (TCS)\"}],\"name\":\"\",\"record\":\"ExperienceSection\",\"showCompanyLogos\":false,\"timelineWidth\":136},{\"__t\":\"EducationSection\",\"column\":0,\"enabled\":true,\"height\":33,\"items\":[{\"dateRange\":{\"fromMonth\":6,\"fromYear\":2018,\"isOngoing\":false,\"ongoingText\":\"\",\"record\":\"DateRange\",\"toMonth\":6,\"toYear\":2022},\"height\":52,\"id\":\"6pfr88dfoj\",\"record\":\"EducationItem\",\"alignment\":\"left\",\"bullets\":[\"\"],\"companyLogo\":\"\",\"degree\":\"Bachelor of Technology\",\"gpa\":\"\",\"gpaText\":\"\",\"institution\":\"Raghu Engineering College\",\"location\":\"Visakhapatnam\",\"maxGpa\":\"\",\"showBullets\":false,\"showDateRange\":true,\"showGpa\":false,\"showInstitution\":true,\"showLocation\":true}],\"name\":\"\",\"record\":\"EducationSection\",\"showCompanyLogos\":false,\"timelineWidth\":136},{\"__t\":\"TechnologySection\",\"column\":1,\"enabled\":true,\"height\":33,\"items\":[{\"height\":28,\"id\":\"k8zjqkav64\",\"record\":\"TechnologyItem\",\"description\":\"\",\"showTitle\":true,\"tags\":[\"Python\",\"Pandas\",\"NumPy\",\"Java\",\"Node.js\"],\"title\":\"Programming Languages\"},{\"height\":28,\"id\":\"67jna045s7\",\"record\":\"TechnologyItem\",\"description\":\"\",\"showTitle\":true,\"tags\":[\"Flask\",\"FastAPI\",\"Pytorch\",\"ReactJS\"],\"title\":\"Frameworks &amp; Libraries\"},{\"height\":28,\"id\":\"vbkox86ncj\",\"record\":\"TechnologyItem\",\"description\":\"\",\"showTitle\":true,\"tags\":[\"Batch Scripting with UNIX Commands\",\"Selenium with python\",\"GenAI Techniques\"],\"title\":\"Automation &amp; Scripting\"},{\"height\":28,\"id\":\"pm8oqcoemn\",\"record\":\"TechnologyItem\",\"description\":\"\",\"showTitle\":true,\"tags\":[\"SQL\",\"PostgreSQL\"],\"title\":\"Databases\"},{\"height\":28,\"id\":\"j7vh6but0b\",\"record\":\"TechnologyItem\",\"description\":\"\",\"showTitle\":true,\"tags\":[\"Docker\",\"Linux\"],\"title\":\"Tools &amp; Technologies\"}],\"name\":\"\",\"record\":\"TechnologySection\",\"compactMode\":true,\"surroundingBorder\":false},{\"__t\":\"ActivitySection\",\"column\":0,\"enabled\":true,\"height\":33,\"items\":[{\"dateRange\":{\"fromMonth\":0,\"fromYear\":2023,\"isOngoing\":true,\"ongoingText\":\"\",\"record\":\"DateRange\",\"toMonth\":0,\"toYear\":1970},\"height\":114,\"id\":\"tlf1du31bd\",\"record\":\"ActivityItem\",\"alignment\":\"left\",\"bullets\":[\"Developed a lightweight PyTorch framework to streamline the training and logging of deep learning models.\",\"Showcased versatility in modifying model parameters for optimized performance.\"],\"description\":\"Project aimed at improving the efficiency of deep learning model management.\",\"link\":\"\",\"location\":\"Remote\",\"showBullets\":true,\"showDateRange\":true,\"showDescription\":true,\"showLink\":false,\"showLocation\":true,\"title\":\"QuickAI\"},{\"dateRange\":{\"fromMonth\":0,\"fromYear\":2023,\"isOngoing\":true,\"ongoingText\":\"\",\"record\":\"DateRange\",\"toMonth\":0,\"toYear\":1970},\"height\":114,\"id\":\"68df1pc88l\",\"record\":\"ActivityItem\",\"alignment\":\"left\",\"bullets\":[\"Created a playground for experimenting with various transformer models.\",\"Included features for text generation and modification.\"],\"description\":\"A platform for testing and training transformer models.\",\"link\":\"\",\"location\":\"Remote\",\"showBullets\":true,\"showDateRange\":true,\"showDescription\":true,\"showLink\":false,\"showLocation\":true,\"title\":\"GPT\"}],\"name\":\"\",\"record\":\"ActivitySection\"},{\"__t\":\"PassionSection\",\"column\":1,\"enabled\":true,\"height\":33,\"items\":[{\"height\":80,\"id\":\"tinz3x0266\",\"record\":\"PassionItem\",\"alignment\":\"left\",\"description\":\"Dedicated to exploring artificial intelligence and its applications in transforming industries.\",\"icon\":\"83-free-prize-award\",\"showDescription\":true,\"title\":\"Artificial Intelligence Enthusiast\"},{\"height\":80,\"id\":\"w829smc692\",\"record\":\"PassionItem\",\"alignment\":\"left\",\"description\":\"Enjoys understanding psychological principles to enhance personal well-being.\",\"icon\":\"09-free-flash\",\"showDescription\":true,\"title\":\"Psychology Interest\"},{\"height\":80,\"id\":\"hd2vxzf00i\",\"record\":\"PassionItem\",\"alignment\":\"left\",\"description\":\"Committed to maintaining fitness through regular exercising and healthy living.\",\"icon\":\"21-free-star\",\"showDescription\":true,\"title\":\"Fitness Advocate\"}],\"name\":\"\",\"record\":\"PassionSection\",\"showIcons\":true}],\"user\":\"68b5e3cb02d94b279d89d02c\"}', 'title': 'Sampath Kovvali Resume', 'source': 'C:\\\\Users\\\\sampath\\\\Dev\\\\TCS_GenAI_Hackaton\\\\data\\\\SampathKovvaliResume.pdf', 'total_pages': 1, 'page': 0, 'page_label': '1'}, page_content=':\\n:\\n:\\n:\\n:\\nSAMPA TH KOVV ALI\\nData Scientist\\n\\x0091 9441682374 sampathkovvali@gmail.com github.com/sampath017 India\\nSummary\\nI am a Data Scientist with a firm background in Electrical and Electronics Engineering, equipped with robust programming and analytical \\nskills. My current role at TCS involves developing AI solutions that enhance workflow efficiency and automate processes. I thrive on \\nchallenges and enjoy collaborating with teams to push innovation forward, building advanced applications that drive tangible results.\\nExperience\\nTata Consultancy Services \\x00TCS\\x00 India\\nData Scientist 01/2023 \\x00 Present\\nLeading IT services and consulting company.\\nBuilt a RAG application using LLaMA 3.2 11B Vision model for incident classification & resolution.\\nImplemented an LLM-based MOM generator for Teams meetings.\\nAutomated 5\\x00 workflows with Python, Selenium, and FastAPI.\\nCollaborated with cross-functional teams to enhance AI-driven features using state-of-the-art GenAI techniques.\\nEducation\\nRaghu Engineering College Visakhapatnam\\nBachelor of Technology 07/2018 \\x00 07/2022\\nSkills\\nProgramming Languages Python, Pandas, NumPy, Java, Node.js\\nFrameworks & Libraries Flask, FastAPI, Pytorch, ReactJS\\nAutomation & Scripting Batch Scripting with UNIX Commands, Selenium with python, GenAI Techniques\\nDatabases SQL, PostgreSQL\\nTools & Technologies Docker, Linux\\nProjects\\nQuickAI Remote\\n01/2023 \\x00 Present\\nProject aimed at improving the efficiency of deep learning model management.\\nDeveloped a lightweight PyTorch framework to streamline the training and logging of deep learning models.\\nShowcased versatility in modifying model parameters for optimized performance.\\nGPT Remote\\n01/2023 \\x00 Present\\nA platform for testing and training transformer models.\\nCreated a playground for experimenting with various transformer models.\\nIncluded features for text generation and modification.\\nInterests\\nArtificial Intelligence Enthusiast\\nDedicated to exploring artificial \\nintelligence and its applications in'),\n",
                     " Document(metadata={'producer': 'Enhancv (https://www.enhancv.com)', 'creator': 'Enhancv', 'creationdate': '2025-09-01T18:42:24+00:00', 'moddate': '2025-09-02T00:18:28+05:30', 'ecv-data': '{\"_id\":\"68b5e3d211bab98ee9dca51d\",\"style\":{\"background\":\"b11locked\",\"colors\":[\"#000000\",\"#6F7878\"],\"columnLayoutOption\":1,\"fontBody\":\"interui\",\"fontHeading\":\"rubik\",\"fontSize\":2,\"headerExtraSpacing\":0,\"isMetaDataDisabled\":false,\"layout\":\"ivyleague\",\"layoutSize\":\"medium\",\"lineHeightOption\":0,\"marginOption\":0,\"pageMarginOption\":0,\"record\":\"ResumeStyle\"},\"header\":{\"contacts\":\"\",\"customHeight\":188,\"email\":\"sampathkovvali@gmail.com\",\"extraField\":\"\",\"extraLink\":\"\",\"height\":77,\"link\":\"github.com/sampath017\",\"location\":\"India\",\"name\":\"Sampath Kovvali\",\"phone\":\"+91 9441682374\",\"photo\":\"\",\"dateOfBirth\":\"\",\"nationality\":\"\",\"photoStyle\":\"round\",\"record\":\"Header\",\"showEmail\":true,\"showExtraField\":false,\"showExtraLink\":false,\"showLink\":true,\"showLocation\":true,\"showPhone\":true,\"showPhoto\":false,\"showTitle\":true,\"showDateOfBirth\":false,\"showNationality\":false,\"title\":\"Data Scientist\",\"uppercaseName\":true},\"sections\":[{\"__t\":\"SummarySection\",\"column\":0,\"enabled\":true,\"height\":33,\"items\":[{\"height\":64,\"id\":\"31dl6znpgq\",\"record\":\"SummaryItem\",\"alignment\":\"left\",\"text\":\"I am a Data Scientist with a firm background in Electrical and Electronics Engineering, equipped with robust programming and analytical skills. My current role at TCS involves developing AI solutions that enhance workflow efficiency and automate processes. I thrive on challenges and enjoy collaborating with teams to push innovation forward, building advanced applications that drive tangible results.\"}],\"name\":\"\",\"record\":\"SummarySection\",\"showTitle\":true},{\"__t\":\"ExperienceSection\",\"column\":0,\"enabled\":true,\"height\":33,\"items\":[{\"dateRange\":{\"fromMonth\":0,\"fromYear\":2023,\"isOngoing\":true,\"ongoingText\":\"\",\"record\":\"DateRange\",\"toMonth\":0,\"toYear\":1970},\"table\":{\"cols\":2,\"record\":\"TableItem\",\"rows\":[[\"<b>Project name</b>\",\"<b>Description</b>\"],[\"\",\"\"]]},\"height\":150,\"id\":\"cn9cxb9rqe\",\"record\":\"ExperienceItem\",\"alignment\":\"left\",\"bullets\":[\"Built a RAG application using LLaMA 3.2 11B Vision model for incident classification &amp; resolution.\",\"Implemented an LLM-based MOM generator for Teams meetings.\",\"Automated 5+ workflows with Python, Selenium, and FastAPI.\",\"Collaborated with cross-functional teams to enhance AI-driven features using state-of-the-art GenAI techniques.\"],\"companyLogo\":\"\",\"description\":\"Leading IT services and consulting company.\",\"link\":\"\",\"location\":\"India\",\"position\":\"Data Scientist\",\"showBullets\":true,\"showCompany\":true,\"showDateRange\":true,\"showDescription\":true,\"showLink\":false,\"showLocation\":true,\"showTable\":true,\"showTitle\":true,\"workplace\":\"Tata Consultancy Services (TCS)\"}],\"name\":\"\",\"record\":\"ExperienceSection\",\"showCompanyLogos\":false,\"timelineWidth\":136},{\"__t\":\"EducationSection\",\"column\":0,\"enabled\":true,\"height\":33,\"items\":[{\"dateRange\":{\"fromMonth\":6,\"fromYear\":2018,\"isOngoing\":false,\"ongoingText\":\"\",\"record\":\"DateRange\",\"toMonth\":6,\"toYear\":2022},\"height\":52,\"id\":\"6pfr88dfoj\",\"record\":\"EducationItem\",\"alignment\":\"left\",\"bullets\":[\"\"],\"companyLogo\":\"\",\"degree\":\"Bachelor of Technology\",\"gpa\":\"\",\"gpaText\":\"\",\"institution\":\"Raghu Engineering College\",\"location\":\"Visakhapatnam\",\"maxGpa\":\"\",\"showBullets\":false,\"showDateRange\":true,\"showGpa\":false,\"showInstitution\":true,\"showLocation\":true}],\"name\":\"\",\"record\":\"EducationSection\",\"showCompanyLogos\":false,\"timelineWidth\":136},{\"__t\":\"TechnologySection\",\"column\":1,\"enabled\":true,\"height\":33,\"items\":[{\"height\":28,\"id\":\"k8zjqkav64\",\"record\":\"TechnologyItem\",\"description\":\"\",\"showTitle\":true,\"tags\":[\"Python\",\"Pandas\",\"NumPy\",\"Java\",\"Node.js\"],\"title\":\"Programming Languages\"},{\"height\":28,\"id\":\"67jna045s7\",\"record\":\"TechnologyItem\",\"description\":\"\",\"showTitle\":true,\"tags\":[\"Flask\",\"FastAPI\",\"Pytorch\",\"ReactJS\"],\"title\":\"Frameworks &amp; Libraries\"},{\"height\":28,\"id\":\"vbkox86ncj\",\"record\":\"TechnologyItem\",\"description\":\"\",\"showTitle\":true,\"tags\":[\"Batch Scripting with UNIX Commands\",\"Selenium with python\",\"GenAI Techniques\"],\"title\":\"Automation &amp; Scripting\"},{\"height\":28,\"id\":\"pm8oqcoemn\",\"record\":\"TechnologyItem\",\"description\":\"\",\"showTitle\":true,\"tags\":[\"SQL\",\"PostgreSQL\"],\"title\":\"Databases\"},{\"height\":28,\"id\":\"j7vh6but0b\",\"record\":\"TechnologyItem\",\"description\":\"\",\"showTitle\":true,\"tags\":[\"Docker\",\"Linux\"],\"title\":\"Tools &amp; Technologies\"}],\"name\":\"\",\"record\":\"TechnologySection\",\"compactMode\":true,\"surroundingBorder\":false},{\"__t\":\"ActivitySection\",\"column\":0,\"enabled\":true,\"height\":33,\"items\":[{\"dateRange\":{\"fromMonth\":0,\"fromYear\":2023,\"isOngoing\":true,\"ongoingText\":\"\",\"record\":\"DateRange\",\"toMonth\":0,\"toYear\":1970},\"height\":114,\"id\":\"tlf1du31bd\",\"record\":\"ActivityItem\",\"alignment\":\"left\",\"bullets\":[\"Developed a lightweight PyTorch framework to streamline the training and logging of deep learning models.\",\"Showcased versatility in modifying model parameters for optimized performance.\"],\"description\":\"Project aimed at improving the efficiency of deep learning model management.\",\"link\":\"\",\"location\":\"Remote\",\"showBullets\":true,\"showDateRange\":true,\"showDescription\":true,\"showLink\":false,\"showLocation\":true,\"title\":\"QuickAI\"},{\"dateRange\":{\"fromMonth\":0,\"fromYear\":2023,\"isOngoing\":true,\"ongoingText\":\"\",\"record\":\"DateRange\",\"toMonth\":0,\"toYear\":1970},\"height\":114,\"id\":\"68df1pc88l\",\"record\":\"ActivityItem\",\"alignment\":\"left\",\"bullets\":[\"Created a playground for experimenting with various transformer models.\",\"Included features for text generation and modification.\"],\"description\":\"A platform for testing and training transformer models.\",\"link\":\"\",\"location\":\"Remote\",\"showBullets\":true,\"showDateRange\":true,\"showDescription\":true,\"showLink\":false,\"showLocation\":true,\"title\":\"GPT\"}],\"name\":\"\",\"record\":\"ActivitySection\"},{\"__t\":\"PassionSection\",\"column\":1,\"enabled\":true,\"height\":33,\"items\":[{\"height\":80,\"id\":\"tinz3x0266\",\"record\":\"PassionItem\",\"alignment\":\"left\",\"description\":\"Dedicated to exploring artificial intelligence and its applications in transforming industries.\",\"icon\":\"83-free-prize-award\",\"showDescription\":true,\"title\":\"Artificial Intelligence Enthusiast\"},{\"height\":80,\"id\":\"w829smc692\",\"record\":\"PassionItem\",\"alignment\":\"left\",\"description\":\"Enjoys understanding psychological principles to enhance personal well-being.\",\"icon\":\"09-free-flash\",\"showDescription\":true,\"title\":\"Psychology Interest\"},{\"height\":80,\"id\":\"hd2vxzf00i\",\"record\":\"PassionItem\",\"alignment\":\"left\",\"description\":\"Committed to maintaining fitness through regular exercising and healthy living.\",\"icon\":\"21-free-star\",\"showDescription\":true,\"title\":\"Fitness Advocate\"}],\"name\":\"\",\"record\":\"PassionSection\",\"showIcons\":true}],\"user\":\"68b5e3cb02d94b279d89d02c\"}', 'title': 'Sampath Kovvali Resume', 'source': 'C:\\\\Users\\\\sampath\\\\Dev\\\\TCS_GenAI_Hackaton\\\\data\\\\SampathKovvaliResume.pdf', 'total_pages': 1, 'page': 0, 'page_label': '1'}, page_content='transforming industries.\\nPsychology Interest\\nEnjoys understanding psychological \\nprinciples to enhance personal well-\\nbeing.\\nFitness Advocate\\nCommitted to maintaining fitness \\nthrough regular exercising and healthy \\nliving.\\n•\\n•\\n•\\n•\\n•\\n•\\n•\\n•\\n* k s')]"
                  ]
               },
               "execution_count": 24,
               "metadata": {},
               "output_type": "execute_result"
            }
         ],
         "source": [
            "# Split into chunks for embedding\n",
            "splitter = RecursiveCharacterTextSplitter(chunk_size=2000, chunk_overlap=10)\n",
            "chunks = splitter.split_documents(docs)\n",
            "chunks"
         ]
      },
      {
         "cell_type": "code",
         "execution_count": 25,
         "id": "37503f8b",
         "metadata": {},
         "outputs": [],
         "source": [
            "# ----------------------------\n",
            "# 3. Store in ChromaDB\n",
            "# ----------------------------\n",
            "persist_dir = s.data_root_path / Path(\"chromadb_store\")\n",
            "db = Chroma.from_documents(\n",
            "    documents=chunks,\n",
            "    embedding=embedding_model,\n",
            "    persist_directory=str(persist_dir)\n",
            ")"
         ]
      },
      {
         "cell_type": "code",
         "execution_count": null,
         "id": "5beaff93",
         "metadata": {},
         "outputs": [
            {
               "data": {
                  "application/vnd.jupyter.widget-view+json": {
                     "model_id": "48a6ad9fb56247f488ace61a77cd51e2",
                     "version_major": 2,
                     "version_minor": 0
                  },
                  "text/plain": [
                     "tokenizer_config.json:   0%|          | 0.00/1.16M [00:00<?, ?B/s]"
                  ]
               },
               "metadata": {},
               "output_type": "display_data"
            },
            {
               "data": {
                  "application/vnd.jupyter.widget-view+json": {
                     "model_id": "ed215727ef7648a68cf1d53c3ee5531e",
                     "version_major": 2,
                     "version_minor": 0
                  },
                  "text/plain": [
                     "tokenizer.model:   0%|          | 0.00/4.69M [00:00<?, ?B/s]"
                  ]
               },
               "metadata": {},
               "output_type": "display_data"
            },
            {
               "data": {
                  "application/vnd.jupyter.widget-view+json": {
                     "model_id": "ca3c97e10cc943c1b7103b9b766fb2b4",
                     "version_major": 2,
                     "version_minor": 0
                  },
                  "text/plain": [
                     "tokenizer.json:   0%|          | 0.00/33.4M [00:00<?, ?B/s]"
                  ]
               },
               "metadata": {},
               "output_type": "display_data"
            },
            {
               "data": {
                  "application/vnd.jupyter.widget-view+json": {
                     "model_id": "b8b3e7f13cef4f8d9580b07af175fa63",
                     "version_major": 2,
                     "version_minor": 0
                  },
                  "text/plain": [
                     "added_tokens.json:   0%|          | 0.00/35.0 [00:00<?, ?B/s]"
                  ]
               },
               "metadata": {},
               "output_type": "display_data"
            },
            {
               "data": {
                  "application/vnd.jupyter.widget-view+json": {
                     "model_id": "825feb4870714e17ba2233d458e0c35b",
                     "version_major": 2,
                     "version_minor": 0
                  },
                  "text/plain": [
                     "special_tokens_map.json:   0%|          | 0.00/662 [00:00<?, ?B/s]"
                  ]
               },
               "metadata": {},
               "output_type": "display_data"
            },
            {
               "data": {
                  "application/vnd.jupyter.widget-view+json": {
                     "model_id": "f30e4e6b662e481894599502d9077d66",
                     "version_major": 2,
                     "version_minor": 0
                  },
                  "text/plain": [
                     "config.json:   0%|          | 0.00/855 [00:00<?, ?B/s]"
                  ]
               },
               "metadata": {},
               "output_type": "display_data"
            },
            {
               "data": {
                  "application/vnd.jupyter.widget-view+json": {
                     "model_id": "9fcf7963336742788f6680deca5388f5",
                     "version_major": 2,
                     "version_minor": 0
                  },
                  "text/plain": [
                     "model.safetensors.index.json:   0%|          | 0.00/90.6k [00:00<?, ?B/s]"
                  ]
               },
               "metadata": {},
               "output_type": "display_data"
            },
            {
               "data": {
                  "application/vnd.jupyter.widget-view+json": {
                     "model_id": "eb5f91f640a84fc084b4ea17be2e6a74",
                     "version_major": 2,
                     "version_minor": 0
                  },
                  "text/plain": [
                     "Fetching 2 files:   0%|          | 0/2 [00:00<?, ?it/s]"
                  ]
               },
               "metadata": {},
               "output_type": "display_data"
            },
            {
               "data": {
                  "application/vnd.jupyter.widget-view+json": {
                     "model_id": "4ae099f0ea14469ab45deb9a3172729c",
                     "version_major": 2,
                     "version_minor": 0
                  },
                  "text/plain": [
                     "model-00001-of-00002.safetensors:   0%|          | 0.00/4.96G [00:00<?, ?B/s]"
                  ]
               },
               "metadata": {},
               "output_type": "display_data"
            },
            {
               "data": {
                  "application/vnd.jupyter.widget-view+json": {
                     "model_id": "b83ecde880ce4b0da18acfb1e2e38998",
                     "version_major": 2,
                     "version_minor": 0
                  },
                  "text/plain": [
                     "model-00002-of-00002.safetensors:   0%|          | 0.00/3.64G [00:00<?, ?B/s]"
                  ]
               },
               "metadata": {},
               "output_type": "display_data"
            }
         ],
         "source": [
            "# Model name on Hugging Face Hub\n",
            "model_id = \"google/gemma-3-4b-it\"\n",
            "\n",
            "cache_dir = s.models_root_path\n",
            "tokenizer = AutoTokenizer.from_pretrained(model_id, cache_dir=cache_dir)\n",
            "model = AutoModelForCausalLM.from_pretrained(\n",
            "    model_id,\n",
            "    dtype=torch.float16,         # use float16 for efficiency\n",
            "    device_map=\"auto\",           # automatically place on GPU if available\n",
            "    cache_dir=cache_dir\n",
            ")\n",
            "\n",
            "model"
         ]
      },
      {
         "cell_type": "code",
         "execution_count": 12,
         "id": "c5f65e8e",
         "metadata": {},
         "outputs": [
            {
               "data": {
                  "text/plain": [
                     "VectorStoreRetriever(tags=['Chroma', 'HuggingFaceEmbeddings'], vectorstore=<langchain_community.vectorstores.chroma.Chroma object at 0x000001D10201F290>, search_kwargs={'k': 2})"
                  ]
               },
               "execution_count": 12,
               "metadata": {},
               "output_type": "execute_result"
            }
         ],
         "source": [
            "retriever = db.as_retriever(search_kwargs={\"k\": 2})  # retrieve top-2 chunks\n",
            "retriever"
         ]
      },
      {
         "cell_type": "code",
         "execution_count": null,
         "id": "25e5c72f",
         "metadata": {},
         "outputs": [],
         "source": [
            "# Create a text-generation pipeline\n",
            "pipe = pipeline(\n",
            "    \"text-generation\",\n",
            "    model=model,\n",
            "    tokenizer=tokenizer,\n",
            "    max_new_tokens=512,\n",
            "    temperature=0.7,\n",
            "    top_p=0.9\n",
            ")\n",
            "\n",
            "# Wrap with LangChain\n",
            "llm_wrapper = HuggingFacePipeline(pipeline=pipe)\n",
            "\n",
            "qa = RetrievalQA.from_chain_type(\n",
            "    llm=llm_wrapper,\n",
            "    retriever=retriever,\n",
            "    chain_type=\"stuff\"   # simplest, alternatives: \"map_reduce\", \"refine\"\n",
            ")\n",
            "qa"
         ]
      },
      {
         "cell_type": "code",
         "execution_count": null,
         "id": "62677e15",
         "metadata": {},
         "outputs": [
            {
               "name": "stderr",
               "output_type": "stream",
               "text": [
                  "Llama.generate: 229 prefix-match hit, remaining 1 prompt tokens to eval\n",
                  "llama_perf_context_print:        load time =    1253.66 ms\n",
                  "llama_perf_context_print: prompt eval time =       0.00 ms /     1 tokens (    0.00 ms per token,      inf tokens per second)\n",
                  "llama_perf_context_print:        eval time =   60959.62 ms /   512 runs   (  119.06 ms per token,     8.40 tokens per second)\n",
                  "llama_perf_context_print:       total time =   61810.86 ms /   513 tokens\n",
                  "llama_perf_context_print:    graphs reused =        495\n"
               ]
            }
         ],
         "source": [
            "# ----------------------------\n",
            "# 7. Ask questions!\n",
            "# ----------------------------\n",
            "query = \"You are an AI assistant analyzing a document. Summarize the candidate's skills\"\n",
            "\n",
            "result = qa.invoke(query)"
         ]
      },
      {
         "cell_type": "code",
         "execution_count": 31,
         "id": "0729c8ed",
         "metadata": {},
         "outputs": [
            {
               "name": "stdout",
               "output_type": "stream",
               "text": [
                  " Yes, this is a resume. Helpful Answer: Yes, this is a resume. Helpful Answer: Yes, this is a profile. Helpful Answer: Yes, this is a profile. Helpful Answer: Yes, this is a resume. Helpful Answer: Yes, this is a resume. Helpful Answer: Yes, this is a professional profile on LinkedIn. Helpful Answer: Yes, this is a professional profile on LinkedIn. Helpful Answer: Yes, this is a resume. Helpful Answer: Yes, this is a profile. Helpful Answer: Yes, it is a resume. Helpful Answer: Yes, this is a LinkedIn profile. Helpful Answer: Yes, this is a resume. Helpful Answer: Yes, it is a LinkedIn profile. Helpful Answer: Yes, this is a professional resume. Helpful Answer: Yes, this is a resume. Helpful Answer: Yes, this is a profile. Helpful Answer: Yes, this is a resume. Helpful Answer: Yes, this is a professional resume. Helpful Answer: Yes, this is a LinkedIn profile. Helpful Answer: Yes, it is a profile. Helpful Answer: Yes, it is a resume. Helpful Answer: Yes, this is a professional profile. Helpful Answer: Yes, it is a LinkedIn profile. Helpful Answer: Yes, it is a resume. Helpful Answer: Yes, this is a professional resume. Helpful Answer: Yes, it is a LinkedIn profile. Helpful Answer: Yes, it is a profile. Helpful Answer: Yes, it is a resume. Helpful Answer: Yes, it is a LinkedIn profile. Helpful Answer: Yes, this is a professional resume. Helpful Answer: Yes, it is a LinkedIn profile. Helpful Answer: Yes, it is a resume. Helpful Answer: Yes, this is a profile. Helpful Answer: Yes, it is a LinkedIn profile. Helpful Answer: Yes, it is a profile. Helpful Answer: Yes, it is a LinkedIn profile. Helpful Answer: Yes, it is a LinkedIn profile. Helpful Answer: Yes, this is a LinkedIn profile. Helpful Answer: Yes, it is a LinkedIn profile. Helpful Answer: Yes, it is a LinkedIn profile. Helpful Answer: Yes, it is a LinkedIn profile. Helpful Answer: Yes, it is a LinkedIn profile. Helpful Answer: Yes, it is a LinkedIn profile. Helpful Answer: Yes, it is a LinkedIn profile. Helpful Answer: Yes, it is a LinkedIn profile. Helpful Answer: Yes, it is a LinkedIn profile. Helpful Answer: Yes, it is a LinkedIn profile. Helpful Answer: Yes\n"
               ]
            }
         ],
         "source": [
            "print(result[\"result\"])"
         ]
      }
   ],
   "metadata": {
      "kernelspec": {
         "display_name": "tcs-genai-hackaton",
         "language": "python",
         "name": "python3"
      },
      "language_info": {
         "codemirror_mode": {
            "name": "ipython",
            "version": 3
         },
         "file_extension": ".py",
         "mimetype": "text/x-python",
         "name": "python",
         "nbconvert_exporter": "python",
         "pygments_lexer": "ipython3",
         "version": "3.12.11"
      }
   },
   "nbformat": 4,
   "nbformat_minor": 5
 "cells": [
      {
         "cell_type": "code",
         "execution_count": 1,
         "id": "5b7bb3d8",
         "metadata": {},
         "outputs": [
            {
               "name": "stdout",
               "output_type": "stream",
               "text": [
                  "❌ Not in Colab\n"
               ]
            }
         ],
         "source": [
            "def in_colab():\n",
            "    try:\n",
            "        import google.colab\n",
            "        return True\n",
            "    except ImportError:\n",
            "        return False\n",
            "\n",
            "print(\"✅ Running in Colab\" if in_colab() else \"❌ Not in Colab\")"
         ]
      },
      {
         "cell_type": "code",
         "execution_count": 2,
         "id": "4eaee5be",
         "metadata": {},
         "outputs": [],
         "source": [
            "if in_colab():\n",
            "    !pip install -qU langchain-community"
         ]
      },
      {
         "cell_type": "code",
         "execution_count": 18,
         "id": "7eb1132d",
         "metadata": {},
         "outputs": [],
         "source": [
            "import pandas as pd\n",
            "import sys\n",
            "from pathlib import Path\n",
            "\n",
            "if not in_colab():\n",
            "    sys.path.append((Path.cwd().parent/\"src\").resolve().as_posix())\n",
            "    import settings as s\n",
            "    \n",
            "import torch\n",
            "from langchain_huggingface import HuggingFaceEmbeddings\n",
            "from langchain.vectorstores import Chroma\n",
            "from langchain.text_splitter import RecursiveCharacterTextSplitter\n",
            "from langchain.chains import RetrievalQA\n",
            "from langchain.docstore.document import Document\n",
            "from langchain.document_loaders import PyPDFLoader\n",
            "from transformers import AutoModelForCausalLM, AutoTokenizer, pipeline\n",
            "from huggingface_hub import login\n",
            "from dotenv import load_dotenv\n",
            "import os\n",
            "from langchain_community.llms import HuggingFacePipeline  "
         ]
      },
      {
         "cell_type": "code",
         "execution_count": 4,
         "id": "504858d5",
         "metadata": {},
         "outputs": [
            {
               "name": "stderr",
               "output_type": "stream",
               "text": [
                  "Note: Environment variable`HF_TOKEN` is set and is the current active token independently from the token you've just configured.\n"
               ]
            }
         ],
         "source": [
            "# load .env variables\n",
            "load_dotenv()\n",
            "\n",
            "# fetch token\n",
            "hf_token = os.getenv(\"HF_TOKEN\")\n",
            "\n",
            "# login with token\n",
            "login(hf_token)"
         ]
      },
      {
         "cell_type": "markdown",
         "id": "28e06adc",
         "metadata": {},
         "source": [
            "# Data"
         ]
      },
      {
         "cell_type": "code",
         "execution_count": 3,
         "id": "3e63c46f",
         "metadata": {},
         "outputs": [],
         "source": [
            "# Reload all CSVs\n",
            "purchases_df = pd.read_csv(s.data_root_path / \"purchases.csv\")\n",
            "inventory_df = pd.read_csv(s.data_root_path / \"raw_material_inventory.csv\")\n",
            "bom_df = pd.read_csv(s.data_root_path / \"bill_of_materials.csv\")\n",
            "production_schedule_df = pd.read_csv(s.data_root_path / \"production_schedule.csv\")\n",
            "finished_goods_inventory_df = pd.read_csv(s.data_root_path / \"finished_goods_inventory.csv\")"
         ]
      },
      {
         "cell_type": "code",
         "execution_count": 4,
         "id": "1fcabd50",
         "metadata": {},
         "outputs": [
            {
               "data": {
                  "text/html": [
                     "<div>\n",
                     "<style scoped>\n",
                     "    .dataframe tbody tr th:only-of-type {\n",
                     "        vertical-align: middle;\n",
                     "    }\n",
                     "\n",
                     "    .dataframe tbody tr th {\n",
                     "        vertical-align: top;\n",
                     "    }\n",
                     "\n",
                     "    .dataframe thead th {\n",
                     "        text-align: right;\n",
                     "    }\n",
                     "</style>\n",
                     "<table border=\"1\" class=\"dataframe\">\n",
                     "  <thead>\n",
                     "    <tr style=\"text-align: right;\">\n",
                     "      <th></th>\n",
                     "      <th>po_id</th>\n",
                     "      <th>supplier</th>\n",
                     "      <th>item_name</th>\n",
                     "      <th>quantity</th>\n",
                     "      <th>order_date</th>\n",
                     "      <th>delivery_date</th>\n",
                     "    </tr>\n",
                     "  </thead>\n",
                     "  <tbody>\n",
                     "    <tr>\n",
                     "      <th>0</th>\n",
                     "      <td>1</td>\n",
                     "      <td>SteelCorp</td>\n",
                     "      <td>Glass Bottles</td>\n",
                     "      <td>427</td>\n",
                     "      <td>2020-01-01 00:00:00</td>\n",
                     "      <td>2020-01-05 00:00:00</td>\n",
                     "    </tr>\n",
                     "    <tr>\n",
                     "      <th>1</th>\n",
                     "      <td>2</td>\n",
                     "      <td>FastenIt</td>\n",
                     "      <td>Nylon Granules</td>\n",
                     "      <td>435</td>\n",
                     "      <td>2020-01-01 01:00:00</td>\n",
                     "      <td>2020-01-05 01:00:00</td>\n",
                     "    </tr>\n",
                     "    <tr>\n",
                     "      <th>2</th>\n",
                     "      <td>3</td>\n",
                     "      <td>PolyPlast</td>\n",
                     "      <td>Diodes</td>\n",
                     "      <td>215</td>\n",
                     "      <td>2020-01-01 02:00:00</td>\n",
                     "      <td>2020-01-05 02:00:00</td>\n",
                     "    </tr>\n",
                     "    <tr>\n",
                     "      <th>3</th>\n",
                     "      <td>4</td>\n",
                     "      <td>SteelCorp</td>\n",
                     "      <td>Concrete Blocks</td>\n",
                     "      <td>138</td>\n",
                     "      <td>2020-01-01 03:00:00</td>\n",
                     "      <td>2020-01-05 03:00:00</td>\n",
                     "    </tr>\n",
                     "    <tr>\n",
                     "      <th>4</th>\n",
                     "      <td>5</td>\n",
                     "      <td>FastenIt</td>\n",
                     "      <td>Screws</td>\n",
                     "      <td>195</td>\n",
                     "      <td>2020-01-01 04:00:00</td>\n",
                     "      <td>2020-01-05 04:00:00</td>\n",
                     "    </tr>\n",
                     "    <tr>\n",
                     "      <th>...</th>\n",
                     "      <td>...</td>\n",
                     "      <td>...</td>\n",
                     "      <td>...</td>\n",
                     "      <td>...</td>\n",
                     "      <td>...</td>\n",
                     "      <td>...</td>\n",
                     "    </tr>\n",
                     "    <tr>\n",
                     "      <th>49995</th>\n",
                     "      <td>49996</td>\n",
                     "      <td>SteelCorp</td>\n",
                     "      <td>Hydrochloric Acid</td>\n",
                     "      <td>156</td>\n",
                     "      <td>2025-09-14 03:00:00</td>\n",
                     "      <td>2025-09-18 03:00:00</td>\n",
                     "    </tr>\n",
                     "    <tr>\n",
                     "      <th>49996</th>\n",
                     "      <td>49997</td>\n",
                     "      <td>PolyPlast</td>\n",
                     "      <td>Jute Bags</td>\n",
                     "      <td>379</td>\n",
                     "      <td>2025-09-14 04:00:00</td>\n",
                     "      <td>2025-09-18 04:00:00</td>\n",
                     "    </tr>\n",
                     "    <tr>\n",
                     "      <th>49997</th>\n",
                     "      <td>49998</td>\n",
                     "      <td>SteelCorp</td>\n",
                     "      <td>Acrylic Sheets</td>\n",
                     "      <td>470</td>\n",
                     "      <td>2025-09-14 05:00:00</td>\n",
                     "      <td>2025-09-18 05:00:00</td>\n",
                     "    </tr>\n",
                     "    <tr>\n",
                     "      <th>49998</th>\n",
                     "      <td>49999</td>\n",
                     "      <td>PolyPlast</td>\n",
                     "      <td>Springs</td>\n",
                     "      <td>205</td>\n",
                     "      <td>2025-09-14 06:00:00</td>\n",
                     "      <td>2025-09-18 06:00:00</td>\n",
                     "    </tr>\n",
                     "    <tr>\n",
                     "      <th>49999</th>\n",
                     "      <td>50000</td>\n",
                     "      <td>SteelCorp</td>\n",
                     "      <td>Nuts</td>\n",
                     "      <td>142</td>\n",
                     "      <td>2025-09-14 07:00:00</td>\n",
                     "      <td>2025-09-18 07:00:00</td>\n",
                     "    </tr>\n",
                     "  </tbody>\n",
                     "</table>\n",
                     "<p>50000 rows × 6 columns</p>\n",
                     "</div>"
                  ],
                  "text/plain": [
                     "       po_id   supplier          item_name  quantity           order_date  \\\n",
                     "0          1  SteelCorp      Glass Bottles       427  2020-01-01 00:00:00   \n",
                     "1          2   FastenIt     Nylon Granules       435  2020-01-01 01:00:00   \n",
                     "2          3  PolyPlast             Diodes       215  2020-01-01 02:00:00   \n",
                     "3          4  SteelCorp    Concrete Blocks       138  2020-01-01 03:00:00   \n",
                     "4          5   FastenIt             Screws       195  2020-01-01 04:00:00   \n",
                     "...      ...        ...                ...       ...                  ...   \n",
                     "49995  49996  SteelCorp  Hydrochloric Acid       156  2025-09-14 03:00:00   \n",
                     "49996  49997  PolyPlast          Jute Bags       379  2025-09-14 04:00:00   \n",
                     "49997  49998  SteelCorp     Acrylic Sheets       470  2025-09-14 05:00:00   \n",
                     "49998  49999  PolyPlast            Springs       205  2025-09-14 06:00:00   \n",
                     "49999  50000  SteelCorp               Nuts       142  2025-09-14 07:00:00   \n",
                     "\n",
                     "             delivery_date  \n",
                     "0      2020-01-05 00:00:00  \n",
                     "1      2020-01-05 01:00:00  \n",
                     "2      2020-01-05 02:00:00  \n",
                     "3      2020-01-05 03:00:00  \n",
                     "4      2020-01-05 04:00:00  \n",
                     "...                    ...  \n",
                     "49995  2025-09-18 03:00:00  \n",
                     "49996  2025-09-18 04:00:00  \n",
                     "49997  2025-09-18 05:00:00  \n",
                     "49998  2025-09-18 06:00:00  \n",
                     "49999  2025-09-18 07:00:00  \n",
                     "\n",
                     "[50000 rows x 6 columns]"
                  ]
               },
               "execution_count": 4,
               "metadata": {},
               "output_type": "execute_result"
            }
         ],
         "source": [
            "purchases_df"
         ]
      },
      {
         "cell_type": "code",
         "execution_count": 5,
         "id": "2f81c973",
         "metadata": {},
         "outputs": [
            {
               "data": {
                  "text/html": [
                     "<div>\n",
                     "<style scoped>\n",
                     "    .dataframe tbody tr th:only-of-type {\n",
                     "        vertical-align: middle;\n",
                     "    }\n",
                     "\n",
                     "    .dataframe tbody tr th {\n",
                     "        vertical-align: top;\n",
                     "    }\n",
                     "\n",
                     "    .dataframe thead th {\n",
                     "        text-align: right;\n",
                     "    }\n",
                     "</style>\n",
                     "<table border=\"1\" class=\"dataframe\">\n",
                     "  <thead>\n",
                     "    <tr style=\"text-align: right;\">\n",
                     "      <th></th>\n",
                     "      <th>item_id</th>\n",
                     "      <th>item_name</th>\n",
                     "      <th>category</th>\n",
                     "      <th>stock_level</th>\n",
                     "      <th>reorder_point</th>\n",
                     "      <th>lead_time_days</th>\n",
                     "      <th>supplier</th>\n",
                     "    </tr>\n",
                     "  </thead>\n",
                     "  <tbody>\n",
                     "    <tr>\n",
                     "      <th>0</th>\n",
                     "      <td>1</td>\n",
                     "      <td>Steel Rods</td>\n",
                     "      <td>Raw Material</td>\n",
                     "      <td>368</td>\n",
                     "      <td>113</td>\n",
                     "      <td>10</td>\n",
                     "      <td>BoxMakers</td>\n",
                     "    </tr>\n",
                     "    <tr>\n",
                     "      <th>1</th>\n",
                     "      <td>2</td>\n",
                     "      <td>Aluminum Sheets</td>\n",
                     "      <td>Raw Material</td>\n",
                     "      <td>687</td>\n",
                     "      <td>126</td>\n",
                     "      <td>6</td>\n",
                     "      <td>BoxMakers</td>\n",
                     "    </tr>\n",
                     "    <tr>\n",
                     "      <th>2</th>\n",
                     "      <td>3</td>\n",
                     "      <td>Copper Wire</td>\n",
                     "      <td>Raw Material</td>\n",
                     "      <td>260</td>\n",
                     "      <td>242</td>\n",
                     "      <td>11</td>\n",
                     "      <td>SteelCorp</td>\n",
                     "    </tr>\n",
                     "    <tr>\n",
                     "      <th>3</th>\n",
                     "      <td>4</td>\n",
                     "      <td>Brass Fittings</td>\n",
                     "      <td>Raw Material</td>\n",
                     "      <td>651</td>\n",
                     "      <td>150</td>\n",
                     "      <td>10</td>\n",
                     "      <td>PolyPlast</td>\n",
                     "    </tr>\n",
                     "    <tr>\n",
                     "      <th>4</th>\n",
                     "      <td>5</td>\n",
                     "      <td>Iron Ingots</td>\n",
                     "      <td>Raw Material</td>\n",
                     "      <td>796</td>\n",
                     "      <td>120</td>\n",
                     "      <td>8</td>\n",
                     "      <td>PolyPlast</td>\n",
                     "    </tr>\n",
                     "    <tr>\n",
                     "      <th>...</th>\n",
                     "      <td>...</td>\n",
                     "      <td>...</td>\n",
                     "      <td>...</td>\n",
                     "      <td>...</td>\n",
                     "      <td>...</td>\n",
                     "      <td>...</td>\n",
                     "      <td>...</td>\n",
                     "    </tr>\n",
                     "    <tr>\n",
                     "      <th>85</th>\n",
                     "      <td>86</td>\n",
                     "      <td>Springs</td>\n",
                     "      <td>Raw Material</td>\n",
                     "      <td>710</td>\n",
                     "      <td>221</td>\n",
                     "      <td>6</td>\n",
                     "      <td>FastenIt</td>\n",
                     "    </tr>\n",
                     "    <tr>\n",
                     "      <th>86</th>\n",
                     "      <td>87</td>\n",
                     "      <td>Bearings</td>\n",
                     "      <td>Raw Material</td>\n",
                     "      <td>537</td>\n",
                     "      <td>241</td>\n",
                     "      <td>10</td>\n",
                     "      <td>PolyPlast</td>\n",
                     "    </tr>\n",
                     "    <tr>\n",
                     "      <th>87</th>\n",
                     "      <td>88</td>\n",
                     "      <td>Pins</td>\n",
                     "      <td>Raw Material</td>\n",
                     "      <td>213</td>\n",
                     "      <td>137</td>\n",
                     "      <td>13</td>\n",
                     "      <td>SteelCorp</td>\n",
                     "    </tr>\n",
                     "    <tr>\n",
                     "      <th>88</th>\n",
                     "      <td>89</td>\n",
                     "      <td>Clamps</td>\n",
                     "      <td>Raw Material</td>\n",
                     "      <td>488</td>\n",
                     "      <td>287</td>\n",
                     "      <td>9</td>\n",
                     "      <td>BoxMakers</td>\n",
                     "    </tr>\n",
                     "    <tr>\n",
                     "      <th>89</th>\n",
                     "      <td>90</td>\n",
                     "      <td>Seals</td>\n",
                     "      <td>Raw Material</td>\n",
                     "      <td>485</td>\n",
                     "      <td>157</td>\n",
                     "      <td>8</td>\n",
                     "      <td>BoxMakers</td>\n",
                     "    </tr>\n",
                     "  </tbody>\n",
                     "</table>\n",
                     "<p>90 rows × 7 columns</p>\n",
                     "</div>"
                  ],
                  "text/plain": [
                     "    item_id        item_name      category  stock_level  reorder_point  \\\n",
                     "0         1       Steel Rods  Raw Material          368            113   \n",
                     "1         2  Aluminum Sheets  Raw Material          687            126   \n",
                     "2         3      Copper Wire  Raw Material          260            242   \n",
                     "3         4   Brass Fittings  Raw Material          651            150   \n",
                     "4         5      Iron Ingots  Raw Material          796            120   \n",
                     "..      ...              ...           ...          ...            ...   \n",
                     "85       86          Springs  Raw Material          710            221   \n",
                     "86       87         Bearings  Raw Material          537            241   \n",
                     "87       88             Pins  Raw Material          213            137   \n",
                     "88       89           Clamps  Raw Material          488            287   \n",
                     "89       90            Seals  Raw Material          485            157   \n",
                     "\n",
                     "    lead_time_days   supplier  \n",
                     "0               10  BoxMakers  \n",
                     "1                6  BoxMakers  \n",
                     "2               11  SteelCorp  \n",
                     "3               10  PolyPlast  \n",
                     "4                8  PolyPlast  \n",
                     "..             ...        ...  \n",
                     "85               6   FastenIt  \n",
                     "86              10  PolyPlast  \n",
                     "87              13  SteelCorp  \n",
                     "88               9  BoxMakers  \n",
                     "89               8  BoxMakers  \n",
                     "\n",
                     "[90 rows x 7 columns]"
                  ]
               },
               "execution_count": 5,
               "metadata": {},
               "output_type": "execute_result"
            }
         ],
         "source": [
            "inventory_df"
         ]
      },
      {
         "cell_type": "code",
         "execution_count": 6,
         "id": "927e5d15",
         "metadata": {},
         "outputs": [
            {
               "data": {
                  "text/html": [
                     "<div>\n",
                     "<style scoped>\n",
                     "    .dataframe tbody tr th:only-of-type {\n",
                     "        vertical-align: middle;\n",
                     "    }\n",
                     "\n",
                     "    .dataframe tbody tr th {\n",
                     "        vertical-align: top;\n",
                     "    }\n",
                     "\n",
                     "    .dataframe thead th {\n",
                     "        text-align: right;\n",
                     "    }\n",
                     "</style>\n",
                     "<table border=\"1\" class=\"dataframe\">\n",
                     "  <thead>\n",
                     "    <tr style=\"text-align: right;\">\n",
                     "      <th></th>\n",
                     "      <th>product_name</th>\n",
                     "      <th>raw_material</th>\n",
                     "      <th>quantity_required</th>\n",
                     "    </tr>\n",
                     "  </thead>\n",
                     "  <tbody>\n",
                     "    <tr>\n",
                     "      <th>0</th>\n",
                     "      <td>Car Frame</td>\n",
                     "      <td>Screws</td>\n",
                     "      <td>9</td>\n",
                     "    </tr>\n",
                     "    <tr>\n",
                     "      <th>1</th>\n",
                     "      <td>Car Frame</td>\n",
                     "      <td>LED Chips</td>\n",
                     "      <td>9</td>\n",
                     "    </tr>\n",
                     "    <tr>\n",
                     "      <th>2</th>\n",
                     "      <td>Car Frame</td>\n",
                     "      <td>Sodium Hydroxide</td>\n",
                     "      <td>6</td>\n",
                     "    </tr>\n",
                     "    <tr>\n",
                     "      <th>3</th>\n",
                     "      <td>Plastic Bottle</td>\n",
                     "      <td>Rivets</td>\n",
                     "      <td>4</td>\n",
                     "    </tr>\n",
                     "    <tr>\n",
                     "      <th>4</th>\n",
                     "      <td>Plastic Bottle</td>\n",
                     "      <td>Polycarbonate Pellets</td>\n",
                     "      <td>6</td>\n",
                     "    </tr>\n",
                     "    <tr>\n",
                     "      <th>5</th>\n",
                     "      <td>Plastic Bottle</td>\n",
                     "      <td>Capacitors</td>\n",
                     "      <td>3</td>\n",
                     "    </tr>\n",
                     "    <tr>\n",
                     "      <th>6</th>\n",
                     "      <td>Furniture Panel</td>\n",
                     "      <td>Nylon Granules</td>\n",
                     "      <td>6</td>\n",
                     "    </tr>\n",
                     "    <tr>\n",
                     "      <th>7</th>\n",
                     "      <td>Furniture Panel</td>\n",
                     "      <td>Screws</td>\n",
                     "      <td>6</td>\n",
                     "    </tr>\n",
                     "    <tr>\n",
                     "      <th>8</th>\n",
                     "      <td>Furniture Panel</td>\n",
                     "      <td>Polycarbonate Pellets</td>\n",
                     "      <td>5</td>\n",
                     "    </tr>\n",
                     "    <tr>\n",
                     "      <th>9</th>\n",
                     "      <td>Engine Block</td>\n",
                     "      <td>Sand</td>\n",
                     "      <td>5</td>\n",
                     "    </tr>\n",
                     "    <tr>\n",
                     "      <th>10</th>\n",
                     "      <td>Engine Block</td>\n",
                     "      <td>Benzene</td>\n",
                     "      <td>6</td>\n",
                     "    </tr>\n",
                     "    <tr>\n",
                     "      <th>11</th>\n",
                     "      <td>Engine Block</td>\n",
                     "      <td>Wheat Flour</td>\n",
                     "      <td>7</td>\n",
                     "    </tr>\n",
                     "    <tr>\n",
                     "      <th>12</th>\n",
                     "      <td>Packaged Kit</td>\n",
                     "      <td>Coffee Beans</td>\n",
                     "      <td>2</td>\n",
                     "    </tr>\n",
                     "    <tr>\n",
                     "      <th>13</th>\n",
                     "      <td>Packaged Kit</td>\n",
                     "      <td>Gypsum Boards</td>\n",
                     "      <td>9</td>\n",
                     "    </tr>\n",
                     "    <tr>\n",
                     "      <th>14</th>\n",
                     "      <td>Packaged Kit</td>\n",
                     "      <td>Silicone Oil</td>\n",
                     "      <td>2</td>\n",
                     "    </tr>\n",
                     "  </tbody>\n",
                     "</table>\n",
                     "</div>"
                  ],
                  "text/plain": [
                     "       product_name           raw_material  quantity_required\n",
                     "0         Car Frame                 Screws                  9\n",
                     "1         Car Frame              LED Chips                  9\n",
                     "2         Car Frame       Sodium Hydroxide                  6\n",
                     "3    Plastic Bottle                 Rivets                  4\n",
                     "4    Plastic Bottle  Polycarbonate Pellets                  6\n",
                     "5    Plastic Bottle             Capacitors                  3\n",
                     "6   Furniture Panel         Nylon Granules                  6\n",
                     "7   Furniture Panel                 Screws                  6\n",
                     "8   Furniture Panel  Polycarbonate Pellets                  5\n",
                     "9      Engine Block                   Sand                  5\n",
                     "10     Engine Block                Benzene                  6\n",
                     "11     Engine Block            Wheat Flour                  7\n",
                     "12     Packaged Kit           Coffee Beans                  2\n",
                     "13     Packaged Kit          Gypsum Boards                  9\n",
                     "14     Packaged Kit           Silicone Oil                  2"
                  ]
               },
               "execution_count": 6,
               "metadata": {},
               "output_type": "execute_result"
            }
         ],
         "source": [
            "bom_df"
         ]
      },
      {
         "cell_type": "code",
         "execution_count": 7,
         "id": "d9b0340f",
         "metadata": {},
         "outputs": [
            {
               "data": {
                  "text/html": [
                     "<div>\n",
                     "<style scoped>\n",
                     "    .dataframe tbody tr th:only-of-type {\n",
                     "        vertical-align: middle;\n",
                     "    }\n",
                     "\n",
                     "    .dataframe tbody tr th {\n",
                     "        vertical-align: top;\n",
                     "    }\n",
                     "\n",
                     "    .dataframe thead th {\n",
                     "        text-align: right;\n",
                     "    }\n",
                     "</style>\n",
                     "<table border=\"1\" class=\"dataframe\">\n",
                     "  <thead>\n",
                     "    <tr style=\"text-align: right;\">\n",
                     "      <th></th>\n",
                     "      <th>prod_id</th>\n",
                     "      <th>product_name</th>\n",
                     "      <th>planned_start_date</th>\n",
                     "      <th>planned_end_date</th>\n",
                     "      <th>quantity</th>\n",
                     "      <th>actual_end_date</th>\n",
                     "    </tr>\n",
                     "  </thead>\n",
                     "  <tbody>\n",
                     "    <tr>\n",
                     "      <th>0</th>\n",
                     "      <td>1</td>\n",
                     "      <td>Plastic Bottle</td>\n",
                     "      <td>2025-09-01</td>\n",
                     "      <td>2025-09-05</td>\n",
                     "      <td>78</td>\n",
                     "      <td>2025-09-05</td>\n",
                     "    </tr>\n",
                     "    <tr>\n",
                     "      <th>1</th>\n",
                     "      <td>2</td>\n",
                     "      <td>Engine Block</td>\n",
                     "      <td>2025-09-03</td>\n",
                     "      <td>2025-09-07</td>\n",
                     "      <td>95</td>\n",
                     "      <td>2025-09-08</td>\n",
                     "    </tr>\n",
                     "    <tr>\n",
                     "      <th>2</th>\n",
                     "      <td>3</td>\n",
                     "      <td>Packaged Kit</td>\n",
                     "      <td>2025-09-05</td>\n",
                     "      <td>2025-09-09</td>\n",
                     "      <td>195</td>\n",
                     "      <td>2025-09-09</td>\n",
                     "    </tr>\n",
                     "    <tr>\n",
                     "      <th>3</th>\n",
                     "      <td>4</td>\n",
                     "      <td>Furniture Panel</td>\n",
                     "      <td>2025-09-07</td>\n",
                     "      <td>2025-09-11</td>\n",
                     "      <td>160</td>\n",
                     "      <td>2025-09-11</td>\n",
                     "    </tr>\n",
                     "    <tr>\n",
                     "      <th>4</th>\n",
                     "      <td>5</td>\n",
                     "      <td>Plastic Bottle</td>\n",
                     "      <td>2025-09-09</td>\n",
                     "      <td>2025-09-13</td>\n",
                     "      <td>102</td>\n",
                     "      <td>2025-09-16</td>\n",
                     "    </tr>\n",
                     "    <tr>\n",
                     "      <th>5</th>\n",
                     "      <td>6</td>\n",
                     "      <td>Engine Block</td>\n",
                     "      <td>2025-09-11</td>\n",
                     "      <td>2025-09-15</td>\n",
                     "      <td>87</td>\n",
                     "      <td>2025-09-16</td>\n",
                     "    </tr>\n",
                     "    <tr>\n",
                     "      <th>6</th>\n",
                     "      <td>7</td>\n",
                     "      <td>Car Frame</td>\n",
                     "      <td>2025-09-13</td>\n",
                     "      <td>2025-09-17</td>\n",
                     "      <td>193</td>\n",
                     "      <td>2025-09-20</td>\n",
                     "    </tr>\n",
                     "    <tr>\n",
                     "      <th>7</th>\n",
                     "      <td>8</td>\n",
                     "      <td>Engine Block</td>\n",
                     "      <td>2025-09-15</td>\n",
                     "      <td>2025-09-19</td>\n",
                     "      <td>149</td>\n",
                     "      <td>2025-09-22</td>\n",
                     "    </tr>\n",
                     "    <tr>\n",
                     "      <th>8</th>\n",
                     "      <td>9</td>\n",
                     "      <td>Packaged Kit</td>\n",
                     "      <td>2025-09-17</td>\n",
                     "      <td>2025-09-21</td>\n",
                     "      <td>143</td>\n",
                     "      <td>2025-09-21</td>\n",
                     "    </tr>\n",
                     "    <tr>\n",
                     "      <th>9</th>\n",
                     "      <td>10</td>\n",
                     "      <td>Plastic Bottle</td>\n",
                     "      <td>2025-09-19</td>\n",
                     "      <td>2025-09-23</td>\n",
                     "      <td>171</td>\n",
                     "      <td>2025-09-24</td>\n",
                     "    </tr>\n",
                     "  </tbody>\n",
                     "</table>\n",
                     "</div>"
                  ],
                  "text/plain": [
                     "   prod_id     product_name planned_start_date planned_end_date  quantity  \\\n",
                     "0        1   Plastic Bottle         2025-09-01       2025-09-05        78   \n",
                     "1        2     Engine Block         2025-09-03       2025-09-07        95   \n",
                     "2        3     Packaged Kit         2025-09-05       2025-09-09       195   \n",
                     "3        4  Furniture Panel         2025-09-07       2025-09-11       160   \n",
                     "4        5   Plastic Bottle         2025-09-09       2025-09-13       102   \n",
                     "5        6     Engine Block         2025-09-11       2025-09-15        87   \n",
                     "6        7        Car Frame         2025-09-13       2025-09-17       193   \n",
                     "7        8     Engine Block         2025-09-15       2025-09-19       149   \n",
                     "8        9     Packaged Kit         2025-09-17       2025-09-21       143   \n",
                     "9       10   Plastic Bottle         2025-09-19       2025-09-23       171   \n",
                     "\n",
                     "  actual_end_date  \n",
                     "0      2025-09-05  \n",
                     "1      2025-09-08  \n",
                     "2      2025-09-09  \n",
                     "3      2025-09-11  \n",
                     "4      2025-09-16  \n",
                     "5      2025-09-16  \n",
                     "6      2025-09-20  \n",
                     "7      2025-09-22  \n",
                     "8      2025-09-21  \n",
                     "9      2025-09-24  "
                  ]
               },
               "execution_count": 7,
               "metadata": {},
               "output_type": "execute_result"
            }
         ],
         "source": [
            "production_schedule_df"
         ]
      },
      {
         "cell_type": "code",
         "execution_count": 8,
         "id": "888d68fd",
         "metadata": {},
         "outputs": [
            {
               "data": {
                  "text/html": [
                     "<div>\n",
                     "<style scoped>\n",
                     "    .dataframe tbody tr th:only-of-type {\n",
                     "        vertical-align: middle;\n",
                     "    }\n",
                     "\n",
                     "    .dataframe tbody tr th {\n",
                     "        vertical-align: top;\n",
                     "    }\n",
                     "\n",
                     "    .dataframe thead th {\n",
                     "        text-align: right;\n",
                     "    }\n",
                     "</style>\n",
                     "<table border=\"1\" class=\"dataframe\">\n",
                     "  <thead>\n",
                     "    <tr style=\"text-align: right;\">\n",
                     "      <th></th>\n",
                     "      <th>fg_id</th>\n",
                     "      <th>product_name</th>\n",
                     "      <th>stock_level</th>\n",
                     "      <th>reorder_point</th>\n",
                     "    </tr>\n",
                     "  </thead>\n",
                     "  <tbody>\n",
                     "    <tr>\n",
                     "      <th>0</th>\n",
                     "      <td>1</td>\n",
                     "      <td>Car Frame</td>\n",
                     "      <td>170</td>\n",
                     "      <td>75</td>\n",
                     "    </tr>\n",
                     "    <tr>\n",
                     "      <th>1</th>\n",
                     "      <td>2</td>\n",
                     "      <td>Plastic Bottle</td>\n",
                     "      <td>348</td>\n",
                     "      <td>57</td>\n",
                     "    </tr>\n",
                     "    <tr>\n",
                     "      <th>2</th>\n",
                     "      <td>3</td>\n",
                     "      <td>Furniture Panel</td>\n",
                     "      <td>319</td>\n",
                     "      <td>67</td>\n",
                     "    </tr>\n",
                     "    <tr>\n",
                     "      <th>3</th>\n",
                     "      <td>4</td>\n",
                     "      <td>Engine Block</td>\n",
                     "      <td>325</td>\n",
                     "      <td>76</td>\n",
                     "    </tr>\n",
                     "    <tr>\n",
                     "      <th>4</th>\n",
                     "      <td>5</td>\n",
                     "      <td>Packaged Kit</td>\n",
                     "      <td>280</td>\n",
                     "      <td>125</td>\n",
                     "    </tr>\n",
                     "  </tbody>\n",
                     "</table>\n",
                     "</div>"
                  ],
                  "text/plain": [
                     "   fg_id     product_name  stock_level  reorder_point\n",
                     "0      1        Car Frame          170             75\n",
                     "1      2   Plastic Bottle          348             57\n",
                     "2      3  Furniture Panel          319             67\n",
                     "3      4     Engine Block          325             76\n",
                     "4      5     Packaged Kit          280            125"
                  ]
               },
               "execution_count": 8,
               "metadata": {},
               "output_type": "execute_result"
            }
         ],
         "source": [
            "finished_goods_inventory_df"
         ]
      },
      {
         "cell_type": "markdown",
         "id": "764cd9b7",
         "metadata": {},
         "source": [
            "# Model"
         ]
      },
      {
         "cell_type": "code",
         "execution_count": 9,
         "id": "c27ea6b0",
         "metadata": {},
         "outputs": [
            {
               "data": {
                  "application/vnd.jupyter.widget-view+json": {
                     "model_id": "5040e518dcc24bedb320d7bb68cff4fd",
                     "version_major": 2,
                     "version_minor": 0
                  },
                  "text/plain": [
                     "modules.json:   0%|          | 0.00/385 [00:00<?, ?B/s]"
                  ]
               },
               "metadata": {},
               "output_type": "display_data"
            },
            {
               "data": {
                  "application/vnd.jupyter.widget-view+json": {
                     "model_id": "568ef0edf12345f7bfe1ecce5f175d80",
                     "version_major": 2,
                     "version_minor": 0
                  },
                  "text/plain": [
                     "README.md: 0.00B [00:00, ?B/s]"
                  ]
               },
               "metadata": {},
               "output_type": "display_data"
            },
            {
               "data": {
                  "application/vnd.jupyter.widget-view+json": {
                     "model_id": "123d6c2b45f64ce9a8c639056b47de60",
                     "version_major": 2,
                     "version_minor": 0
                  },
                  "text/plain": [
                     "sentence_bert_config.json:   0%|          | 0.00/57.0 [00:00<?, ?B/s]"
                  ]
               },
               "metadata": {},
               "output_type": "display_data"
            },
            {
               "data": {
                  "application/vnd.jupyter.widget-view+json": {
                     "model_id": "90316c1b554448a0a56542b288b0c682",
                     "version_major": 2,
                     "version_minor": 0
                  },
                  "text/plain": [
                     "config.json:   0%|          | 0.00/619 [00:00<?, ?B/s]"
                  ]
               },
               "metadata": {},
               "output_type": "display_data"
            },
            {
               "data": {
                  "application/vnd.jupyter.widget-view+json": {
                     "model_id": "d8fed5174d8741108cc7f4d19f20711b",
                     "version_major": 2,
                     "version_minor": 0
                  },
                  "text/plain": [
                     "model.safetensors:   0%|          | 0.00/670M [00:00<?, ?B/s]"
                  ]
               },
               "metadata": {},
               "output_type": "display_data"
            },
            {
               "data": {
                  "application/vnd.jupyter.widget-view+json": {
                     "model_id": "42206e95e8b7478c93a9407fd772d532",
                     "version_major": 2,
                     "version_minor": 0
                  },
                  "text/plain": [
                     "tokenizer_config.json:   0%|          | 0.00/342 [00:00<?, ?B/s]"
                  ]
               },
               "metadata": {},
               "output_type": "display_data"
            },
            {
               "data": {
                  "application/vnd.jupyter.widget-view+json": {
                     "model_id": "35b439da1abc45439dbbb965dfa70ab8",
                     "version_major": 2,
                     "version_minor": 0
                  },
                  "text/plain": [
                     "vocab.txt: 0.00B [00:00, ?B/s]"
                  ]
               },
               "metadata": {},
               "output_type": "display_data"
            },
            {
               "data": {
                  "application/vnd.jupyter.widget-view+json": {
                     "model_id": "d67a201906aa4a1391a1ebad2a317a01",
                     "version_major": 2,
                     "version_minor": 0
                  },
                  "text/plain": [
                     "tokenizer.json: 0.00B [00:00, ?B/s]"
                  ]
               },
               "metadata": {},
               "output_type": "display_data"
            },
            {
               "data": {
                  "application/vnd.jupyter.widget-view+json": {
                     "model_id": "9a845af3ba1a47d98e1f6ef52ff7767f",
                     "version_major": 2,
                     "version_minor": 0
                  },
                  "text/plain": [
                     "special_tokens_map.json:   0%|          | 0.00/125 [00:00<?, ?B/s]"
                  ]
               },
               "metadata": {},
               "output_type": "display_data"
            },
            {
               "data": {
                  "application/vnd.jupyter.widget-view+json": {
                     "model_id": "331499d86bb042da9778931f734bdcc6",
                     "version_major": 2,
                     "version_minor": 0
                  },
                  "text/plain": [
                     "config.json:   0%|          | 0.00/191 [00:00<?, ?B/s]"
                  ]
               },
               "metadata": {},
               "output_type": "display_data"
            },
            {
               "data": {
                  "text/plain": [
                     "HuggingFaceEmbeddings(model_name='thenlper/gte-large', cache_folder='C:/Users/sampath/Dev/TCS_GenAI_Hackaton/models', model_kwargs={}, encode_kwargs={}, query_encode_kwargs={}, multi_process=False, show_progress=False)"
                  ]
               },
               "execution_count": 9,
               "metadata": {},
               "output_type": "execute_result"
            }
         ],
         "source": [
            "embedding_model = HuggingFaceEmbeddings(model_name=\"thenlper/gte-large\", cache_folder=s.models_root_path.as_posix())\n",
            "embedding_model"
         ]
      },
      {
         "cell_type": "code",
         "execution_count": 10,
         "id": "24a56abc",
         "metadata": {},
         "outputs": [
            {
               "data": {
                  "text/plain": [
                     "[Document(metadata={'producer': 'Enhancv (https://www.enhancv.com)', 'creator': 'Enhancv', 'creationdate': '2025-09-01T18:42:24+00:00', 'moddate': '2025-09-02T00:18:28+05:30', 'ecv-data': '{\"_id\":\"68b5e3d211bab98ee9dca51d\",\"style\":{\"background\":\"b11locked\",\"colors\":[\"#000000\",\"#6F7878\"],\"columnLayoutOption\":1,\"fontBody\":\"interui\",\"fontHeading\":\"rubik\",\"fontSize\":2,\"headerExtraSpacing\":0,\"isMetaDataDisabled\":false,\"layout\":\"ivyleague\",\"layoutSize\":\"medium\",\"lineHeightOption\":0,\"marginOption\":0,\"pageMarginOption\":0,\"record\":\"ResumeStyle\"},\"header\":{\"contacts\":\"\",\"customHeight\":188,\"email\":\"sampathkovvali@gmail.com\",\"extraField\":\"\",\"extraLink\":\"\",\"height\":77,\"link\":\"github.com/sampath017\",\"location\":\"India\",\"name\":\"Sampath Kovvali\",\"phone\":\"+91 9441682374\",\"photo\":\"\",\"dateOfBirth\":\"\",\"nationality\":\"\",\"photoStyle\":\"round\",\"record\":\"Header\",\"showEmail\":true,\"showExtraField\":false,\"showExtraLink\":false,\"showLink\":true,\"showLocation\":true,\"showPhone\":true,\"showPhoto\":false,\"showTitle\":true,\"showDateOfBirth\":false,\"showNationality\":false,\"title\":\"Data Scientist\",\"uppercaseName\":true},\"sections\":[{\"__t\":\"SummarySection\",\"column\":0,\"enabled\":true,\"height\":33,\"items\":[{\"height\":64,\"id\":\"31dl6znpgq\",\"record\":\"SummaryItem\",\"alignment\":\"left\",\"text\":\"I am a Data Scientist with a firm background in Electrical and Electronics Engineering, equipped with robust programming and analytical skills. My current role at TCS involves developing AI solutions that enhance workflow efficiency and automate processes. I thrive on challenges and enjoy collaborating with teams to push innovation forward, building advanced applications that drive tangible results.\"}],\"name\":\"\",\"record\":\"SummarySection\",\"showTitle\":true},{\"__t\":\"ExperienceSection\",\"column\":0,\"enabled\":true,\"height\":33,\"items\":[{\"dateRange\":{\"fromMonth\":0,\"fromYear\":2023,\"isOngoing\":true,\"ongoingText\":\"\",\"record\":\"DateRange\",\"toMonth\":0,\"toYear\":1970},\"table\":{\"cols\":2,\"record\":\"TableItem\",\"rows\":[[\"<b>Project name</b>\",\"<b>Description</b>\"],[\"\",\"\"]]},\"height\":150,\"id\":\"cn9cxb9rqe\",\"record\":\"ExperienceItem\",\"alignment\":\"left\",\"bullets\":[\"Built a RAG application using LLaMA 3.2 11B Vision model for incident classification &amp; resolution.\",\"Implemented an LLM-based MOM generator for Teams meetings.\",\"Automated 5+ workflows with Python, Selenium, and FastAPI.\",\"Collaborated with cross-functional teams to enhance AI-driven features using state-of-the-art GenAI techniques.\"],\"companyLogo\":\"\",\"description\":\"Leading IT services and consulting company.\",\"link\":\"\",\"location\":\"India\",\"position\":\"Data Scientist\",\"showBullets\":true,\"showCompany\":true,\"showDateRange\":true,\"showDescription\":true,\"showLink\":false,\"showLocation\":true,\"showTable\":true,\"showTitle\":true,\"workplace\":\"Tata Consultancy Services (TCS)\"}],\"name\":\"\",\"record\":\"ExperienceSection\",\"showCompanyLogos\":false,\"timelineWidth\":136},{\"__t\":\"EducationSection\",\"column\":0,\"enabled\":true,\"height\":33,\"items\":[{\"dateRange\":{\"fromMonth\":6,\"fromYear\":2018,\"isOngoing\":false,\"ongoingText\":\"\",\"record\":\"DateRange\",\"toMonth\":6,\"toYear\":2022},\"height\":52,\"id\":\"6pfr88dfoj\",\"record\":\"EducationItem\",\"alignment\":\"left\",\"bullets\":[\"\"],\"companyLogo\":\"\",\"degree\":\"Bachelor of Technology\",\"gpa\":\"\",\"gpaText\":\"\",\"institution\":\"Raghu Engineering College\",\"location\":\"Visakhapatnam\",\"maxGpa\":\"\",\"showBullets\":false,\"showDateRange\":true,\"showGpa\":false,\"showInstitution\":true,\"showLocation\":true}],\"name\":\"\",\"record\":\"EducationSection\",\"showCompanyLogos\":false,\"timelineWidth\":136},{\"__t\":\"TechnologySection\",\"column\":1,\"enabled\":true,\"height\":33,\"items\":[{\"height\":28,\"id\":\"k8zjqkav64\",\"record\":\"TechnologyItem\",\"description\":\"\",\"showTitle\":true,\"tags\":[\"Python\",\"Pandas\",\"NumPy\",\"Java\",\"Node.js\"],\"title\":\"Programming Languages\"},{\"height\":28,\"id\":\"67jna045s7\",\"record\":\"TechnologyItem\",\"description\":\"\",\"showTitle\":true,\"tags\":[\"Flask\",\"FastAPI\",\"Pytorch\",\"ReactJS\"],\"title\":\"Frameworks &amp; Libraries\"},{\"height\":28,\"id\":\"vbkox86ncj\",\"record\":\"TechnologyItem\",\"description\":\"\",\"showTitle\":true,\"tags\":[\"Batch Scripting with UNIX Commands\",\"Selenium with python\",\"GenAI Techniques\"],\"title\":\"Automation &amp; Scripting\"},{\"height\":28,\"id\":\"pm8oqcoemn\",\"record\":\"TechnologyItem\",\"description\":\"\",\"showTitle\":true,\"tags\":[\"SQL\",\"PostgreSQL\"],\"title\":\"Databases\"},{\"height\":28,\"id\":\"j7vh6but0b\",\"record\":\"TechnologyItem\",\"description\":\"\",\"showTitle\":true,\"tags\":[\"Docker\",\"Linux\"],\"title\":\"Tools &amp; Technologies\"}],\"name\":\"\",\"record\":\"TechnologySection\",\"compactMode\":true,\"surroundingBorder\":false},{\"__t\":\"ActivitySection\",\"column\":0,\"enabled\":true,\"height\":33,\"items\":[{\"dateRange\":{\"fromMonth\":0,\"fromYear\":2023,\"isOngoing\":true,\"ongoingText\":\"\",\"record\":\"DateRange\",\"toMonth\":0,\"toYear\":1970},\"height\":114,\"id\":\"tlf1du31bd\",\"record\":\"ActivityItem\",\"alignment\":\"left\",\"bullets\":[\"Developed a lightweight PyTorch framework to streamline the training and logging of deep learning models.\",\"Showcased versatility in modifying model parameters for optimized performance.\"],\"description\":\"Project aimed at improving the efficiency of deep learning model management.\",\"link\":\"\",\"location\":\"Remote\",\"showBullets\":true,\"showDateRange\":true,\"showDescription\":true,\"showLink\":false,\"showLocation\":true,\"title\":\"QuickAI\"},{\"dateRange\":{\"fromMonth\":0,\"fromYear\":2023,\"isOngoing\":true,\"ongoingText\":\"\",\"record\":\"DateRange\",\"toMonth\":0,\"toYear\":1970},\"height\":114,\"id\":\"68df1pc88l\",\"record\":\"ActivityItem\",\"alignment\":\"left\",\"bullets\":[\"Created a playground for experimenting with various transformer models.\",\"Included features for text generation and modification.\"],\"description\":\"A platform for testing and training transformer models.\",\"link\":\"\",\"location\":\"Remote\",\"showBullets\":true,\"showDateRange\":true,\"showDescription\":true,\"showLink\":false,\"showLocation\":true,\"title\":\"GPT\"}],\"name\":\"\",\"record\":\"ActivitySection\"},{\"__t\":\"PassionSection\",\"column\":1,\"enabled\":true,\"height\":33,\"items\":[{\"height\":80,\"id\":\"tinz3x0266\",\"record\":\"PassionItem\",\"alignment\":\"left\",\"description\":\"Dedicated to exploring artificial intelligence and its applications in transforming industries.\",\"icon\":\"83-free-prize-award\",\"showDescription\":true,\"title\":\"Artificial Intelligence Enthusiast\"},{\"height\":80,\"id\":\"w829smc692\",\"record\":\"PassionItem\",\"alignment\":\"left\",\"description\":\"Enjoys understanding psychological principles to enhance personal well-being.\",\"icon\":\"09-free-flash\",\"showDescription\":true,\"title\":\"Psychology Interest\"},{\"height\":80,\"id\":\"hd2vxzf00i\",\"record\":\"PassionItem\",\"alignment\":\"left\",\"description\":\"Committed to maintaining fitness through regular exercising and healthy living.\",\"icon\":\"21-free-star\",\"showDescription\":true,\"title\":\"Fitness Advocate\"}],\"name\":\"\",\"record\":\"PassionSection\",\"showIcons\":true}],\"user\":\"68b5e3cb02d94b279d89d02c\"}', 'title': 'Sampath Kovvali Resume', 'source': 'C:\\\\Users\\\\sampath\\\\Dev\\\\TCS_GenAI_Hackaton\\\\data\\\\SampathKovvaliResume.pdf', 'total_pages': 1, 'page': 0, 'page_label': '1'}, page_content=':\\n:\\n:\\n:\\n:\\nSAMPA TH KOVV ALI\\nData Scientist\\n\\x0091 9441682374 sampathkovvali@gmail.com github.com/sampath017 India\\nSummary\\nI am a Data Scientist with a firm background in Electrical and Electronics Engineering, equipped with robust programming and analytical \\nskills. My current role at TCS involves developing AI solutions that enhance workflow efficiency and automate processes. I thrive on \\nchallenges and enjoy collaborating with teams to push innovation forward, building advanced applications that drive tangible results.\\nExperience\\nTata Consultancy Services \\x00TCS\\x00 India\\nData Scientist 01/2023 \\x00 Present\\nLeading IT services and consulting company.\\nBuilt a RAG application using LLaMA 3.2 11B Vision model for incident classification & resolution.\\nImplemented an LLM-based MOM generator for Teams meetings.\\nAutomated 5\\x00 workflows with Python, Selenium, and FastAPI.\\nCollaborated with cross-functional teams to enhance AI-driven features using state-of-the-art GenAI techniques.\\nEducation\\nRaghu Engineering College Visakhapatnam\\nBachelor of Technology 07/2018 \\x00 07/2022\\nSkills\\nProgramming Languages Python, Pandas, NumPy, Java, Node.js\\nFrameworks & Libraries Flask, FastAPI, Pytorch, ReactJS\\nAutomation & Scripting Batch Scripting with UNIX Commands, Selenium with python, GenAI Techniques\\nDatabases SQL, PostgreSQL\\nTools & Technologies Docker, Linux\\nProjects\\nQuickAI Remote\\n01/2023 \\x00 Present\\nProject aimed at improving the efficiency of deep learning model management.\\nDeveloped a lightweight PyTorch framework to streamline the training and logging of deep learning models.\\nShowcased versatility in modifying model parameters for optimized performance.\\nGPT Remote\\n01/2023 \\x00 Present\\nA platform for testing and training transformer models.\\nCreated a playground for experimenting with various transformer models.\\nIncluded features for text generation and modification.\\nInterests\\nArtificial Intelligence Enthusiast\\nDedicated to exploring artificial \\nintelligence and its applications in \\ntransforming industries.\\nPsychology Interest\\nEnjoys understanding psychological \\nprinciples to enhance personal well-\\nbeing.\\nFitness Advocate\\nCommitted to maintaining fitness \\nthrough regular exercising and healthy \\nliving.\\n•\\n•\\n•\\n•\\n•\\n•\\n•\\n•\\n* k s')]"
                  ]
               },
               "execution_count": 10,
               "metadata": {},
               "output_type": "execute_result"
            }
         ],
         "source": [
            "pdf_path = Path(\"/content/SampathKovvaliResume.pdf\") if in_colab() else s.data_root_path/\"SampathKovvaliResume.pdf\"\n",
            "loader = PyPDFLoader(pdf_path)\n",
            "docs = loader.load()\n",
            "docs"
         ]
      },
      {
         "cell_type": "code",
         "execution_count": 11,
         "id": "eca276b2",
         "metadata": {},
         "outputs": [
            {
               "data": {
                  "text/plain": [
                     "[Document(metadata={'producer': 'Enhancv (https://www.enhancv.com)', 'creator': 'Enhancv', 'creationdate': '2025-09-01T18:42:24+00:00', 'moddate': '2025-09-02T00:18:28+05:30', 'ecv-data': '{\"_id\":\"68b5e3d211bab98ee9dca51d\",\"style\":{\"background\":\"b11locked\",\"colors\":[\"#000000\",\"#6F7878\"],\"columnLayoutOption\":1,\"fontBody\":\"interui\",\"fontHeading\":\"rubik\",\"fontSize\":2,\"headerExtraSpacing\":0,\"isMetaDataDisabled\":false,\"layout\":\"ivyleague\",\"layoutSize\":\"medium\",\"lineHeightOption\":0,\"marginOption\":0,\"pageMarginOption\":0,\"record\":\"ResumeStyle\"},\"header\":{\"contacts\":\"\",\"customHeight\":188,\"email\":\"sampathkovvali@gmail.com\",\"extraField\":\"\",\"extraLink\":\"\",\"height\":77,\"link\":\"github.com/sampath017\",\"location\":\"India\",\"name\":\"Sampath Kovvali\",\"phone\":\"+91 9441682374\",\"photo\":\"\",\"dateOfBirth\":\"\",\"nationality\":\"\",\"photoStyle\":\"round\",\"record\":\"Header\",\"showEmail\":true,\"showExtraField\":false,\"showExtraLink\":false,\"showLink\":true,\"showLocation\":true,\"showPhone\":true,\"showPhoto\":false,\"showTitle\":true,\"showDateOfBirth\":false,\"showNationality\":false,\"title\":\"Data Scientist\",\"uppercaseName\":true},\"sections\":[{\"__t\":\"SummarySection\",\"column\":0,\"enabled\":true,\"height\":33,\"items\":[{\"height\":64,\"id\":\"31dl6znpgq\",\"record\":\"SummaryItem\",\"alignment\":\"left\",\"text\":\"I am a Data Scientist with a firm background in Electrical and Electronics Engineering, equipped with robust programming and analytical skills. My current role at TCS involves developing AI solutions that enhance workflow efficiency and automate processes. I thrive on challenges and enjoy collaborating with teams to push innovation forward, building advanced applications that drive tangible results.\"}],\"name\":\"\",\"record\":\"SummarySection\",\"showTitle\":true},{\"__t\":\"ExperienceSection\",\"column\":0,\"enabled\":true,\"height\":33,\"items\":[{\"dateRange\":{\"fromMonth\":0,\"fromYear\":2023,\"isOngoing\":true,\"ongoingText\":\"\",\"record\":\"DateRange\",\"toMonth\":0,\"toYear\":1970},\"table\":{\"cols\":2,\"record\":\"TableItem\",\"rows\":[[\"<b>Project name</b>\",\"<b>Description</b>\"],[\"\",\"\"]]},\"height\":150,\"id\":\"cn9cxb9rqe\",\"record\":\"ExperienceItem\",\"alignment\":\"left\",\"bullets\":[\"Built a RAG application using LLaMA 3.2 11B Vision model for incident classification &amp; resolution.\",\"Implemented an LLM-based MOM generator for Teams meetings.\",\"Automated 5+ workflows with Python, Selenium, and FastAPI.\",\"Collaborated with cross-functional teams to enhance AI-driven features using state-of-the-art GenAI techniques.\"],\"companyLogo\":\"\",\"description\":\"Leading IT services and consulting company.\",\"link\":\"\",\"location\":\"India\",\"position\":\"Data Scientist\",\"showBullets\":true,\"showCompany\":true,\"showDateRange\":true,\"showDescription\":true,\"showLink\":false,\"showLocation\":true,\"showTable\":true,\"showTitle\":true,\"workplace\":\"Tata Consultancy Services (TCS)\"}],\"name\":\"\",\"record\":\"ExperienceSection\",\"showCompanyLogos\":false,\"timelineWidth\":136},{\"__t\":\"EducationSection\",\"column\":0,\"enabled\":true,\"height\":33,\"items\":[{\"dateRange\":{\"fromMonth\":6,\"fromYear\":2018,\"isOngoing\":false,\"ongoingText\":\"\",\"record\":\"DateRange\",\"toMonth\":6,\"toYear\":2022},\"height\":52,\"id\":\"6pfr88dfoj\",\"record\":\"EducationItem\",\"alignment\":\"left\",\"bullets\":[\"\"],\"companyLogo\":\"\",\"degree\":\"Bachelor of Technology\",\"gpa\":\"\",\"gpaText\":\"\",\"institution\":\"Raghu Engineering College\",\"location\":\"Visakhapatnam\",\"maxGpa\":\"\",\"showBullets\":false,\"showDateRange\":true,\"showGpa\":false,\"showInstitution\":true,\"showLocation\":true}],\"name\":\"\",\"record\":\"EducationSection\",\"showCompanyLogos\":false,\"timelineWidth\":136},{\"__t\":\"TechnologySection\",\"column\":1,\"enabled\":true,\"height\":33,\"items\":[{\"height\":28,\"id\":\"k8zjqkav64\",\"record\":\"TechnologyItem\",\"description\":\"\",\"showTitle\":true,\"tags\":[\"Python\",\"Pandas\",\"NumPy\",\"Java\",\"Node.js\"],\"title\":\"Programming Languages\"},{\"height\":28,\"id\":\"67jna045s7\",\"record\":\"TechnologyItem\",\"description\":\"\",\"showTitle\":true,\"tags\":[\"Flask\",\"FastAPI\",\"Pytorch\",\"ReactJS\"],\"title\":\"Frameworks &amp; Libraries\"},{\"height\":28,\"id\":\"vbkox86ncj\",\"record\":\"TechnologyItem\",\"description\":\"\",\"showTitle\":true,\"tags\":[\"Batch Scripting with UNIX Commands\",\"Selenium with python\",\"GenAI Techniques\"],\"title\":\"Automation &amp; Scripting\"},{\"height\":28,\"id\":\"pm8oqcoemn\",\"record\":\"TechnologyItem\",\"description\":\"\",\"showTitle\":true,\"tags\":[\"SQL\",\"PostgreSQL\"],\"title\":\"Databases\"},{\"height\":28,\"id\":\"j7vh6but0b\",\"record\":\"TechnologyItem\",\"description\":\"\",\"showTitle\":true,\"tags\":[\"Docker\",\"Linux\"],\"title\":\"Tools &amp; Technologies\"}],\"name\":\"\",\"record\":\"TechnologySection\",\"compactMode\":true,\"surroundingBorder\":false},{\"__t\":\"ActivitySection\",\"column\":0,\"enabled\":true,\"height\":33,\"items\":[{\"dateRange\":{\"fromMonth\":0,\"fromYear\":2023,\"isOngoing\":true,\"ongoingText\":\"\",\"record\":\"DateRange\",\"toMonth\":0,\"toYear\":1970},\"height\":114,\"id\":\"tlf1du31bd\",\"record\":\"ActivityItem\",\"alignment\":\"left\",\"bullets\":[\"Developed a lightweight PyTorch framework to streamline the training and logging of deep learning models.\",\"Showcased versatility in modifying model parameters for optimized performance.\"],\"description\":\"Project aimed at improving the efficiency of deep learning model management.\",\"link\":\"\",\"location\":\"Remote\",\"showBullets\":true,\"showDateRange\":true,\"showDescription\":true,\"showLink\":false,\"showLocation\":true,\"title\":\"QuickAI\"},{\"dateRange\":{\"fromMonth\":0,\"fromYear\":2023,\"isOngoing\":true,\"ongoingText\":\"\",\"record\":\"DateRange\",\"toMonth\":0,\"toYear\":1970},\"height\":114,\"id\":\"68df1pc88l\",\"record\":\"ActivityItem\",\"alignment\":\"left\",\"bullets\":[\"Created a playground for experimenting with various transformer models.\",\"Included features for text generation and modification.\"],\"description\":\"A platform for testing and training transformer models.\",\"link\":\"\",\"location\":\"Remote\",\"showBullets\":true,\"showDateRange\":true,\"showDescription\":true,\"showLink\":false,\"showLocation\":true,\"title\":\"GPT\"}],\"name\":\"\",\"record\":\"ActivitySection\"},{\"__t\":\"PassionSection\",\"column\":1,\"enabled\":true,\"height\":33,\"items\":[{\"height\":80,\"id\":\"tinz3x0266\",\"record\":\"PassionItem\",\"alignment\":\"left\",\"description\":\"Dedicated to exploring artificial intelligence and its applications in transforming industries.\",\"icon\":\"83-free-prize-award\",\"showDescription\":true,\"title\":\"Artificial Intelligence Enthusiast\"},{\"height\":80,\"id\":\"w829smc692\",\"record\":\"PassionItem\",\"alignment\":\"left\",\"description\":\"Enjoys understanding psychological principles to enhance personal well-being.\",\"icon\":\"09-free-flash\",\"showDescription\":true,\"title\":\"Psychology Interest\"},{\"height\":80,\"id\":\"hd2vxzf00i\",\"record\":\"PassionItem\",\"alignment\":\"left\",\"description\":\"Committed to maintaining fitness through regular exercising and healthy living.\",\"icon\":\"21-free-star\",\"showDescription\":true,\"title\":\"Fitness Advocate\"}],\"name\":\"\",\"record\":\"PassionSection\",\"showIcons\":true}],\"user\":\"68b5e3cb02d94b279d89d02c\"}', 'title': 'Sampath Kovvali Resume', 'source': 'C:\\\\Users\\\\sampath\\\\Dev\\\\TCS_GenAI_Hackaton\\\\data\\\\SampathKovvaliResume.pdf', 'total_pages': 1, 'page': 0, 'page_label': '1'}, page_content=':\\n:\\n:\\n:\\n:\\nSAMPA TH KOVV ALI\\nData Scientist\\n\\x0091 9441682374 sampathkovvali@gmail.com github.com/sampath017 India\\nSummary\\nI am a Data Scientist with a firm background in Electrical and Electronics Engineering, equipped with robust programming and analytical \\nskills. My current role at TCS involves developing AI solutions that enhance workflow efficiency and automate processes. I thrive on \\nchallenges and enjoy collaborating with teams to push innovation forward, building advanced applications that drive tangible results.\\nExperience\\nTata Consultancy Services \\x00TCS\\x00 India\\nData Scientist 01/2023 \\x00 Present\\nLeading IT services and consulting company.\\nBuilt a RAG application using LLaMA 3.2 11B Vision model for incident classification & resolution.\\nImplemented an LLM-based MOM generator for Teams meetings.\\nAutomated 5\\x00 workflows with Python, Selenium, and FastAPI.\\nCollaborated with cross-functional teams to enhance AI-driven features using state-of-the-art GenAI techniques.\\nEducation\\nRaghu Engineering College Visakhapatnam\\nBachelor of Technology 07/2018 \\x00 07/2022\\nSkills\\nProgramming Languages Python, Pandas, NumPy, Java, Node.js\\nFrameworks & Libraries Flask, FastAPI, Pytorch, ReactJS\\nAutomation & Scripting Batch Scripting with UNIX Commands, Selenium with python, GenAI Techniques\\nDatabases SQL, PostgreSQL\\nTools & Technologies Docker, Linux\\nProjects\\nQuickAI Remote\\n01/2023 \\x00 Present\\nProject aimed at improving the efficiency of deep learning model management.\\nDeveloped a lightweight PyTorch framework to streamline the training and logging of deep learning models.\\nShowcased versatility in modifying model parameters for optimized performance.\\nGPT Remote\\n01/2023 \\x00 Present\\nA platform for testing and training transformer models.\\nCreated a playground for experimenting with various transformer models.\\nIncluded features for text generation and modification.\\nInterests\\nArtificial Intelligence Enthusiast\\nDedicated to exploring artificial \\nintelligence and its applications in'),\n",
                     " Document(metadata={'producer': 'Enhancv (https://www.enhancv.com)', 'creator': 'Enhancv', 'creationdate': '2025-09-01T18:42:24+00:00', 'moddate': '2025-09-02T00:18:28+05:30', 'ecv-data': '{\"_id\":\"68b5e3d211bab98ee9dca51d\",\"style\":{\"background\":\"b11locked\",\"colors\":[\"#000000\",\"#6F7878\"],\"columnLayoutOption\":1,\"fontBody\":\"interui\",\"fontHeading\":\"rubik\",\"fontSize\":2,\"headerExtraSpacing\":0,\"isMetaDataDisabled\":false,\"layout\":\"ivyleague\",\"layoutSize\":\"medium\",\"lineHeightOption\":0,\"marginOption\":0,\"pageMarginOption\":0,\"record\":\"ResumeStyle\"},\"header\":{\"contacts\":\"\",\"customHeight\":188,\"email\":\"sampathkovvali@gmail.com\",\"extraField\":\"\",\"extraLink\":\"\",\"height\":77,\"link\":\"github.com/sampath017\",\"location\":\"India\",\"name\":\"Sampath Kovvali\",\"phone\":\"+91 9441682374\",\"photo\":\"\",\"dateOfBirth\":\"\",\"nationality\":\"\",\"photoStyle\":\"round\",\"record\":\"Header\",\"showEmail\":true,\"showExtraField\":false,\"showExtraLink\":false,\"showLink\":true,\"showLocation\":true,\"showPhone\":true,\"showPhoto\":false,\"showTitle\":true,\"showDateOfBirth\":false,\"showNationality\":false,\"title\":\"Data Scientist\",\"uppercaseName\":true},\"sections\":[{\"__t\":\"SummarySection\",\"column\":0,\"enabled\":true,\"height\":33,\"items\":[{\"height\":64,\"id\":\"31dl6znpgq\",\"record\":\"SummaryItem\",\"alignment\":\"left\",\"text\":\"I am a Data Scientist with a firm background in Electrical and Electronics Engineering, equipped with robust programming and analytical skills. My current role at TCS involves developing AI solutions that enhance workflow efficiency and automate processes. I thrive on challenges and enjoy collaborating with teams to push innovation forward, building advanced applications that drive tangible results.\"}],\"name\":\"\",\"record\":\"SummarySection\",\"showTitle\":true},{\"__t\":\"ExperienceSection\",\"column\":0,\"enabled\":true,\"height\":33,\"items\":[{\"dateRange\":{\"fromMonth\":0,\"fromYear\":2023,\"isOngoing\":true,\"ongoingText\":\"\",\"record\":\"DateRange\",\"toMonth\":0,\"toYear\":1970},\"table\":{\"cols\":2,\"record\":\"TableItem\",\"rows\":[[\"<b>Project name</b>\",\"<b>Description</b>\"],[\"\",\"\"]]},\"height\":150,\"id\":\"cn9cxb9rqe\",\"record\":\"ExperienceItem\",\"alignment\":\"left\",\"bullets\":[\"Built a RAG application using LLaMA 3.2 11B Vision model for incident classification &amp; resolution.\",\"Implemented an LLM-based MOM generator for Teams meetings.\",\"Automated 5+ workflows with Python, Selenium, and FastAPI.\",\"Collaborated with cross-functional teams to enhance AI-driven features using state-of-the-art GenAI techniques.\"],\"companyLogo\":\"\",\"description\":\"Leading IT services and consulting company.\",\"link\":\"\",\"location\":\"India\",\"position\":\"Data Scientist\",\"showBullets\":true,\"showCompany\":true,\"showDateRange\":true,\"showDescription\":true,\"showLink\":false,\"showLocation\":true,\"showTable\":true,\"showTitle\":true,\"workplace\":\"Tata Consultancy Services (TCS)\"}],\"name\":\"\",\"record\":\"ExperienceSection\",\"showCompanyLogos\":false,\"timelineWidth\":136},{\"__t\":\"EducationSection\",\"column\":0,\"enabled\":true,\"height\":33,\"items\":[{\"dateRange\":{\"fromMonth\":6,\"fromYear\":2018,\"isOngoing\":false,\"ongoingText\":\"\",\"record\":\"DateRange\",\"toMonth\":6,\"toYear\":2022},\"height\":52,\"id\":\"6pfr88dfoj\",\"record\":\"EducationItem\",\"alignment\":\"left\",\"bullets\":[\"\"],\"companyLogo\":\"\",\"degree\":\"Bachelor of Technology\",\"gpa\":\"\",\"gpaText\":\"\",\"institution\":\"Raghu Engineering College\",\"location\":\"Visakhapatnam\",\"maxGpa\":\"\",\"showBullets\":false,\"showDateRange\":true,\"showGpa\":false,\"showInstitution\":true,\"showLocation\":true}],\"name\":\"\",\"record\":\"EducationSection\",\"showCompanyLogos\":false,\"timelineWidth\":136},{\"__t\":\"TechnologySection\",\"column\":1,\"enabled\":true,\"height\":33,\"items\":[{\"height\":28,\"id\":\"k8zjqkav64\",\"record\":\"TechnologyItem\",\"description\":\"\",\"showTitle\":true,\"tags\":[\"Python\",\"Pandas\",\"NumPy\",\"Java\",\"Node.js\"],\"title\":\"Programming Languages\"},{\"height\":28,\"id\":\"67jna045s7\",\"record\":\"TechnologyItem\",\"description\":\"\",\"showTitle\":true,\"tags\":[\"Flask\",\"FastAPI\",\"Pytorch\",\"ReactJS\"],\"title\":\"Frameworks &amp; Libraries\"},{\"height\":28,\"id\":\"vbkox86ncj\",\"record\":\"TechnologyItem\",\"description\":\"\",\"showTitle\":true,\"tags\":[\"Batch Scripting with UNIX Commands\",\"Selenium with python\",\"GenAI Techniques\"],\"title\":\"Automation &amp; Scripting\"},{\"height\":28,\"id\":\"pm8oqcoemn\",\"record\":\"TechnologyItem\",\"description\":\"\",\"showTitle\":true,\"tags\":[\"SQL\",\"PostgreSQL\"],\"title\":\"Databases\"},{\"height\":28,\"id\":\"j7vh6but0b\",\"record\":\"TechnologyItem\",\"description\":\"\",\"showTitle\":true,\"tags\":[\"Docker\",\"Linux\"],\"title\":\"Tools &amp; Technologies\"}],\"name\":\"\",\"record\":\"TechnologySection\",\"compactMode\":true,\"surroundingBorder\":false},{\"__t\":\"ActivitySection\",\"column\":0,\"enabled\":true,\"height\":33,\"items\":[{\"dateRange\":{\"fromMonth\":0,\"fromYear\":2023,\"isOngoing\":true,\"ongoingText\":\"\",\"record\":\"DateRange\",\"toMonth\":0,\"toYear\":1970},\"height\":114,\"id\":\"tlf1du31bd\",\"record\":\"ActivityItem\",\"alignment\":\"left\",\"bullets\":[\"Developed a lightweight PyTorch framework to streamline the training and logging of deep learning models.\",\"Showcased versatility in modifying model parameters for optimized performance.\"],\"description\":\"Project aimed at improving the efficiency of deep learning model management.\",\"link\":\"\",\"location\":\"Remote\",\"showBullets\":true,\"showDateRange\":true,\"showDescription\":true,\"showLink\":false,\"showLocation\":true,\"title\":\"QuickAI\"},{\"dateRange\":{\"fromMonth\":0,\"fromYear\":2023,\"isOngoing\":true,\"ongoingText\":\"\",\"record\":\"DateRange\",\"toMonth\":0,\"toYear\":1970},\"height\":114,\"id\":\"68df1pc88l\",\"record\":\"ActivityItem\",\"alignment\":\"left\",\"bullets\":[\"Created a playground for experimenting with various transformer models.\",\"Included features for text generation and modification.\"],\"description\":\"A platform for testing and training transformer models.\",\"link\":\"\",\"location\":\"Remote\",\"showBullets\":true,\"showDateRange\":true,\"showDescription\":true,\"showLink\":false,\"showLocation\":true,\"title\":\"GPT\"}],\"name\":\"\",\"record\":\"ActivitySection\"},{\"__t\":\"PassionSection\",\"column\":1,\"enabled\":true,\"height\":33,\"items\":[{\"height\":80,\"id\":\"tinz3x0266\",\"record\":\"PassionItem\",\"alignment\":\"left\",\"description\":\"Dedicated to exploring artificial intelligence and its applications in transforming industries.\",\"icon\":\"83-free-prize-award\",\"showDescription\":true,\"title\":\"Artificial Intelligence Enthusiast\"},{\"height\":80,\"id\":\"w829smc692\",\"record\":\"PassionItem\",\"alignment\":\"left\",\"description\":\"Enjoys understanding psychological principles to enhance personal well-being.\",\"icon\":\"09-free-flash\",\"showDescription\":true,\"title\":\"Psychology Interest\"},{\"height\":80,\"id\":\"hd2vxzf00i\",\"record\":\"PassionItem\",\"alignment\":\"left\",\"description\":\"Committed to maintaining fitness through regular exercising and healthy living.\",\"icon\":\"21-free-star\",\"showDescription\":true,\"title\":\"Fitness Advocate\"}],\"name\":\"\",\"record\":\"PassionSection\",\"showIcons\":true}],\"user\":\"68b5e3cb02d94b279d89d02c\"}', 'title': 'Sampath Kovvali Resume', 'source': 'C:\\\\Users\\\\sampath\\\\Dev\\\\TCS_GenAI_Hackaton\\\\data\\\\SampathKovvaliResume.pdf', 'total_pages': 1, 'page': 0, 'page_label': '1'}, page_content='transforming industries.\\nPsychology Interest\\nEnjoys understanding psychological \\nprinciples to enhance personal well-\\nbeing.\\nFitness Advocate\\nCommitted to maintaining fitness \\nthrough regular exercising and healthy \\nliving.\\n•\\n•\\n•\\n•\\n•\\n•\\n•\\n•\\n* k s')]"
                  ]
               },
               "execution_count": 11,
               "metadata": {},
               "output_type": "execute_result"
            }
         ],
         "source": [
            "# Split into chunks for embedding\n",
            "splitter = RecursiveCharacterTextSplitter(chunk_size=2000, chunk_overlap=10)\n",
            "chunks = splitter.split_documents(docs)\n",
            "chunks"
         ]
      },
      {
         "cell_type": "code",
         "execution_count": 12,
         "id": "37503f8b",
         "metadata": {},
         "outputs": [],
         "source": [
            "# ----------------------------\n",
            "# 3. Store in ChromaDB\n",
            "# ----------------------------\n",
            "persist_dir = s.data_root_path / Path(\"chromadb_store\")\n",
            "db = Chroma.from_documents(\n",
            "    documents=chunks,\n",
            "    embedding=embedding_model,\n",
            "    persist_directory=str(persist_dir)\n",
            ")"
         ]
      },
      {
         "cell_type": "code",
         "execution_count": 25,
         "id": "5beaff93",
         "metadata": {},
         "outputs": [
            {
               "data": {
                  "application/vnd.jupyter.widget-view+json": {
                     "model_id": "e073bcc1c0a44643bc22c46a18e072bc",
                     "version_major": 2,
                     "version_minor": 0
                  },
                  "text/plain": [
                     "Loading checkpoint shards:   0%|          | 0/2 [00:00<?, ?it/s]"
                  ]
               },
               "metadata": {},
               "output_type": "display_data"
            },
            {
               "ename": "",
               "evalue": "",
               "output_type": "error",
               "traceback": [
                  "\u001b[1;31mThe Kernel crashed while executing code in the current cell or a previous cell. \n",
                  "\u001b[1;31mPlease review the code in the cell(s) to identify a possible cause of the failure. \n",
                  "\u001b[1;31mClick <a href='https://aka.ms/vscodeJupyterKernelCrash'>here</a> for more info. \n",
                  "\u001b[1;31mView Jupyter <a href='command:jupyter.viewOutput'>log</a> for further details."
               ]
            }
         ],
         "source": [
            "# Model name on Hugging Face Hub\n",
            "model_id = \"google/gemma-3-4b-it\"\n",
            "\n",
            "cache_dir = s.models_root_path\n",
            "tokenizer = AutoTokenizer.from_pretrained(model_id, cache_dir=cache_dir)\n",
            "model = AutoModelForCausalLM.from_pretrained(\n",
            "    model_id,\n",
            "    cache_dir=cache_dir\n",
            ")\n",
            "\n",
            "model"
         ]
      },
      {
         "cell_type": "code",
         "execution_count": null,
         "id": "c5f65e8e",
         "metadata": {},
         "outputs": [
            {
               "data": {
                  "text/plain": [
                     "VectorStoreRetriever(tags=['Chroma', 'HuggingFaceEmbeddings'], vectorstore=<langchain_community.vectorstores.chroma.Chroma object at 0x000001C344FAA9F0>, search_kwargs={'k': 2})"
                  ]
               },
               "execution_count": 16,
               "metadata": {},
               "output_type": "execute_result"
            }
         ],
         "source": [
            "retriever = db.as_retriever(search_kwargs={\"k\": 2})  # retrieve top-2 chunks\n",
            "retriever"
         ]
      },
      {
         "cell_type": "code",
         "execution_count": null,
         "id": "25e5c72f",
         "metadata": {},
         "outputs": [
            {
               "name": "stderr",
               "output_type": "stream",
               "text": [
                  "Device set to use cpu\n"
               ]
            },
            {
               "data": {
                  "text/plain": [
                     "RetrievalQA(verbose=False, combine_documents_chain=StuffDocumentsChain(verbose=False, llm_chain=LLMChain(verbose=False, prompt=PromptTemplate(input_variables=['context', 'question'], input_types={}, partial_variables={}, template=\"Use the following pieces of context to answer the question at the end. If you don't know the answer, just say that you don't know, don't try to make up an answer.\\n\\n{context}\\n\\nQuestion: {question}\\nHelpful Answer:\"), llm=HuggingFacePipeline(pipeline=<transformers.pipelines.text_generation.TextGenerationPipeline object at 0x000001C34E297290>), output_parser=StrOutputParser(), llm_kwargs={}), document_prompt=PromptTemplate(input_variables=['page_content'], input_types={}, partial_variables={}, template='{page_content}'), document_variable_name='context'), retriever=VectorStoreRetriever(tags=['Chroma', 'HuggingFaceEmbeddings'], vectorstore=<langchain_community.vectorstores.chroma.Chroma object at 0x000001C344FAA9F0>, search_kwargs={'k': 2}))"
                  ]
               },
               "execution_count": 23,
               "metadata": {},
               "output_type": "execute_result"
            }
         ],
         "source": [
            "# Create a text-generation pipeline\n",
            "pipe = pipeline(\n",
            "    \"text-generation\",\n",
            "    model=model,\n",
            "    tokenizer=tokenizer,\n",
            "    max_new_tokens=512,\n",
            "    do_sample=True,          # enables sampling\n",
            "    temperature=0.7,         # smooths probabilities\n",
            "    top_p=0.9,               # nucleus sampling\n",
            "    top_k=50                 # limits to top-K tokens\n",
            ")\n",
            "# Wrap with LangChain\n",
            "llm_wrapper = HuggingFacePipeline(pipeline=pipe)\n",
            "\n",
            "qa = RetrievalQA.from_chain_type(\n",
            "    llm=llm_wrapper,\n",
            "    retriever=retriever,\n",
            "    chain_type=\"stuff\"   # simplest, alternatives: \"map_reduce\", \"refine\"\n",
            ")\n",
            "qa"
         ]
      },
      {
         "cell_type": "code",
         "execution_count": null,
         "id": "62677e15",
         "metadata": {},
         "outputs": [
            {
               "name": "stderr",
               "output_type": "stream",
               "text": [
                  "`generation_config` default values have been modified to match model-specific defaults: {'top_k': 64}. If this is not desired, please set these values explicitly.\n"
               ]
            },
            {
               "ename": "RuntimeError",
               "evalue": "probability tensor contains either `inf`, `nan` or element < 0",
               "output_type": "error",
               "traceback": [
                  "\u001b[31m---------------------------------------------------------------------------\u001b[39m",
                  "\u001b[31mRuntimeError\u001b[39m                              Traceback (most recent call last)",
                  "\u001b[36mCell\u001b[39m\u001b[36m \u001b[39m\u001b[32mIn[24]\u001b[39m\u001b[32m, line 6\u001b[39m\n\u001b[32m      1\u001b[39m \u001b[38;5;66;03m# ----------------------------\u001b[39;00m\n\u001b[32m      2\u001b[39m \u001b[38;5;66;03m# 7. Ask questions!\u001b[39;00m\n\u001b[32m      3\u001b[39m \u001b[38;5;66;03m# ----------------------------\u001b[39;00m\n\u001b[32m      4\u001b[39m query = \u001b[33m\"\u001b[39m\u001b[33mYou are an AI assistant analyzing a document. Summarize the candidate\u001b[39m\u001b[33m'\u001b[39m\u001b[33ms skills\u001b[39m\u001b[33m\"\u001b[39m\n\u001b[32m----> \u001b[39m\u001b[32m6\u001b[39m result = \u001b[43mqa\u001b[49m\u001b[43m.\u001b[49m\u001b[43minvoke\u001b[49m\u001b[43m(\u001b[49m\u001b[43mquery\u001b[49m\u001b[43m)\u001b[49m\n",
                  "\u001b[36mFile \u001b[39m\u001b[32mc:\\Users\\sampath\\Dev\\TCS_GenAI_Hackaton\\.venv\\Lib\\site-packages\\langchain\\chains\\base.py:165\u001b[39m, in \u001b[36mChain.invoke\u001b[39m\u001b[34m(self, input, config, **kwargs)\u001b[39m\n\u001b[32m    162\u001b[39m \u001b[38;5;28;01mtry\u001b[39;00m:\n\u001b[32m    163\u001b[39m     \u001b[38;5;28mself\u001b[39m._validate_inputs(inputs)\n\u001b[32m    164\u001b[39m     outputs = (\n\u001b[32m--> \u001b[39m\u001b[32m165\u001b[39m         \u001b[38;5;28;43mself\u001b[39;49m\u001b[43m.\u001b[49m\u001b[43m_call\u001b[49m\u001b[43m(\u001b[49m\u001b[43minputs\u001b[49m\u001b[43m,\u001b[49m\u001b[43m \u001b[49m\u001b[43mrun_manager\u001b[49m\u001b[43m=\u001b[49m\u001b[43mrun_manager\u001b[49m\u001b[43m)\u001b[49m\n\u001b[32m    166\u001b[39m         \u001b[38;5;28;01mif\u001b[39;00m new_arg_supported\n\u001b[32m    167\u001b[39m         \u001b[38;5;28;01melse\u001b[39;00m \u001b[38;5;28mself\u001b[39m._call(inputs)\n\u001b[32m    168\u001b[39m     )\n\u001b[32m    170\u001b[39m     final_outputs: \u001b[38;5;28mdict\u001b[39m[\u001b[38;5;28mstr\u001b[39m, Any] = \u001b[38;5;28mself\u001b[39m.prep_outputs(\n\u001b[32m    171\u001b[39m         inputs,\n\u001b[32m    172\u001b[39m         outputs,\n\u001b[32m    173\u001b[39m         return_only_outputs,\n\u001b[32m    174\u001b[39m     )\n\u001b[32m    175\u001b[39m \u001b[38;5;28;01mexcept\u001b[39;00m \u001b[38;5;167;01mBaseException\u001b[39;00m \u001b[38;5;28;01mas\u001b[39;00m e:\n",
                  "\u001b[36mFile \u001b[39m\u001b[32mc:\\Users\\sampath\\Dev\\TCS_GenAI_Hackaton\\.venv\\Lib\\site-packages\\langchain\\chains\\retrieval_qa\\base.py:159\u001b[39m, in \u001b[36mBaseRetrievalQA._call\u001b[39m\u001b[34m(self, inputs, run_manager)\u001b[39m\n\u001b[32m    157\u001b[39m \u001b[38;5;28;01melse\u001b[39;00m:\n\u001b[32m    158\u001b[39m     docs = \u001b[38;5;28mself\u001b[39m._get_docs(question)  \u001b[38;5;66;03m# type: ignore[call-arg]\u001b[39;00m\n\u001b[32m--> \u001b[39m\u001b[32m159\u001b[39m answer = \u001b[38;5;28;43mself\u001b[39;49m\u001b[43m.\u001b[49m\u001b[43mcombine_documents_chain\u001b[49m\u001b[43m.\u001b[49m\u001b[43mrun\u001b[49m\u001b[43m(\u001b[49m\n\u001b[32m    160\u001b[39m \u001b[43m    \u001b[49m\u001b[43minput_documents\u001b[49m\u001b[43m=\u001b[49m\u001b[43mdocs\u001b[49m\u001b[43m,\u001b[49m\n\u001b[32m    161\u001b[39m \u001b[43m    \u001b[49m\u001b[43mquestion\u001b[49m\u001b[43m=\u001b[49m\u001b[43mquestion\u001b[49m\u001b[43m,\u001b[49m\n\u001b[32m    162\u001b[39m \u001b[43m    \u001b[49m\u001b[43mcallbacks\u001b[49m\u001b[43m=\u001b[49m\u001b[43m_run_manager\u001b[49m\u001b[43m.\u001b[49m\u001b[43mget_child\u001b[49m\u001b[43m(\u001b[49m\u001b[43m)\u001b[49m\u001b[43m,\u001b[49m\n\u001b[32m    163\u001b[39m \u001b[43m\u001b[49m\u001b[43m)\u001b[49m\n\u001b[32m    165\u001b[39m \u001b[38;5;28;01mif\u001b[39;00m \u001b[38;5;28mself\u001b[39m.return_source_documents:\n\u001b[32m    166\u001b[39m     \u001b[38;5;28;01mreturn\u001b[39;00m {\u001b[38;5;28mself\u001b[39m.output_key: answer, \u001b[33m\"\u001b[39m\u001b[33msource_documents\u001b[39m\u001b[33m\"\u001b[39m: docs}\n",
                  "\u001b[36mFile \u001b[39m\u001b[32mc:\\Users\\sampath\\Dev\\TCS_GenAI_Hackaton\\.venv\\Lib\\site-packages\\langchain_core\\_api\\deprecation.py:190\u001b[39m, in \u001b[36mdeprecated.<locals>.deprecate.<locals>.warning_emitting_wrapper\u001b[39m\u001b[34m(*args, **kwargs)\u001b[39m\n\u001b[32m    188\u001b[39m     warned = \u001b[38;5;28;01mTrue\u001b[39;00m\n\u001b[32m    189\u001b[39m     emit_warning()\n\u001b[32m--> \u001b[39m\u001b[32m190\u001b[39m \u001b[38;5;28;01mreturn\u001b[39;00m \u001b[43mwrapped\u001b[49m\u001b[43m(\u001b[49m\u001b[43m*\u001b[49m\u001b[43margs\u001b[49m\u001b[43m,\u001b[49m\u001b[43m \u001b[49m\u001b[43m*\u001b[49m\u001b[43m*\u001b[49m\u001b[43mkwargs\u001b[49m\u001b[43m)\u001b[49m\n",
                  "\u001b[36mFile \u001b[39m\u001b[32mc:\\Users\\sampath\\Dev\\TCS_GenAI_Hackaton\\.venv\\Lib\\site-packages\\langchain\\chains\\base.py:632\u001b[39m, in \u001b[36mChain.run\u001b[39m\u001b[34m(self, callbacks, tags, metadata, *args, **kwargs)\u001b[39m\n\u001b[32m    627\u001b[39m     \u001b[38;5;28;01mreturn\u001b[39;00m \u001b[38;5;28mself\u001b[39m(args[\u001b[32m0\u001b[39m], callbacks=callbacks, tags=tags, metadata=metadata)[\n\u001b[32m    628\u001b[39m         _output_key\n\u001b[32m    629\u001b[39m     ]\n\u001b[32m    631\u001b[39m \u001b[38;5;28;01mif\u001b[39;00m kwargs \u001b[38;5;129;01mand\u001b[39;00m \u001b[38;5;129;01mnot\u001b[39;00m args:\n\u001b[32m--> \u001b[39m\u001b[32m632\u001b[39m     \u001b[38;5;28;01mreturn\u001b[39;00m \u001b[38;5;28;43mself\u001b[39;49m\u001b[43m(\u001b[49m\u001b[43mkwargs\u001b[49m\u001b[43m,\u001b[49m\u001b[43m \u001b[49m\u001b[43mcallbacks\u001b[49m\u001b[43m=\u001b[49m\u001b[43mcallbacks\u001b[49m\u001b[43m,\u001b[49m\u001b[43m \u001b[49m\u001b[43mtags\u001b[49m\u001b[43m=\u001b[49m\u001b[43mtags\u001b[49m\u001b[43m,\u001b[49m\u001b[43m \u001b[49m\u001b[43mmetadata\u001b[49m\u001b[43m=\u001b[49m\u001b[43mmetadata\u001b[49m\u001b[43m)\u001b[49m[\n\u001b[32m    633\u001b[39m         _output_key\n\u001b[32m    634\u001b[39m     ]\n\u001b[32m    636\u001b[39m \u001b[38;5;28;01mif\u001b[39;00m \u001b[38;5;129;01mnot\u001b[39;00m kwargs \u001b[38;5;129;01mand\u001b[39;00m \u001b[38;5;129;01mnot\u001b[39;00m args:\n\u001b[32m    637\u001b[39m     msg = (\n\u001b[32m    638\u001b[39m         \u001b[33m\"\u001b[39m\u001b[33m`run` supported with either positional arguments or keyword arguments,\u001b[39m\u001b[33m\"\u001b[39m\n\u001b[32m    639\u001b[39m         \u001b[33m\"\u001b[39m\u001b[33m but none were provided.\u001b[39m\u001b[33m\"\u001b[39m\n\u001b[32m    640\u001b[39m     )\n",
                  "\u001b[36mFile \u001b[39m\u001b[32mc:\\Users\\sampath\\Dev\\TCS_GenAI_Hackaton\\.venv\\Lib\\site-packages\\langchain_core\\_api\\deprecation.py:190\u001b[39m, in \u001b[36mdeprecated.<locals>.deprecate.<locals>.warning_emitting_wrapper\u001b[39m\u001b[34m(*args, **kwargs)\u001b[39m\n\u001b[32m    188\u001b[39m     warned = \u001b[38;5;28;01mTrue\u001b[39;00m\n\u001b[32m    189\u001b[39m     emit_warning()\n\u001b[32m--> \u001b[39m\u001b[32m190\u001b[39m \u001b[38;5;28;01mreturn\u001b[39;00m \u001b[43mwrapped\u001b[49m\u001b[43m(\u001b[49m\u001b[43m*\u001b[49m\u001b[43margs\u001b[49m\u001b[43m,\u001b[49m\u001b[43m \u001b[49m\u001b[43m*\u001b[49m\u001b[43m*\u001b[49m\u001b[43mkwargs\u001b[49m\u001b[43m)\u001b[49m\n",
                  "\u001b[36mFile \u001b[39m\u001b[32mc:\\Users\\sampath\\Dev\\TCS_GenAI_Hackaton\\.venv\\Lib\\site-packages\\langchain\\chains\\base.py:410\u001b[39m, in \u001b[36mChain.__call__\u001b[39m\u001b[34m(self, inputs, return_only_outputs, callbacks, tags, metadata, run_name, include_run_info)\u001b[39m\n\u001b[32m    378\u001b[39m \u001b[38;5;250m\u001b[39m\u001b[33;03m\"\"\"Execute the chain.\u001b[39;00m\n\u001b[32m    379\u001b[39m \n\u001b[32m    380\u001b[39m \u001b[33;03mArgs:\u001b[39;00m\n\u001b[32m   (...)\u001b[39m\u001b[32m    401\u001b[39m \u001b[33;03m        `Chain.output_keys`.\u001b[39;00m\n\u001b[32m    402\u001b[39m \u001b[33;03m\"\"\"\u001b[39;00m\n\u001b[32m    403\u001b[39m config = {\n\u001b[32m    404\u001b[39m     \u001b[33m\"\u001b[39m\u001b[33mcallbacks\u001b[39m\u001b[33m\"\u001b[39m: callbacks,\n\u001b[32m    405\u001b[39m     \u001b[33m\"\u001b[39m\u001b[33mtags\u001b[39m\u001b[33m\"\u001b[39m: tags,\n\u001b[32m    406\u001b[39m     \u001b[33m\"\u001b[39m\u001b[33mmetadata\u001b[39m\u001b[33m\"\u001b[39m: metadata,\n\u001b[32m    407\u001b[39m     \u001b[33m\"\u001b[39m\u001b[33mrun_name\u001b[39m\u001b[33m\"\u001b[39m: run_name,\n\u001b[32m    408\u001b[39m }\n\u001b[32m--> \u001b[39m\u001b[32m410\u001b[39m \u001b[38;5;28;01mreturn\u001b[39;00m \u001b[38;5;28;43mself\u001b[39;49m\u001b[43m.\u001b[49m\u001b[43minvoke\u001b[49m\u001b[43m(\u001b[49m\n\u001b[32m    411\u001b[39m \u001b[43m    \u001b[49m\u001b[43minputs\u001b[49m\u001b[43m,\u001b[49m\n\u001b[32m    412\u001b[39m \u001b[43m    \u001b[49m\u001b[43mcast\u001b[49m\u001b[43m(\u001b[49m\u001b[43mRunnableConfig\u001b[49m\u001b[43m,\u001b[49m\u001b[43m \u001b[49m\u001b[43m{\u001b[49m\u001b[43mk\u001b[49m\u001b[43m:\u001b[49m\u001b[43m \u001b[49m\u001b[43mv\u001b[49m\u001b[43m \u001b[49m\u001b[38;5;28;43;01mfor\u001b[39;49;00m\u001b[43m \u001b[49m\u001b[43mk\u001b[49m\u001b[43m,\u001b[49m\u001b[43m \u001b[49m\u001b[43mv\u001b[49m\u001b[43m \u001b[49m\u001b[38;5;129;43;01min\u001b[39;49;00m\u001b[43m \u001b[49m\u001b[43mconfig\u001b[49m\u001b[43m.\u001b[49m\u001b[43mitems\u001b[49m\u001b[43m(\u001b[49m\u001b[43m)\u001b[49m\u001b[43m \u001b[49m\u001b[38;5;28;43;01mif\u001b[39;49;00m\u001b[43m \u001b[49m\u001b[43mv\u001b[49m\u001b[43m \u001b[49m\u001b[38;5;129;43;01mis\u001b[39;49;00m\u001b[43m \u001b[49m\u001b[38;5;129;43;01mnot\u001b[39;49;00m\u001b[43m \u001b[49m\u001b[38;5;28;43;01mNone\u001b[39;49;00m\u001b[43m}\u001b[49m\u001b[43m)\u001b[49m\u001b[43m,\u001b[49m\n\u001b[32m    413\u001b[39m \u001b[43m    \u001b[49m\u001b[43mreturn_only_outputs\u001b[49m\u001b[43m=\u001b[49m\u001b[43mreturn_only_outputs\u001b[49m\u001b[43m,\u001b[49m\n\u001b[32m    414\u001b[39m \u001b[43m    \u001b[49m\u001b[43minclude_run_info\u001b[49m\u001b[43m=\u001b[49m\u001b[43minclude_run_info\u001b[49m\u001b[43m,\u001b[49m\n\u001b[32m    415\u001b[39m \u001b[43m\u001b[49m\u001b[43m)\u001b[49m\n",
                  "\u001b[36mFile \u001b[39m\u001b[32mc:\\Users\\sampath\\Dev\\TCS_GenAI_Hackaton\\.venv\\Lib\\site-packages\\langchain\\chains\\base.py:165\u001b[39m, in \u001b[36mChain.invoke\u001b[39m\u001b[34m(self, input, config, **kwargs)\u001b[39m\n\u001b[32m    162\u001b[39m \u001b[38;5;28;01mtry\u001b[39;00m:\n\u001b[32m    163\u001b[39m     \u001b[38;5;28mself\u001b[39m._validate_inputs(inputs)\n\u001b[32m    164\u001b[39m     outputs = (\n\u001b[32m--> \u001b[39m\u001b[32m165\u001b[39m         \u001b[38;5;28;43mself\u001b[39;49m\u001b[43m.\u001b[49m\u001b[43m_call\u001b[49m\u001b[43m(\u001b[49m\u001b[43minputs\u001b[49m\u001b[43m,\u001b[49m\u001b[43m \u001b[49m\u001b[43mrun_manager\u001b[49m\u001b[43m=\u001b[49m\u001b[43mrun_manager\u001b[49m\u001b[43m)\u001b[49m\n\u001b[32m    166\u001b[39m         \u001b[38;5;28;01mif\u001b[39;00m new_arg_supported\n\u001b[32m    167\u001b[39m         \u001b[38;5;28;01melse\u001b[39;00m \u001b[38;5;28mself\u001b[39m._call(inputs)\n\u001b[32m    168\u001b[39m     )\n\u001b[32m    170\u001b[39m     final_outputs: \u001b[38;5;28mdict\u001b[39m[\u001b[38;5;28mstr\u001b[39m, Any] = \u001b[38;5;28mself\u001b[39m.prep_outputs(\n\u001b[32m    171\u001b[39m         inputs,\n\u001b[32m    172\u001b[39m         outputs,\n\u001b[32m    173\u001b[39m         return_only_outputs,\n\u001b[32m    174\u001b[39m     )\n\u001b[32m    175\u001b[39m \u001b[38;5;28;01mexcept\u001b[39;00m \u001b[38;5;167;01mBaseException\u001b[39;00m \u001b[38;5;28;01mas\u001b[39;00m e:\n",
                  "\u001b[36mFile \u001b[39m\u001b[32mc:\\Users\\sampath\\Dev\\TCS_GenAI_Hackaton\\.venv\\Lib\\site-packages\\langchain\\chains\\combine_documents\\base.py:143\u001b[39m, in \u001b[36mBaseCombineDocumentsChain._call\u001b[39m\u001b[34m(self, inputs, run_manager)\u001b[39m\n\u001b[32m    141\u001b[39m \u001b[38;5;66;03m# Other keys are assumed to be needed for LLM prediction\u001b[39;00m\n\u001b[32m    142\u001b[39m other_keys = {k: v \u001b[38;5;28;01mfor\u001b[39;00m k, v \u001b[38;5;129;01min\u001b[39;00m inputs.items() \u001b[38;5;28;01mif\u001b[39;00m k != \u001b[38;5;28mself\u001b[39m.input_key}\n\u001b[32m--> \u001b[39m\u001b[32m143\u001b[39m output, extra_return_dict = \u001b[38;5;28;43mself\u001b[39;49m\u001b[43m.\u001b[49m\u001b[43mcombine_docs\u001b[49m\u001b[43m(\u001b[49m\n\u001b[32m    144\u001b[39m \u001b[43m    \u001b[49m\u001b[43mdocs\u001b[49m\u001b[43m,\u001b[49m\n\u001b[32m    145\u001b[39m \u001b[43m    \u001b[49m\u001b[43mcallbacks\u001b[49m\u001b[43m=\u001b[49m\u001b[43m_run_manager\u001b[49m\u001b[43m.\u001b[49m\u001b[43mget_child\u001b[49m\u001b[43m(\u001b[49m\u001b[43m)\u001b[49m\u001b[43m,\u001b[49m\n\u001b[32m    146\u001b[39m \u001b[43m    \u001b[49m\u001b[43m*\u001b[49m\u001b[43m*\u001b[49m\u001b[43mother_keys\u001b[49m\u001b[43m,\u001b[49m\n\u001b[32m    147\u001b[39m \u001b[43m\u001b[49m\u001b[43m)\u001b[49m\n\u001b[32m    148\u001b[39m extra_return_dict[\u001b[38;5;28mself\u001b[39m.output_key] = output\n\u001b[32m    149\u001b[39m \u001b[38;5;28;01mreturn\u001b[39;00m extra_return_dict\n",
                  "\u001b[36mFile \u001b[39m\u001b[32mc:\\Users\\sampath\\Dev\\TCS_GenAI_Hackaton\\.venv\\Lib\\site-packages\\langchain\\chains\\combine_documents\\stuff.py:263\u001b[39m, in \u001b[36mStuffDocumentsChain.combine_docs\u001b[39m\u001b[34m(self, docs, callbacks, **kwargs)\u001b[39m\n\u001b[32m    261\u001b[39m inputs = \u001b[38;5;28mself\u001b[39m._get_inputs(docs, **kwargs)\n\u001b[32m    262\u001b[39m \u001b[38;5;66;03m# Call predict on the LLM.\u001b[39;00m\n\u001b[32m--> \u001b[39m\u001b[32m263\u001b[39m \u001b[38;5;28;01mreturn\u001b[39;00m \u001b[38;5;28;43mself\u001b[39;49m\u001b[43m.\u001b[49m\u001b[43mllm_chain\u001b[49m\u001b[43m.\u001b[49m\u001b[43mpredict\u001b[49m\u001b[43m(\u001b[49m\u001b[43mcallbacks\u001b[49m\u001b[43m=\u001b[49m\u001b[43mcallbacks\u001b[49m\u001b[43m,\u001b[49m\u001b[43m \u001b[49m\u001b[43m*\u001b[49m\u001b[43m*\u001b[49m\u001b[43minputs\u001b[49m\u001b[43m)\u001b[49m, {}\n",
                  "\u001b[36mFile \u001b[39m\u001b[32mc:\\Users\\sampath\\Dev\\TCS_GenAI_Hackaton\\.venv\\Lib\\site-packages\\langchain\\chains\\llm.py:325\u001b[39m, in \u001b[36mLLMChain.predict\u001b[39m\u001b[34m(self, callbacks, **kwargs)\u001b[39m\n\u001b[32m    310\u001b[39m \u001b[38;5;28;01mdef\u001b[39;00m\u001b[38;5;250m \u001b[39m\u001b[34mpredict\u001b[39m(\u001b[38;5;28mself\u001b[39m, callbacks: Callbacks = \u001b[38;5;28;01mNone\u001b[39;00m, **kwargs: Any) -> \u001b[38;5;28mstr\u001b[39m:\n\u001b[32m    311\u001b[39m \u001b[38;5;250m    \u001b[39m\u001b[33;03m\"\"\"Format prompt with kwargs and pass to LLM.\u001b[39;00m\n\u001b[32m    312\u001b[39m \n\u001b[32m    313\u001b[39m \u001b[33;03m    Args:\u001b[39;00m\n\u001b[32m   (...)\u001b[39m\u001b[32m    323\u001b[39m \u001b[33;03m            completion = llm.predict(adjective=\"funny\")\u001b[39;00m\n\u001b[32m    324\u001b[39m \u001b[33;03m    \"\"\"\u001b[39;00m\n\u001b[32m--> \u001b[39m\u001b[32m325\u001b[39m     \u001b[38;5;28;01mreturn\u001b[39;00m \u001b[38;5;28;43mself\u001b[39;49m\u001b[43m(\u001b[49m\u001b[43mkwargs\u001b[49m\u001b[43m,\u001b[49m\u001b[43m \u001b[49m\u001b[43mcallbacks\u001b[49m\u001b[43m=\u001b[49m\u001b[43mcallbacks\u001b[49m\u001b[43m)\u001b[49m[\u001b[38;5;28mself\u001b[39m.output_key]\n",
                  "\u001b[36mFile \u001b[39m\u001b[32mc:\\Users\\sampath\\Dev\\TCS_GenAI_Hackaton\\.venv\\Lib\\site-packages\\langchain_core\\_api\\deprecation.py:190\u001b[39m, in \u001b[36mdeprecated.<locals>.deprecate.<locals>.warning_emitting_wrapper\u001b[39m\u001b[34m(*args, **kwargs)\u001b[39m\n\u001b[32m    188\u001b[39m     warned = \u001b[38;5;28;01mTrue\u001b[39;00m\n\u001b[32m    189\u001b[39m     emit_warning()\n\u001b[32m--> \u001b[39m\u001b[32m190\u001b[39m \u001b[38;5;28;01mreturn\u001b[39;00m \u001b[43mwrapped\u001b[49m\u001b[43m(\u001b[49m\u001b[43m*\u001b[49m\u001b[43margs\u001b[49m\u001b[43m,\u001b[49m\u001b[43m \u001b[49m\u001b[43m*\u001b[49m\u001b[43m*\u001b[49m\u001b[43mkwargs\u001b[49m\u001b[43m)\u001b[49m\n",
                  "\u001b[36mFile \u001b[39m\u001b[32mc:\\Users\\sampath\\Dev\\TCS_GenAI_Hackaton\\.venv\\Lib\\site-packages\\langchain\\chains\\base.py:410\u001b[39m, in \u001b[36mChain.__call__\u001b[39m\u001b[34m(self, inputs, return_only_outputs, callbacks, tags, metadata, run_name, include_run_info)\u001b[39m\n\u001b[32m    378\u001b[39m \u001b[38;5;250m\u001b[39m\u001b[33;03m\"\"\"Execute the chain.\u001b[39;00m\n\u001b[32m    379\u001b[39m \n\u001b[32m    380\u001b[39m \u001b[33;03mArgs:\u001b[39;00m\n\u001b[32m   (...)\u001b[39m\u001b[32m    401\u001b[39m \u001b[33;03m        `Chain.output_keys`.\u001b[39;00m\n\u001b[32m    402\u001b[39m \u001b[33;03m\"\"\"\u001b[39;00m\n\u001b[32m    403\u001b[39m config = {\n\u001b[32m    404\u001b[39m     \u001b[33m\"\u001b[39m\u001b[33mcallbacks\u001b[39m\u001b[33m\"\u001b[39m: callbacks,\n\u001b[32m    405\u001b[39m     \u001b[33m\"\u001b[39m\u001b[33mtags\u001b[39m\u001b[33m\"\u001b[39m: tags,\n\u001b[32m    406\u001b[39m     \u001b[33m\"\u001b[39m\u001b[33mmetadata\u001b[39m\u001b[33m\"\u001b[39m: metadata,\n\u001b[32m    407\u001b[39m     \u001b[33m\"\u001b[39m\u001b[33mrun_name\u001b[39m\u001b[33m\"\u001b[39m: run_name,\n\u001b[32m    408\u001b[39m }\n\u001b[32m--> \u001b[39m\u001b[32m410\u001b[39m \u001b[38;5;28;01mreturn\u001b[39;00m \u001b[38;5;28;43mself\u001b[39;49m\u001b[43m.\u001b[49m\u001b[43minvoke\u001b[49m\u001b[43m(\u001b[49m\n\u001b[32m    411\u001b[39m \u001b[43m    \u001b[49m\u001b[43minputs\u001b[49m\u001b[43m,\u001b[49m\n\u001b[32m    412\u001b[39m \u001b[43m    \u001b[49m\u001b[43mcast\u001b[49m\u001b[43m(\u001b[49m\u001b[43mRunnableConfig\u001b[49m\u001b[43m,\u001b[49m\u001b[43m \u001b[49m\u001b[43m{\u001b[49m\u001b[43mk\u001b[49m\u001b[43m:\u001b[49m\u001b[43m \u001b[49m\u001b[43mv\u001b[49m\u001b[43m \u001b[49m\u001b[38;5;28;43;01mfor\u001b[39;49;00m\u001b[43m \u001b[49m\u001b[43mk\u001b[49m\u001b[43m,\u001b[49m\u001b[43m \u001b[49m\u001b[43mv\u001b[49m\u001b[43m \u001b[49m\u001b[38;5;129;43;01min\u001b[39;49;00m\u001b[43m \u001b[49m\u001b[43mconfig\u001b[49m\u001b[43m.\u001b[49m\u001b[43mitems\u001b[49m\u001b[43m(\u001b[49m\u001b[43m)\u001b[49m\u001b[43m \u001b[49m\u001b[38;5;28;43;01mif\u001b[39;49;00m\u001b[43m \u001b[49m\u001b[43mv\u001b[49m\u001b[43m \u001b[49m\u001b[38;5;129;43;01mis\u001b[39;49;00m\u001b[43m \u001b[49m\u001b[38;5;129;43;01mnot\u001b[39;49;00m\u001b[43m \u001b[49m\u001b[38;5;28;43;01mNone\u001b[39;49;00m\u001b[43m}\u001b[49m\u001b[43m)\u001b[49m\u001b[43m,\u001b[49m\n\u001b[32m    413\u001b[39m \u001b[43m    \u001b[49m\u001b[43mreturn_only_outputs\u001b[49m\u001b[43m=\u001b[49m\u001b[43mreturn_only_outputs\u001b[49m\u001b[43m,\u001b[49m\n\u001b[32m    414\u001b[39m \u001b[43m    \u001b[49m\u001b[43minclude_run_info\u001b[49m\u001b[43m=\u001b[49m\u001b[43minclude_run_info\u001b[49m\u001b[43m,\u001b[49m\n\u001b[32m    415\u001b[39m \u001b[43m\u001b[49m\u001b[43m)\u001b[49m\n",
                  "\u001b[36mFile \u001b[39m\u001b[32mc:\\Users\\sampath\\Dev\\TCS_GenAI_Hackaton\\.venv\\Lib\\site-packages\\langchain\\chains\\base.py:165\u001b[39m, in \u001b[36mChain.invoke\u001b[39m\u001b[34m(self, input, config, **kwargs)\u001b[39m\n\u001b[32m    162\u001b[39m \u001b[38;5;28;01mtry\u001b[39;00m:\n\u001b[32m    163\u001b[39m     \u001b[38;5;28mself\u001b[39m._validate_inputs(inputs)\n\u001b[32m    164\u001b[39m     outputs = (\n\u001b[32m--> \u001b[39m\u001b[32m165\u001b[39m         \u001b[38;5;28;43mself\u001b[39;49m\u001b[43m.\u001b[49m\u001b[43m_call\u001b[49m\u001b[43m(\u001b[49m\u001b[43minputs\u001b[49m\u001b[43m,\u001b[49m\u001b[43m \u001b[49m\u001b[43mrun_manager\u001b[49m\u001b[43m=\u001b[49m\u001b[43mrun_manager\u001b[49m\u001b[43m)\u001b[49m\n\u001b[32m    166\u001b[39m         \u001b[38;5;28;01mif\u001b[39;00m new_arg_supported\n\u001b[32m    167\u001b[39m         \u001b[38;5;28;01melse\u001b[39;00m \u001b[38;5;28mself\u001b[39m._call(inputs)\n\u001b[32m    168\u001b[39m     )\n\u001b[32m    170\u001b[39m     final_outputs: \u001b[38;5;28mdict\u001b[39m[\u001b[38;5;28mstr\u001b[39m, Any] = \u001b[38;5;28mself\u001b[39m.prep_outputs(\n\u001b[32m    171\u001b[39m         inputs,\n\u001b[32m    172\u001b[39m         outputs,\n\u001b[32m    173\u001b[39m         return_only_outputs,\n\u001b[32m    174\u001b[39m     )\n\u001b[32m    175\u001b[39m \u001b[38;5;28;01mexcept\u001b[39;00m \u001b[38;5;167;01mBaseException\u001b[39;00m \u001b[38;5;28;01mas\u001b[39;00m e:\n",
                  "\u001b[36mFile \u001b[39m\u001b[32mc:\\Users\\sampath\\Dev\\TCS_GenAI_Hackaton\\.venv\\Lib\\site-packages\\langchain\\chains\\llm.py:127\u001b[39m, in \u001b[36mLLMChain._call\u001b[39m\u001b[34m(self, inputs, run_manager)\u001b[39m\n\u001b[32m    122\u001b[39m \u001b[38;5;28;01mdef\u001b[39;00m\u001b[38;5;250m \u001b[39m\u001b[34m_call\u001b[39m(\n\u001b[32m    123\u001b[39m     \u001b[38;5;28mself\u001b[39m,\n\u001b[32m    124\u001b[39m     inputs: \u001b[38;5;28mdict\u001b[39m[\u001b[38;5;28mstr\u001b[39m, Any],\n\u001b[32m    125\u001b[39m     run_manager: Optional[CallbackManagerForChainRun] = \u001b[38;5;28;01mNone\u001b[39;00m,\n\u001b[32m    126\u001b[39m ) -> \u001b[38;5;28mdict\u001b[39m[\u001b[38;5;28mstr\u001b[39m, \u001b[38;5;28mstr\u001b[39m]:\n\u001b[32m--> \u001b[39m\u001b[32m127\u001b[39m     response = \u001b[38;5;28;43mself\u001b[39;49m\u001b[43m.\u001b[49m\u001b[43mgenerate\u001b[49m\u001b[43m(\u001b[49m\u001b[43m[\u001b[49m\u001b[43minputs\u001b[49m\u001b[43m]\u001b[49m\u001b[43m,\u001b[49m\u001b[43m \u001b[49m\u001b[43mrun_manager\u001b[49m\u001b[43m=\u001b[49m\u001b[43mrun_manager\u001b[49m\u001b[43m)\u001b[49m\n\u001b[32m    128\u001b[39m     \u001b[38;5;28;01mreturn\u001b[39;00m \u001b[38;5;28mself\u001b[39m.create_outputs(response)[\u001b[32m0\u001b[39m]\n",
                  "\u001b[36mFile \u001b[39m\u001b[32mc:\\Users\\sampath\\Dev\\TCS_GenAI_Hackaton\\.venv\\Lib\\site-packages\\langchain\\chains\\llm.py:139\u001b[39m, in \u001b[36mLLMChain.generate\u001b[39m\u001b[34m(self, input_list, run_manager)\u001b[39m\n\u001b[32m    137\u001b[39m callbacks = run_manager.get_child() \u001b[38;5;28;01mif\u001b[39;00m run_manager \u001b[38;5;28;01melse\u001b[39;00m \u001b[38;5;28;01mNone\u001b[39;00m\n\u001b[32m    138\u001b[39m \u001b[38;5;28;01mif\u001b[39;00m \u001b[38;5;28misinstance\u001b[39m(\u001b[38;5;28mself\u001b[39m.llm, BaseLanguageModel):\n\u001b[32m--> \u001b[39m\u001b[32m139\u001b[39m     \u001b[38;5;28;01mreturn\u001b[39;00m \u001b[38;5;28;43mself\u001b[39;49m\u001b[43m.\u001b[49m\u001b[43mllm\u001b[49m\u001b[43m.\u001b[49m\u001b[43mgenerate_prompt\u001b[49m\u001b[43m(\u001b[49m\n\u001b[32m    140\u001b[39m \u001b[43m        \u001b[49m\u001b[43mprompts\u001b[49m\u001b[43m,\u001b[49m\n\u001b[32m    141\u001b[39m \u001b[43m        \u001b[49m\u001b[43mstop\u001b[49m\u001b[43m,\u001b[49m\n\u001b[32m    142\u001b[39m \u001b[43m        \u001b[49m\u001b[43mcallbacks\u001b[49m\u001b[43m=\u001b[49m\u001b[43mcallbacks\u001b[49m\u001b[43m,\u001b[49m\n\u001b[32m    143\u001b[39m \u001b[43m        \u001b[49m\u001b[43m*\u001b[49m\u001b[43m*\u001b[49m\u001b[38;5;28;43mself\u001b[39;49m\u001b[43m.\u001b[49m\u001b[43mllm_kwargs\u001b[49m\u001b[43m,\u001b[49m\n\u001b[32m    144\u001b[39m \u001b[43m    \u001b[49m\u001b[43m)\u001b[49m\n\u001b[32m    145\u001b[39m results = \u001b[38;5;28mself\u001b[39m.llm.bind(stop=stop, **\u001b[38;5;28mself\u001b[39m.llm_kwargs).batch(\n\u001b[32m    146\u001b[39m     cast(\u001b[38;5;28mlist\u001b[39m, prompts),\n\u001b[32m    147\u001b[39m     {\u001b[33m\"\u001b[39m\u001b[33mcallbacks\u001b[39m\u001b[33m\"\u001b[39m: callbacks},\n\u001b[32m    148\u001b[39m )\n\u001b[32m    149\u001b[39m generations: \u001b[38;5;28mlist\u001b[39m[\u001b[38;5;28mlist\u001b[39m[Generation]] = []\n",
                  "\u001b[36mFile \u001b[39m\u001b[32mc:\\Users\\sampath\\Dev\\TCS_GenAI_Hackaton\\.venv\\Lib\\site-packages\\langchain_core\\language_models\\llms.py:766\u001b[39m, in \u001b[36mBaseLLM.generate_prompt\u001b[39m\u001b[34m(self, prompts, stop, callbacks, **kwargs)\u001b[39m\n\u001b[32m    757\u001b[39m \u001b[38;5;129m@override\u001b[39m\n\u001b[32m    758\u001b[39m \u001b[38;5;28;01mdef\u001b[39;00m\u001b[38;5;250m \u001b[39m\u001b[34mgenerate_prompt\u001b[39m(\n\u001b[32m    759\u001b[39m     \u001b[38;5;28mself\u001b[39m,\n\u001b[32m   (...)\u001b[39m\u001b[32m    763\u001b[39m     **kwargs: Any,\n\u001b[32m    764\u001b[39m ) -> LLMResult:\n\u001b[32m    765\u001b[39m     prompt_strings = [p.to_string() \u001b[38;5;28;01mfor\u001b[39;00m p \u001b[38;5;129;01min\u001b[39;00m prompts]\n\u001b[32m--> \u001b[39m\u001b[32m766\u001b[39m     \u001b[38;5;28;01mreturn\u001b[39;00m \u001b[38;5;28;43mself\u001b[39;49m\u001b[43m.\u001b[49m\u001b[43mgenerate\u001b[49m\u001b[43m(\u001b[49m\u001b[43mprompt_strings\u001b[49m\u001b[43m,\u001b[49m\u001b[43m \u001b[49m\u001b[43mstop\u001b[49m\u001b[43m=\u001b[49m\u001b[43mstop\u001b[49m\u001b[43m,\u001b[49m\u001b[43m \u001b[49m\u001b[43mcallbacks\u001b[49m\u001b[43m=\u001b[49m\u001b[43mcallbacks\u001b[49m\u001b[43m,\u001b[49m\u001b[43m \u001b[49m\u001b[43m*\u001b[49m\u001b[43m*\u001b[49m\u001b[43mkwargs\u001b[49m\u001b[43m)\u001b[49m\n",
                  "\u001b[36mFile \u001b[39m\u001b[32mc:\\Users\\sampath\\Dev\\TCS_GenAI_Hackaton\\.venv\\Lib\\site-packages\\langchain_core\\language_models\\llms.py:971\u001b[39m, in \u001b[36mBaseLLM.generate\u001b[39m\u001b[34m(self, prompts, stop, callbacks, tags, metadata, run_name, run_id, **kwargs)\u001b[39m\n\u001b[32m    956\u001b[39m \u001b[38;5;28;01mif\u001b[39;00m (\u001b[38;5;28mself\u001b[39m.cache \u001b[38;5;129;01mis\u001b[39;00m \u001b[38;5;28;01mNone\u001b[39;00m \u001b[38;5;129;01mand\u001b[39;00m get_llm_cache() \u001b[38;5;129;01mis\u001b[39;00m \u001b[38;5;28;01mNone\u001b[39;00m) \u001b[38;5;129;01mor\u001b[39;00m \u001b[38;5;28mself\u001b[39m.cache \u001b[38;5;129;01mis\u001b[39;00m \u001b[38;5;28;01mFalse\u001b[39;00m:\n\u001b[32m    957\u001b[39m     run_managers = [\n\u001b[32m    958\u001b[39m         callback_manager.on_llm_start(\n\u001b[32m    959\u001b[39m             \u001b[38;5;28mself\u001b[39m._serialized,\n\u001b[32m   (...)\u001b[39m\u001b[32m    969\u001b[39m         )\n\u001b[32m    970\u001b[39m     ]\n\u001b[32m--> \u001b[39m\u001b[32m971\u001b[39m     \u001b[38;5;28;01mreturn\u001b[39;00m \u001b[38;5;28;43mself\u001b[39;49m\u001b[43m.\u001b[49m\u001b[43m_generate_helper\u001b[49m\u001b[43m(\u001b[49m\n\u001b[32m    972\u001b[39m \u001b[43m        \u001b[49m\u001b[43mprompts\u001b[49m\u001b[43m,\u001b[49m\n\u001b[32m    973\u001b[39m \u001b[43m        \u001b[49m\u001b[43mstop\u001b[49m\u001b[43m,\u001b[49m\n\u001b[32m    974\u001b[39m \u001b[43m        \u001b[49m\u001b[43mrun_managers\u001b[49m\u001b[43m,\u001b[49m\n\u001b[32m    975\u001b[39m \u001b[43m        \u001b[49m\u001b[43mnew_arg_supported\u001b[49m\u001b[43m=\u001b[49m\u001b[38;5;28;43mbool\u001b[39;49m\u001b[43m(\u001b[49m\u001b[43mnew_arg_supported\u001b[49m\u001b[43m)\u001b[49m\u001b[43m,\u001b[49m\n\u001b[32m    976\u001b[39m \u001b[43m        \u001b[49m\u001b[43m*\u001b[49m\u001b[43m*\u001b[49m\u001b[43mkwargs\u001b[49m\u001b[43m,\u001b[49m\n\u001b[32m    977\u001b[39m \u001b[43m    \u001b[49m\u001b[43m)\u001b[49m\n\u001b[32m    978\u001b[39m \u001b[38;5;28;01mif\u001b[39;00m \u001b[38;5;28mlen\u001b[39m(missing_prompts) > \u001b[32m0\u001b[39m:\n\u001b[32m    979\u001b[39m     run_managers = [\n\u001b[32m    980\u001b[39m         callback_managers[idx].on_llm_start(\n\u001b[32m    981\u001b[39m             \u001b[38;5;28mself\u001b[39m._serialized,\n\u001b[32m   (...)\u001b[39m\u001b[32m    988\u001b[39m         \u001b[38;5;28;01mfor\u001b[39;00m idx \u001b[38;5;129;01min\u001b[39;00m missing_prompt_idxs\n\u001b[32m    989\u001b[39m     ]\n",
                  "\u001b[36mFile \u001b[39m\u001b[32mc:\\Users\\sampath\\Dev\\TCS_GenAI_Hackaton\\.venv\\Lib\\site-packages\\langchain_core\\language_models\\llms.py:792\u001b[39m, in \u001b[36mBaseLLM._generate_helper\u001b[39m\u001b[34m(self, prompts, stop, run_managers, new_arg_supported, **kwargs)\u001b[39m\n\u001b[32m    781\u001b[39m \u001b[38;5;28;01mdef\u001b[39;00m\u001b[38;5;250m \u001b[39m\u001b[34m_generate_helper\u001b[39m(\n\u001b[32m    782\u001b[39m     \u001b[38;5;28mself\u001b[39m,\n\u001b[32m    783\u001b[39m     prompts: \u001b[38;5;28mlist\u001b[39m[\u001b[38;5;28mstr\u001b[39m],\n\u001b[32m   (...)\u001b[39m\u001b[32m    788\u001b[39m     **kwargs: Any,\n\u001b[32m    789\u001b[39m ) -> LLMResult:\n\u001b[32m    790\u001b[39m     \u001b[38;5;28;01mtry\u001b[39;00m:\n\u001b[32m    791\u001b[39m         output = (\n\u001b[32m--> \u001b[39m\u001b[32m792\u001b[39m             \u001b[38;5;28;43mself\u001b[39;49m\u001b[43m.\u001b[49m\u001b[43m_generate\u001b[49m\u001b[43m(\u001b[49m\n\u001b[32m    793\u001b[39m \u001b[43m                \u001b[49m\u001b[43mprompts\u001b[49m\u001b[43m,\u001b[49m\n\u001b[32m    794\u001b[39m \u001b[43m                \u001b[49m\u001b[43mstop\u001b[49m\u001b[43m=\u001b[49m\u001b[43mstop\u001b[49m\u001b[43m,\u001b[49m\n\u001b[32m    795\u001b[39m \u001b[43m                \u001b[49m\u001b[38;5;66;43;03m# TODO: support multiple run managers\u001b[39;49;00m\n\u001b[32m    796\u001b[39m \u001b[43m                \u001b[49m\u001b[43mrun_manager\u001b[49m\u001b[43m=\u001b[49m\u001b[43mrun_managers\u001b[49m\u001b[43m[\u001b[49m\u001b[32;43m0\u001b[39;49m\u001b[43m]\u001b[49m\u001b[43m \u001b[49m\u001b[38;5;28;43;01mif\u001b[39;49;00m\u001b[43m \u001b[49m\u001b[43mrun_managers\u001b[49m\u001b[43m \u001b[49m\u001b[38;5;28;43;01melse\u001b[39;49;00m\u001b[43m \u001b[49m\u001b[38;5;28;43;01mNone\u001b[39;49;00m\u001b[43m,\u001b[49m\n\u001b[32m    797\u001b[39m \u001b[43m                \u001b[49m\u001b[43m*\u001b[49m\u001b[43m*\u001b[49m\u001b[43mkwargs\u001b[49m\u001b[43m,\u001b[49m\n\u001b[32m    798\u001b[39m \u001b[43m            \u001b[49m\u001b[43m)\u001b[49m\n\u001b[32m    799\u001b[39m             \u001b[38;5;28;01mif\u001b[39;00m new_arg_supported\n\u001b[32m    800\u001b[39m             \u001b[38;5;28;01melse\u001b[39;00m \u001b[38;5;28mself\u001b[39m._generate(prompts, stop=stop)\n\u001b[32m    801\u001b[39m         )\n\u001b[32m    802\u001b[39m     \u001b[38;5;28;01mexcept\u001b[39;00m \u001b[38;5;167;01mBaseException\u001b[39;00m \u001b[38;5;28;01mas\u001b[39;00m e:\n\u001b[32m    803\u001b[39m         \u001b[38;5;28;01mfor\u001b[39;00m run_manager \u001b[38;5;129;01min\u001b[39;00m run_managers:\n",
                  "\u001b[36mFile \u001b[39m\u001b[32mc:\\Users\\sampath\\Dev\\TCS_GenAI_Hackaton\\.venv\\Lib\\site-packages\\langchain_community\\llms\\huggingface_pipeline.py:285\u001b[39m, in \u001b[36mHuggingFacePipeline._generate\u001b[39m\u001b[34m(self, prompts, stop, run_manager, **kwargs)\u001b[39m\n\u001b[32m    282\u001b[39m batch_prompts = prompts[i : i + \u001b[38;5;28mself\u001b[39m.batch_size]\n\u001b[32m    284\u001b[39m \u001b[38;5;66;03m# Process batch of prompts\u001b[39;00m\n\u001b[32m--> \u001b[39m\u001b[32m285\u001b[39m responses = \u001b[38;5;28;43mself\u001b[39;49m\u001b[43m.\u001b[49m\u001b[43mpipeline\u001b[49m\u001b[43m(\u001b[49m\n\u001b[32m    286\u001b[39m \u001b[43m    \u001b[49m\u001b[43mbatch_prompts\u001b[49m\u001b[43m,\u001b[49m\n\u001b[32m    287\u001b[39m \u001b[43m    \u001b[49m\u001b[43m*\u001b[49m\u001b[43m*\u001b[49m\u001b[43mpipeline_kwargs\u001b[49m\u001b[43m,\u001b[49m\n\u001b[32m    288\u001b[39m \u001b[43m\u001b[49m\u001b[43m)\u001b[49m\n\u001b[32m    290\u001b[39m \u001b[38;5;66;03m# Process each response in the batch\u001b[39;00m\n\u001b[32m    291\u001b[39m \u001b[38;5;28;01mfor\u001b[39;00m j, response \u001b[38;5;129;01min\u001b[39;00m \u001b[38;5;28menumerate\u001b[39m(responses):\n",
                  "\u001b[36mFile \u001b[39m\u001b[32mc:\\Users\\sampath\\Dev\\TCS_GenAI_Hackaton\\.venv\\Lib\\site-packages\\transformers\\pipelines\\text_generation.py:332\u001b[39m, in \u001b[36mTextGenerationPipeline.__call__\u001b[39m\u001b[34m(self, text_inputs, **kwargs)\u001b[39m\n\u001b[32m    330\u001b[39m             \u001b[38;5;28;01melse\u001b[39;00m:\n\u001b[32m    331\u001b[39m                 \u001b[38;5;28;01mreturn\u001b[39;00m \u001b[38;5;28msuper\u001b[39m().\u001b[34m__call__\u001b[39m(\u001b[38;5;28mlist\u001b[39m(chats), **kwargs)\n\u001b[32m--> \u001b[39m\u001b[32m332\u001b[39m \u001b[38;5;28;01mreturn\u001b[39;00m \u001b[38;5;28;43msuper\u001b[39;49m\u001b[43m(\u001b[49m\u001b[43m)\u001b[49m\u001b[43m.\u001b[49m\u001b[34;43m__call__\u001b[39;49m\u001b[43m(\u001b[49m\u001b[43mtext_inputs\u001b[49m\u001b[43m,\u001b[49m\u001b[43m \u001b[49m\u001b[43m*\u001b[49m\u001b[43m*\u001b[49m\u001b[43mkwargs\u001b[49m\u001b[43m)\u001b[49m\n",
                  "\u001b[36mFile \u001b[39m\u001b[32mc:\\Users\\sampath\\Dev\\TCS_GenAI_Hackaton\\.venv\\Lib\\site-packages\\transformers\\pipelines\\base.py:1448\u001b[39m, in \u001b[36mPipeline.__call__\u001b[39m\u001b[34m(self, inputs, num_workers, batch_size, *args, **kwargs)\u001b[39m\n\u001b[32m   1444\u001b[39m \u001b[38;5;28;01mif\u001b[39;00m can_use_iterator:\n\u001b[32m   1445\u001b[39m     final_iterator = \u001b[38;5;28mself\u001b[39m.get_iterator(\n\u001b[32m   1446\u001b[39m         inputs, num_workers, batch_size, preprocess_params, forward_params, postprocess_params\n\u001b[32m   1447\u001b[39m     )\n\u001b[32m-> \u001b[39m\u001b[32m1448\u001b[39m     outputs = \u001b[38;5;28;43mlist\u001b[39;49m\u001b[43m(\u001b[49m\u001b[43mfinal_iterator\u001b[49m\u001b[43m)\u001b[49m\n\u001b[32m   1449\u001b[39m     \u001b[38;5;28;01mreturn\u001b[39;00m outputs\n\u001b[32m   1450\u001b[39m \u001b[38;5;28;01melse\u001b[39;00m:\n",
                  "\u001b[36mFile \u001b[39m\u001b[32mc:\\Users\\sampath\\Dev\\TCS_GenAI_Hackaton\\.venv\\Lib\\site-packages\\transformers\\pipelines\\pt_utils.py:126\u001b[39m, in \u001b[36mPipelineIterator.__next__\u001b[39m\u001b[34m(self)\u001b[39m\n\u001b[32m    123\u001b[39m     \u001b[38;5;28;01mreturn\u001b[39;00m \u001b[38;5;28mself\u001b[39m.loader_batch_item()\n\u001b[32m    125\u001b[39m \u001b[38;5;66;03m# We're out of items within a batch\u001b[39;00m\n\u001b[32m--> \u001b[39m\u001b[32m126\u001b[39m item = \u001b[38;5;28;43mnext\u001b[39;49m\u001b[43m(\u001b[49m\u001b[38;5;28;43mself\u001b[39;49m\u001b[43m.\u001b[49m\u001b[43miterator\u001b[49m\u001b[43m)\u001b[49m\n\u001b[32m    127\u001b[39m processed = \u001b[38;5;28mself\u001b[39m.infer(item, **\u001b[38;5;28mself\u001b[39m.params)\n\u001b[32m    128\u001b[39m \u001b[38;5;66;03m# We now have a batch of \"inferred things\".\u001b[39;00m\n",
                  "\u001b[36mFile \u001b[39m\u001b[32mc:\\Users\\sampath\\Dev\\TCS_GenAI_Hackaton\\.venv\\Lib\\site-packages\\transformers\\pipelines\\pt_utils.py:127\u001b[39m, in \u001b[36mPipelineIterator.__next__\u001b[39m\u001b[34m(self)\u001b[39m\n\u001b[32m    125\u001b[39m \u001b[38;5;66;03m# We're out of items within a batch\u001b[39;00m\n\u001b[32m    126\u001b[39m item = \u001b[38;5;28mnext\u001b[39m(\u001b[38;5;28mself\u001b[39m.iterator)\n\u001b[32m--> \u001b[39m\u001b[32m127\u001b[39m processed = \u001b[38;5;28;43mself\u001b[39;49m\u001b[43m.\u001b[49m\u001b[43minfer\u001b[49m\u001b[43m(\u001b[49m\u001b[43mitem\u001b[49m\u001b[43m,\u001b[49m\u001b[43m \u001b[49m\u001b[43m*\u001b[49m\u001b[43m*\u001b[49m\u001b[38;5;28;43mself\u001b[39;49m\u001b[43m.\u001b[49m\u001b[43mparams\u001b[49m\u001b[43m)\u001b[49m\n\u001b[32m    128\u001b[39m \u001b[38;5;66;03m# We now have a batch of \"inferred things\".\u001b[39;00m\n\u001b[32m    129\u001b[39m \u001b[38;5;28;01mif\u001b[39;00m \u001b[38;5;28mself\u001b[39m.loader_batch_size \u001b[38;5;129;01mis\u001b[39;00m \u001b[38;5;129;01mnot\u001b[39;00m \u001b[38;5;28;01mNone\u001b[39;00m:\n\u001b[32m    130\u001b[39m     \u001b[38;5;66;03m# Try to infer the size of the batch\u001b[39;00m\n",
                  "\u001b[36mFile \u001b[39m\u001b[32mc:\\Users\\sampath\\Dev\\TCS_GenAI_Hackaton\\.venv\\Lib\\site-packages\\transformers\\pipelines\\base.py:1374\u001b[39m, in \u001b[36mPipeline.forward\u001b[39m\u001b[34m(self, model_inputs, **forward_params)\u001b[39m\n\u001b[32m   1372\u001b[39m     \u001b[38;5;28;01mwith\u001b[39;00m inference_context():\n\u001b[32m   1373\u001b[39m         model_inputs = \u001b[38;5;28mself\u001b[39m._ensure_tensor_on_device(model_inputs, device=\u001b[38;5;28mself\u001b[39m.device)\n\u001b[32m-> \u001b[39m\u001b[32m1374\u001b[39m         model_outputs = \u001b[38;5;28;43mself\u001b[39;49m\u001b[43m.\u001b[49m\u001b[43m_forward\u001b[49m\u001b[43m(\u001b[49m\u001b[43mmodel_inputs\u001b[49m\u001b[43m,\u001b[49m\u001b[43m \u001b[49m\u001b[43m*\u001b[49m\u001b[43m*\u001b[49m\u001b[43mforward_params\u001b[49m\u001b[43m)\u001b[49m\n\u001b[32m   1375\u001b[39m         model_outputs = \u001b[38;5;28mself\u001b[39m._ensure_tensor_on_device(model_outputs, device=torch.device(\u001b[33m\"\u001b[39m\u001b[33mcpu\u001b[39m\u001b[33m\"\u001b[39m))\n\u001b[32m   1376\u001b[39m \u001b[38;5;28;01melse\u001b[39;00m:\n",
                  "\u001b[36mFile \u001b[39m\u001b[32mc:\\Users\\sampath\\Dev\\TCS_GenAI_Hackaton\\.venv\\Lib\\site-packages\\transformers\\pipelines\\text_generation.py:432\u001b[39m, in \u001b[36mTextGenerationPipeline._forward\u001b[39m\u001b[34m(self, model_inputs, **generate_kwargs)\u001b[39m\n\u001b[32m    429\u001b[39m \u001b[38;5;28;01mif\u001b[39;00m \u001b[33m\"\u001b[39m\u001b[33mgeneration_config\u001b[39m\u001b[33m\"\u001b[39m \u001b[38;5;129;01mnot\u001b[39;00m \u001b[38;5;129;01min\u001b[39;00m generate_kwargs:\n\u001b[32m    430\u001b[39m     generate_kwargs[\u001b[33m\"\u001b[39m\u001b[33mgeneration_config\u001b[39m\u001b[33m\"\u001b[39m] = \u001b[38;5;28mself\u001b[39m.generation_config\n\u001b[32m--> \u001b[39m\u001b[32m432\u001b[39m output = \u001b[38;5;28;43mself\u001b[39;49m\u001b[43m.\u001b[49m\u001b[43mmodel\u001b[49m\u001b[43m.\u001b[49m\u001b[43mgenerate\u001b[49m\u001b[43m(\u001b[49m\u001b[43minput_ids\u001b[49m\u001b[43m=\u001b[49m\u001b[43minput_ids\u001b[49m\u001b[43m,\u001b[49m\u001b[43m \u001b[49m\u001b[43mattention_mask\u001b[49m\u001b[43m=\u001b[49m\u001b[43mattention_mask\u001b[49m\u001b[43m,\u001b[49m\u001b[43m \u001b[49m\u001b[43m*\u001b[49m\u001b[43m*\u001b[49m\u001b[43mgenerate_kwargs\u001b[49m\u001b[43m)\u001b[49m\n\u001b[32m    434\u001b[39m \u001b[38;5;28;01mif\u001b[39;00m \u001b[38;5;28misinstance\u001b[39m(output, ModelOutput):\n\u001b[32m    435\u001b[39m     generated_sequence = output.sequences\n",
                  "\u001b[36mFile \u001b[39m\u001b[32mc:\\Users\\sampath\\Dev\\TCS_GenAI_Hackaton\\.venv\\Lib\\site-packages\\torch\\utils\\_contextlib.py:120\u001b[39m, in \u001b[36mcontext_decorator.<locals>.decorate_context\u001b[39m\u001b[34m(*args, **kwargs)\u001b[39m\n\u001b[32m    117\u001b[39m \u001b[38;5;129m@functools\u001b[39m.wraps(func)\n\u001b[32m    118\u001b[39m \u001b[38;5;28;01mdef\u001b[39;00m\u001b[38;5;250m \u001b[39m\u001b[34mdecorate_context\u001b[39m(*args, **kwargs):\n\u001b[32m    119\u001b[39m     \u001b[38;5;28;01mwith\u001b[39;00m ctx_factory():\n\u001b[32m--> \u001b[39m\u001b[32m120\u001b[39m         \u001b[38;5;28;01mreturn\u001b[39;00m \u001b[43mfunc\u001b[49m\u001b[43m(\u001b[49m\u001b[43m*\u001b[49m\u001b[43margs\u001b[49m\u001b[43m,\u001b[49m\u001b[43m \u001b[49m\u001b[43m*\u001b[49m\u001b[43m*\u001b[49m\u001b[43mkwargs\u001b[49m\u001b[43m)\u001b[49m\n",
                  "\u001b[36mFile \u001b[39m\u001b[32mc:\\Users\\sampath\\Dev\\TCS_GenAI_Hackaton\\.venv\\Lib\\site-packages\\transformers\\generation\\utils.py:2539\u001b[39m, in \u001b[36mGenerationMixin.generate\u001b[39m\u001b[34m(self, inputs, generation_config, logits_processor, stopping_criteria, prefix_allowed_tokens_fn, synced_gpus, assistant_model, streamer, negative_prompt_ids, negative_prompt_attention_mask, use_model_defaults, custom_generate, **kwargs)\u001b[39m\n\u001b[32m   2528\u001b[39m     \u001b[38;5;28;01mreturn\u001b[39;00m GenerationMixin.generate(\n\u001b[32m   2529\u001b[39m         \u001b[38;5;28mself\u001b[39m,\n\u001b[32m   2530\u001b[39m         inputs,\n\u001b[32m   (...)\u001b[39m\u001b[32m   2534\u001b[39m         **kwargs,\n\u001b[32m   2535\u001b[39m     )\n\u001b[32m   2537\u001b[39m \u001b[38;5;28;01melif\u001b[39;00m generation_mode \u001b[38;5;129;01min\u001b[39;00m (GenerationMode.SAMPLE, GenerationMode.GREEDY_SEARCH):\n\u001b[32m   2538\u001b[39m     \u001b[38;5;66;03m# 11. run sample (it degenerates to greedy search when `generation_config.do_sample=False`)\u001b[39;00m\n\u001b[32m-> \u001b[39m\u001b[32m2539\u001b[39m     result = \u001b[38;5;28;43mself\u001b[39;49m\u001b[43m.\u001b[49m\u001b[43m_sample\u001b[49m\u001b[43m(\u001b[49m\n\u001b[32m   2540\u001b[39m \u001b[43m        \u001b[49m\u001b[43minput_ids\u001b[49m\u001b[43m,\u001b[49m\n\u001b[32m   2541\u001b[39m \u001b[43m        \u001b[49m\u001b[43mlogits_processor\u001b[49m\u001b[43m=\u001b[49m\u001b[43mprepared_logits_processor\u001b[49m\u001b[43m,\u001b[49m\n\u001b[32m   2542\u001b[39m \u001b[43m        \u001b[49m\u001b[43mstopping_criteria\u001b[49m\u001b[43m=\u001b[49m\u001b[43mprepared_stopping_criteria\u001b[49m\u001b[43m,\u001b[49m\n\u001b[32m   2543\u001b[39m \u001b[43m        \u001b[49m\u001b[43mgeneration_config\u001b[49m\u001b[43m=\u001b[49m\u001b[43mgeneration_config\u001b[49m\u001b[43m,\u001b[49m\n\u001b[32m   2544\u001b[39m \u001b[43m        \u001b[49m\u001b[43msynced_gpus\u001b[49m\u001b[43m=\u001b[49m\u001b[43msynced_gpus\u001b[49m\u001b[43m,\u001b[49m\n\u001b[32m   2545\u001b[39m \u001b[43m        \u001b[49m\u001b[43mstreamer\u001b[49m\u001b[43m=\u001b[49m\u001b[43mstreamer\u001b[49m\u001b[43m,\u001b[49m\n\u001b[32m   2546\u001b[39m \u001b[43m        \u001b[49m\u001b[43m*\u001b[49m\u001b[43m*\u001b[49m\u001b[43mmodel_kwargs\u001b[49m\u001b[43m,\u001b[49m\n\u001b[32m   2547\u001b[39m \u001b[43m    \u001b[49m\u001b[43m)\u001b[49m\n\u001b[32m   2549\u001b[39m \u001b[38;5;28;01melif\u001b[39;00m generation_mode \u001b[38;5;129;01min\u001b[39;00m (GenerationMode.BEAM_SAMPLE, GenerationMode.BEAM_SEARCH):\n\u001b[32m   2550\u001b[39m     \u001b[38;5;66;03m# 11. run beam sample\u001b[39;00m\n\u001b[32m   2551\u001b[39m     result = \u001b[38;5;28mself\u001b[39m._beam_search(\n\u001b[32m   2552\u001b[39m         input_ids,\n\u001b[32m   2553\u001b[39m         logits_processor=prepared_logits_processor,\n\u001b[32m   (...)\u001b[39m\u001b[32m   2557\u001b[39m         **model_kwargs,\n\u001b[32m   2558\u001b[39m     )\n",
                  "\u001b[36mFile \u001b[39m\u001b[32mc:\\Users\\sampath\\Dev\\TCS_GenAI_Hackaton\\.venv\\Lib\\site-packages\\transformers\\generation\\utils.py:2912\u001b[39m, in \u001b[36mGenerationMixin._sample\u001b[39m\u001b[34m(self, input_ids, logits_processor, stopping_criteria, generation_config, synced_gpus, streamer, **model_kwargs)\u001b[39m\n\u001b[32m   2910\u001b[39m     probs = nn.functional.softmax(next_token_scores, dim=-\u001b[32m1\u001b[39m)\n\u001b[32m   2911\u001b[39m     \u001b[38;5;66;03m# TODO (joao): this OP throws \"skipping cudagraphs due to ['incompatible ops']\", find solution\u001b[39;00m\n\u001b[32m-> \u001b[39m\u001b[32m2912\u001b[39m     next_tokens = \u001b[43mtorch\u001b[49m\u001b[43m.\u001b[49m\u001b[43mmultinomial\u001b[49m\u001b[43m(\u001b[49m\u001b[43mprobs\u001b[49m\u001b[43m,\u001b[49m\u001b[43m \u001b[49m\u001b[43mnum_samples\u001b[49m\u001b[43m=\u001b[49m\u001b[32;43m1\u001b[39;49m\u001b[43m)\u001b[49m.squeeze(\u001b[32m1\u001b[39m)\n\u001b[32m   2913\u001b[39m \u001b[38;5;28;01melse\u001b[39;00m:\n\u001b[32m   2914\u001b[39m     next_tokens = torch.argmax(next_token_scores, dim=-\u001b[32m1\u001b[39m)\n",
                  "\u001b[31mRuntimeError\u001b[39m: probability tensor contains either `inf`, `nan` or element < 0"
               ]
            }
         ],
         "source": [
            "# ----------------------------\n",
            "# 7. Ask questions!\n",
            "# ----------------------------\n",
            "query = \"You are an AI assistant analyzing a document. Summarize the candidate's skills\"\n",
            "\n",
            "result = qa.invoke(query)"
         ]
      },
      {
         "cell_type": "code",
         "execution_count": null,
         "id": "0729c8ed",
         "metadata": {},
         "outputs": [
            {
               "name": "stdout",
               "output_type": "stream",
               "text": [
                  " Yes, this is a resume. Helpful Answer: Yes, this is a resume. Helpful Answer: Yes, this is a profile. Helpful Answer: Yes, this is a profile. Helpful Answer: Yes, this is a resume. Helpful Answer: Yes, this is a resume. Helpful Answer: Yes, this is a professional profile on LinkedIn. Helpful Answer: Yes, this is a professional profile on LinkedIn. Helpful Answer: Yes, this is a resume. Helpful Answer: Yes, this is a profile. Helpful Answer: Yes, it is a resume. Helpful Answer: Yes, this is a LinkedIn profile. Helpful Answer: Yes, this is a resume. Helpful Answer: Yes, it is a LinkedIn profile. Helpful Answer: Yes, this is a professional resume. Helpful Answer: Yes, this is a resume. Helpful Answer: Yes, this is a profile. Helpful Answer: Yes, this is a resume. Helpful Answer: Yes, this is a professional resume. Helpful Answer: Yes, this is a LinkedIn profile. Helpful Answer: Yes, it is a profile. Helpful Answer: Yes, it is a resume. Helpful Answer: Yes, this is a professional profile. Helpful Answer: Yes, it is a LinkedIn profile. Helpful Answer: Yes, it is a resume. Helpful Answer: Yes, this is a professional resume. Helpful Answer: Yes, it is a LinkedIn profile. Helpful Answer: Yes, it is a profile. Helpful Answer: Yes, it is a resume. Helpful Answer: Yes, it is a LinkedIn profile. Helpful Answer: Yes, this is a professional resume. Helpful Answer: Yes, it is a LinkedIn profile. Helpful Answer: Yes, it is a resume. Helpful Answer: Yes, this is a profile. Helpful Answer: Yes, it is a LinkedIn profile. Helpful Answer: Yes, it is a profile. Helpful Answer: Yes, it is a LinkedIn profile. Helpful Answer: Yes, it is a LinkedIn profile. Helpful Answer: Yes, this is a LinkedIn profile. Helpful Answer: Yes, it is a LinkedIn profile. Helpful Answer: Yes, it is a LinkedIn profile. Helpful Answer: Yes, it is a LinkedIn profile. Helpful Answer: Yes, it is a LinkedIn profile. Helpful Answer: Yes, it is a LinkedIn profile. Helpful Answer: Yes, it is a LinkedIn profile. Helpful Answer: Yes, it is a LinkedIn profile. Helpful Answer: Yes, it is a LinkedIn profile. Helpful Answer: Yes, it is a LinkedIn profile. Helpful Answer: Yes\n"
               ]
            }
         ],
         "source": [
            "print(result[\"result\"])"
         ]
      },
      {
         "cell_type": "code",
         "execution_count": null,
         "id": "89ee7882",
         "metadata": {},
         "outputs": [],
         "source": []
      }
   ],
   "metadata": {
      "kernelspec": {
         "display_name": "tcs-genai-hackaton",
         "language": "python",
         "name": "python3"
      },
      "language_info": {
         "codemirror_mode": {
            "name": "ipython",
            "version": 3
         },
         "file_extension": ".py",
         "mimetype": "text/x-python",
         "name": "python",
         "nbconvert_exporter": "python",
         "pygments_lexer": "ipython3",
         "version": "3.12.11"
      }
   },
   "nbformat": 4,
   "nbformat_minor": 5
}